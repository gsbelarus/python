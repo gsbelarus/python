{
 "cells": [
  {
   "cell_type": "markdown",
   "metadata": {},
   "source": [
    "## Задание:\n",
    "\n",
    "Проанализировать датафрейм статистики NBA. (файл nba.csv) Вывести:\n",
    "\n",
    "1. Проранжировать бюджет команд на зарплату от самого высокого до самого низкого.\n",
    "2. 10 наиболее высокооплачиваемых игроков в лиге.\n",
    "3. 3 наиболее высооплачиваемых игроков в каждой команде.\n",
    "4. Предложить первые пятерки каждой команды на основе их зарплаты (учитывайте, что в первой пятерке на каждой позиции один игрок (см. рисунок)).\n",
    "5. Самая молодая и самая возростная команда в лиге.\n",
    "6. Наиболее часто используемый номер игрока в лиге.\n",
    "7. Имя и рост самого высокого и самого низкого игрока в лиге в метрической системе.\n",
    "\n",
    "P.S. Возможные пропуски в зарплатной ведомости заполнить медианным значением зарплаты команды игрока с пропуском."
   ]
  },
  {
   "cell_type": "markdown",
   "metadata": {},
   "source": [
    "### Подготовка данных:\n",
    "\n",
    "Загружаем данные, попутно конвертируя номер игрока в строку, возраст в целое число и рост в метрическую систему."
   ]
  },
  {
   "cell_type": "code",
   "execution_count": 1,
   "metadata": {},
   "outputs": [],
   "source": [
    "import pandas as pd\n",
    "\n",
    "def float2str(n):\n",
    "    return str(int(float(n) if n > '' else 0))\n",
    "\n",
    "def float2int(n):\n",
    "    return int(float(n) if n > '' else 0)\n",
    "\n",
    "def imp2metric(n):\n",
    "    if n > '':\n",
    "        arr = n.split('-')\n",
    "        if len(arr) == 2:\n",
    "            return int(round(int(arr[0]) * 30.48 + int(arr[1]) * 2.54))\n",
    "        else:\n",
    "            return 0\n",
    "    else:\n",
    "        return 0\n",
    "\n",
    "whole_data = pd.read_csv('nba.csv', \n",
    "                         delimiter = ',', \n",
    "                         converters = { \n",
    "                             'Number': float2str,  \n",
    "                             'Age': float2int,\n",
    "                             'Height': imp2metric\n",
    "                         })\n"
   ]
  },
  {
   "cell_type": "markdown",
   "metadata": {},
   "source": [
    "Строки без имени игрока не несут никакой информации. Убираем:"
   ]
  },
  {
   "cell_type": "code",
   "execution_count": 2,
   "metadata": {},
   "outputs": [],
   "source": [
    "data = whole_data[whole_data['Name'] > '']"
   ]
  },
  {
   "cell_type": "markdown",
   "metadata": {},
   "source": [
    "Посмотрим, где пусто:"
   ]
  },
  {
   "cell_type": "code",
   "execution_count": 3,
   "metadata": {},
   "outputs": [
    {
     "name": "stdout",
     "output_type": "stream",
     "text": [
      "Name         0\n",
      "Team         0\n",
      "Number       0\n",
      "Position     0\n",
      "Age          0\n",
      "Height       0\n",
      "Weight       0\n",
      "College     84\n",
      "Salary      11\n",
      "dtype: int64\n"
     ]
    }
   ],
   "source": [
    "print(data.isnull().sum())"
   ]
  },
  {
   "cell_type": "markdown",
   "metadata": {},
   "source": [
    "Колледж нас не интересует, а зарплату заполним медианным значением, взятым по команде."
   ]
  },
  {
   "cell_type": "code",
   "execution_count": 4,
   "metadata": {},
   "outputs": [],
   "source": [
    "grouped = data.groupby('Team')\n",
    "res = []\n",
    "for team in data.Team.unique():\n",
    "    by_team = grouped.get_group(team)\n",
    "    median = by_team['Salary'].median()    \n",
    "    res.append(by_team.fillna({ 'Salary': median }))\n",
    "data = pd.concat(res)    \n"
   ]
  },
  {
   "cell_type": "markdown",
   "metadata": {},
   "source": [
    "### Задание 1:\n",
    "\n",
    "Бюджеты команд в порядке убывания:"
   ]
  },
  {
   "cell_type": "code",
   "execution_count": 5,
   "metadata": {},
   "outputs": [
    {
     "name": "stdout",
     "output_type": "stream",
     "text": [
      "{'Team': 'Cleveland Cavaliers', 'Salary': 111963689.0}\n",
      "{'Team': 'Los Angeles Clippers', 'Salary': 94854640.0}\n",
      "{'Team': 'Memphis Grizzlies', 'Salary': 94726918.0}\n",
      "{'Team': 'Oklahoma City Thunder', 'Salary': 93765298.0}\n",
      "{'Team': 'Golden State Warriors', 'Salary': 88868997.0}\n",
      "{'Team': 'Miami Heat', 'Salary': 87479113.0}\n",
      "{'Team': 'Chicago Bulls', 'Salary': 86783378.0}\n",
      "{'Team': 'San Antonio Spurs', 'Salary': 84442733.0}\n",
      "{'Team': 'New Orleans Pelicans', 'Salary': 82750774.0}\n",
      "{'Team': 'Charlotte Hornets', 'Salary': 78340920.0}\n",
      "{'Team': 'Washington Wizards', 'Salary': 76328636.0}\n",
      "{'Team': 'Houston Rockets', 'Salary': 75283021.0}\n",
      "{'Team': 'New York Knicks', 'Salary': 73303898.0}\n",
      "{'Team': 'Atlanta Hawks', 'Salary': 72902950.0}\n",
      "{'Team': 'Los Angeles Lakers', 'Salary': 71770431.0}\n",
      "{'Team': 'Sacramento Kings', 'Salary': 71683666.0}\n",
      "{'Team': 'Dallas Mavericks', 'Salary': 71198732.0}\n",
      "{'Team': 'Toronto Raptors', 'Salary': 71117611.0}\n",
      "{'Team': 'Milwaukee Bucks', 'Salary': 69603517.0}\n",
      "{'Team': 'Detroit Pistons', 'Salary': 67168263.0}\n",
      "{'Team': 'Indiana Pacers', 'Salary': 66751826.0}\n",
      "{'Team': 'Phoenix Suns', 'Salary': 63445135.0}\n",
      "{'Team': 'Utah Jazz', 'Salary': 63060091.0}\n",
      "{'Team': 'Denver Nuggets', 'Salary': 63028930.0}\n",
      "{'Team': 'Minnesota Timberwolves', 'Salary': 61858057.0}\n",
      "{'Team': 'Boston Celtics', 'Salary': 61562310.5}\n",
      "{'Team': 'Orlando Magic', 'Salary': 60161470.0}\n",
      "{'Team': 'Brooklyn Nets', 'Salary': 52528475.0}\n",
      "{'Team': 'Portland Trail Blazers', 'Salary': 48301818.0}\n",
      "{'Team': 'Philadelphia 76ers', 'Salary': 32029978.5}\n"
     ]
    }
   ],
   "source": [
    "grouped = data.groupby('Team')\n",
    "res = []\n",
    "for team in data.Team.unique():\n",
    "    by_team = grouped.get_group(team)\n",
    "    res.append({ 'Team': team, 'Salary': by_team['Salary'].sum() })   \n",
    "res.sort(key = lambda n: n['Salary'], reverse = True)    \n",
    "print(*res, sep='\\n')"
   ]
  },
  {
   "cell_type": "markdown",
   "metadata": {},
   "source": [
    "### Задание 2:\n",
    "\n",
    "10 наиболее высокооплачиваемых игроков в лиге."
   ]
  },
  {
   "cell_type": "code",
   "execution_count": 6,
   "metadata": {},
   "outputs": [
    {
     "name": "stdout",
     "output_type": "stream",
     "text": [
      "                Name      Salary\n",
      "109      Kobe Bryant  25000000.0\n",
      "169     LeBron James  22970500.0\n",
      "33   Carmelo Anthony  22875000.0\n",
      "251    Dwight Howard  22359364.0\n",
      "339       Chris Bosh  22192730.0\n",
      "100       Chris Paul  21468695.0\n",
      "414     Kevin Durant  20158622.0\n",
      "164     Derrick Rose  20093064.0\n",
      "349      Dwyane Wade  20000000.0\n",
      "174       Kevin Love  19689000.0\n"
     ]
    }
   ],
   "source": [
    "data.sort_values('Salary', inplace = True, ascending = False)\n",
    "print(data.head(10)[['Name', 'Salary']])"
   ]
  },
  {
   "cell_type": "markdown",
   "metadata": {},
   "source": [
    "### Задание 3:\n",
    "3 наиболее высооплачиваемых игрока в каждой команде."
   ]
  },
  {
   "cell_type": "code",
   "execution_count": 7,
   "metadata": {},
   "outputs": [
    {
     "name": "stdout",
     "output_type": "stream",
     "text": [
      "Los Angeles Lakers\n",
      "               Name      Salary\n",
      "109     Kobe Bryant  25000000.0\n",
      "111     Roy Hibbert  15592217.0\n",
      "118  Louis Williams   7000000.0\n",
      "\n",
      "\n",
      "Cleveland Cavaliers\n",
      "             Name      Salary\n",
      "169  LeBron James  22970500.0\n",
      "174    Kevin Love  19689000.0\n",
      "168  Kyrie Irving  16407501.0\n",
      "\n",
      "\n",
      "New York Knicks\n",
      "               Name      Salary\n",
      "33  Carmelo Anthony  22875000.0\n",
      "38      Robin Lopez  12650000.0\n",
      "30    Arron Afflalo   8000000.0\n",
      "\n",
      "\n",
      "Houston Rockets\n",
      "              Name      Salary\n",
      "251  Dwight Howard  22359364.0\n",
      "249   James Harden  15756438.0\n",
      "245   Corey Brewer   8229375.0\n",
      "\n",
      "\n",
      "Miami Heat\n",
      "             Name      Salary\n",
      "339    Chris Bosh  22192730.0\n",
      "349   Dwyane Wade  20000000.0\n",
      "341  Goran Dragic  14783000.0\n",
      "\n",
      "\n",
      "Los Angeles Clippers\n",
      "               Name      Salary\n",
      "100      Chris Paul  21468695.0\n",
      "98   DeAndre Jordan  19689000.0\n",
      "96    Blake Griffin  18907726.0\n",
      "\n",
      "\n",
      "Oklahoma City Thunder\n",
      "                  Name      Salary\n",
      "414       Kevin Durant  20158622.0\n",
      "426  Russell Westbrook  16744218.0\n",
      "418        Enes Kanter  16407500.0\n",
      "\n",
      "\n",
      "Chicago Bulls\n",
      "             Name      Salary\n",
      "164  Derrick Rose  20093064.0\n",
      "153  Jimmy Butler  16407500.0\n",
      "162   Joakim Noah  13400000.0\n",
      "\n",
      "\n",
      "Brooklyn Nets\n",
      "              Name      Salary\n",
      "23     Brook Lopez  19689000.0\n",
      "29  Thaddeus Young  11235955.0\n",
      "19    Jarrett Jack   6300000.0\n",
      "\n",
      "\n",
      "San Antonio Spurs\n",
      "                  Name      Salary\n",
      "294  LaMarcus Aldridge  19689000.0\n",
      "301      Kawhi Leonard  16407500.0\n",
      "306        Tony Parker  13437500.0\n",
      "\n",
      "\n",
      "Memphis Grizzlies\n",
      "              Name      Salary\n",
      "265     Marc Gasol  19688000.0\n",
      "271  Zach Randolph   9638555.0\n",
      "262    Mike Conley   9588426.0\n",
      "\n",
      "\n",
      "Atlanta Hawks\n",
      "               Name      Salary\n",
      "315    Paul Millsap  18671659.0\n",
      "312      Al Horford  12000000.0\n",
      "321  Tiago Splitter   9756250.0\n",
      "\n",
      "\n",
      "Indiana Pacers\n",
      "            Name      Salary\n",
      "199  Paul George  17120106.0\n",
      "198  Monta Ellis  10300000.0\n",
      "200  George Hill   8000000.0\n",
      "\n",
      "\n",
      "Dallas Mavericks\n",
      "                 Name      Salary\n",
      "233   Wesley Matthews  16407500.0\n",
      "238  Chandler Parsons  15361500.0\n",
      "236     Dirk Nowitzki   8333334.0\n",
      "\n",
      "\n",
      "Milwaukee Bucks\n",
      "                Name      Salary\n",
      "220      Greg Monroe  16407500.0\n",
      "219  Khris Middleton  14700000.0\n",
      "218        O.J. Mayo   8000000.0\n",
      "\n",
      "\n",
      "Detroit Pistons\n",
      "               Name      Salary\n",
      "189   Tobias Harris  16000000.0\n",
      "191  Reggie Jackson  13913044.0\n",
      "182     Aron Baynes   6500000.0\n",
      "\n",
      "\n",
      "Washington Wizards\n",
      "              Name      Salary\n",
      "382      John Wall  15851950.0\n",
      "375   Nene Hilario  13000000.0\n",
      "373  Marcin Gortat  11217391.0\n",
      "\n",
      "\n",
      "Sacramento Kings\n",
      "                 Name      Salary\n",
      "143  DeMarcus Cousins  15851950.0\n",
      "146          Rudy Gay  12403101.0\n",
      "150       Rajon Rondo   9500000.0\n",
      "\n",
      "\n",
      "New Orleans Pelicans\n",
      "             Name      Salary\n",
      "288   Eric Gordon  15514031.0\n",
      "285  Tyreke Evans  10734586.0\n",
      "290  Jrue Holiday  10595507.0\n",
      "\n",
      "\n",
      "Golden State Warriors\n",
      "              Name      Salary\n",
      "89   Klay Thompson  15501000.0\n",
      "82  Draymond Green  14260870.0\n",
      "78    Andrew Bogut  13800000.0\n",
      "\n",
      "\n",
      "Utah Jazz\n",
      "               Name      Salary\n",
      "448  Gordon Hayward  15409570.0\n",
      "446  Derrick Favors  12000000.0\n",
      "444      Alec Burks   9463484.0\n",
      "\n",
      "\n",
      "Denver Nuggets\n",
      "                 Name      Salary\n",
      "388  Danilo Gallinari  14000000.0\n",
      "387    Kenneth Faried  11235955.0\n",
      "386   Wilson Chandler  10449438.0\n",
      "\n",
      "\n",
      "Toronto Raptors\n",
      "               Name      Salary\n",
      "63  DeMarre Carroll  13600000.0\n",
      "67       Kyle Lowry  12000000.0\n",
      "64    DeMar DeRozan  10050000.0\n",
      "\n",
      "\n",
      "Charlotte Hornets\n",
      "              Name      Salary\n",
      "330   Al Jefferson  13500000.0\n",
      "324  Nicolas Batum  13125306.0\n",
      "336   Kemba Walker  12000000.0\n",
      "\n",
      "\n",
      "Phoenix Suns\n",
      "               Name      Salary\n",
      "121    Eric Bledsoe  13500000.0\n",
      "127  Brandon Knight  13500000.0\n",
      "124  Tyson Chandler  13000000.0\n",
      "\n",
      "\n",
      "Minnesota Timberwolves\n",
      "               Name      Salary\n",
      "407     Ricky Rubio  12700000.0\n",
      "405  Nikola Pekovic  12100000.0\n",
      "400   Kevin Garnett   8500000.0\n",
      "\n",
      "\n",
      "Boston Celtics\n",
      "             Name      Salary\n",
      "5    Amir Johnson  12000000.0\n",
      "0   Avery Bradley   7730337.0\n",
      "11  Isaiah Thomas   6912869.0\n",
      "\n",
      "\n",
      "Orlando Magic\n",
      "                 Name      Salary\n",
      "366    Nikola Vucevic  11250000.0\n",
      "359  Brandon Jennings   8344497.0\n",
      "358    Ersan Ilyasova   7900000.0\n",
      "\n",
      "\n",
      "Portland Trail Blazers\n",
      "                 Name     Salary\n",
      "428   Al-Farouq Aminu  8042895.0\n",
      "431          Ed Davis  6980802.0\n",
      "433  Gerald Henderson  6000000.0\n",
      "\n",
      "\n",
      "Philadelphia 76ers\n",
      "             Name     Salary\n",
      "52    Carl Landry  6500000.0\n",
      "49    Joel Embiid  4626960.0\n",
      "56  Jahlil Okafor  4582680.0\n",
      "\n",
      "\n"
     ]
    }
   ],
   "source": [
    "grouped = data.groupby('Team')\n",
    "for team in data.Team.unique():\n",
    "    by_team = grouped.get_group(team).sort_values('Salary', ascending = False)\n",
    "    print(team)\n",
    "    print(by_team.head(3)[['Name', 'Salary']])\n",
    "    print('\\n')\n"
   ]
  },
  {
   "cell_type": "markdown",
   "metadata": {},
   "source": [
    "### Задание 4:\n",
    "Предложить первые пятерки каждой команды на основе их зарплаты (учитывайте, что в первой пятерке на каждой позиции один игрок (см. рисунок))."
   ]
  },
  {
   "cell_type": "code",
   "execution_count": 13,
   "metadata": {
    "scrolled": false
   },
   "outputs": [
    {
     "name": "stdout",
     "output_type": "stream",
     "text": [
      "Boston Celtics\n",
      "=========================\n",
      "PG -- Avery Bradley\n",
      "SG -- Evan Turner\n",
      "SF -- Jae Crowder\n",
      "PF -- Amir Johnson\n",
      "C -- Tyler Zeller\n",
      "\n",
      "\n",
      "Phoenix Suns\n",
      "=========================\n",
      "PG -- Eric Bledsoe\n",
      "SG -- Devin Booker\n",
      "SF -- P.J. Tucker\n",
      "PF -- Mirza Teletovic\n",
      "C -- Tyson Chandler\n",
      "\n",
      "\n",
      "Indiana Pacers\n",
      "=========================\n",
      "PG -- George Hill\n",
      "SG -- Monta Ellis\n",
      "SF -- Paul George\n",
      "PF -- Lavoy Allen\n",
      "C -- Jordan Hill\n",
      "\n",
      "\n",
      "Brooklyn Nets\n",
      "=========================\n",
      "PG -- Jarrett Jack\n",
      "SG -- Bojan Bogdanovic\n"
     ]
    },
    {
     "ename": "IndexError",
     "evalue": "single positional indexer is out-of-bounds",
     "output_type": "error",
     "traceback": [
      "\u001b[1;31m---------------------------------------------------------------------------\u001b[0m",
      "\u001b[1;31mIndexError\u001b[0m                                Traceback (most recent call last)",
      "\u001b[1;32m<ipython-input-13-611e713d26d6>\u001b[0m in \u001b[0;36m<module>\u001b[1;34m\u001b[0m\n\u001b[0;32m      6\u001b[0m     \u001b[0mprint\u001b[0m\u001b[1;33m(\u001b[0m\u001b[1;34m'========================='\u001b[0m\u001b[1;33m)\u001b[0m\u001b[1;33m\u001b[0m\u001b[1;33m\u001b[0m\u001b[0m\n\u001b[0;32m      7\u001b[0m     \u001b[1;32mfor\u001b[0m \u001b[0mposition\u001b[0m \u001b[1;32min\u001b[0m \u001b[0mpositions\u001b[0m\u001b[1;33m:\u001b[0m\u001b[1;33m\u001b[0m\u001b[1;33m\u001b[0m\u001b[0m\n\u001b[1;32m----> 8\u001b[1;33m       \u001b[0mprint\u001b[0m\u001b[1;33m(\u001b[0m\u001b[1;34m'{0} -- {1}'\u001b[0m\u001b[1;33m.\u001b[0m\u001b[0mformat\u001b[0m\u001b[1;33m(\u001b[0m\u001b[0mposition\u001b[0m\u001b[1;33m,\u001b[0m \u001b[0mby_team\u001b[0m\u001b[1;33m[\u001b[0m\u001b[0mby_team\u001b[0m\u001b[1;33m.\u001b[0m\u001b[0mPosition\u001b[0m \u001b[1;33m==\u001b[0m \u001b[0mposition\u001b[0m\u001b[1;33m]\u001b[0m\u001b[1;33m.\u001b[0m\u001b[0miloc\u001b[0m\u001b[1;33m[\u001b[0m\u001b[1;36m0\u001b[0m\u001b[1;33m]\u001b[0m\u001b[1;33m[\u001b[0m\u001b[1;34m'Name'\u001b[0m\u001b[1;33m]\u001b[0m\u001b[1;33m)\u001b[0m\u001b[1;33m)\u001b[0m\u001b[1;33m\u001b[0m\u001b[1;33m\u001b[0m\u001b[0m\n\u001b[0m\u001b[0;32m      9\u001b[0m     \u001b[0mprint\u001b[0m\u001b[1;33m(\u001b[0m\u001b[1;34m'\\n'\u001b[0m\u001b[1;33m)\u001b[0m\u001b[1;33m\u001b[0m\u001b[1;33m\u001b[0m\u001b[0m\n\u001b[0;32m     10\u001b[0m \u001b[1;33m\u001b[0m\u001b[0m\n",
      "\u001b[1;32mc:\\users\\andreik\\appdata\\local\\programs\\python\\python38\\lib\\site-packages\\pandas\\core\\indexing.py\u001b[0m in \u001b[0;36m__getitem__\u001b[1;34m(self, key)\u001b[0m\n\u001b[0;32m    877\u001b[0m \u001b[1;33m\u001b[0m\u001b[0m\n\u001b[0;32m    878\u001b[0m             \u001b[0mmaybe_callable\u001b[0m \u001b[1;33m=\u001b[0m \u001b[0mcom\u001b[0m\u001b[1;33m.\u001b[0m\u001b[0mapply_if_callable\u001b[0m\u001b[1;33m(\u001b[0m\u001b[0mkey\u001b[0m\u001b[1;33m,\u001b[0m \u001b[0mself\u001b[0m\u001b[1;33m.\u001b[0m\u001b[0mobj\u001b[0m\u001b[1;33m)\u001b[0m\u001b[1;33m\u001b[0m\u001b[1;33m\u001b[0m\u001b[0m\n\u001b[1;32m--> 879\u001b[1;33m             \u001b[1;32mreturn\u001b[0m \u001b[0mself\u001b[0m\u001b[1;33m.\u001b[0m\u001b[0m_getitem_axis\u001b[0m\u001b[1;33m(\u001b[0m\u001b[0mmaybe_callable\u001b[0m\u001b[1;33m,\u001b[0m \u001b[0maxis\u001b[0m\u001b[1;33m=\u001b[0m\u001b[0maxis\u001b[0m\u001b[1;33m)\u001b[0m\u001b[1;33m\u001b[0m\u001b[1;33m\u001b[0m\u001b[0m\n\u001b[0m\u001b[0;32m    880\u001b[0m \u001b[1;33m\u001b[0m\u001b[0m\n\u001b[0;32m    881\u001b[0m     \u001b[1;32mdef\u001b[0m \u001b[0m_is_scalar_access\u001b[0m\u001b[1;33m(\u001b[0m\u001b[0mself\u001b[0m\u001b[1;33m,\u001b[0m \u001b[0mkey\u001b[0m\u001b[1;33m:\u001b[0m \u001b[0mTuple\u001b[0m\u001b[1;33m)\u001b[0m\u001b[1;33m:\u001b[0m\u001b[1;33m\u001b[0m\u001b[1;33m\u001b[0m\u001b[0m\n",
      "\u001b[1;32mc:\\users\\andreik\\appdata\\local\\programs\\python\\python38\\lib\\site-packages\\pandas\\core\\indexing.py\u001b[0m in \u001b[0;36m_getitem_axis\u001b[1;34m(self, key, axis)\u001b[0m\n\u001b[0;32m   1494\u001b[0m \u001b[1;33m\u001b[0m\u001b[0m\n\u001b[0;32m   1495\u001b[0m             \u001b[1;31m# validate the location\u001b[0m\u001b[1;33m\u001b[0m\u001b[1;33m\u001b[0m\u001b[1;33m\u001b[0m\u001b[0m\n\u001b[1;32m-> 1496\u001b[1;33m             \u001b[0mself\u001b[0m\u001b[1;33m.\u001b[0m\u001b[0m_validate_integer\u001b[0m\u001b[1;33m(\u001b[0m\u001b[0mkey\u001b[0m\u001b[1;33m,\u001b[0m \u001b[0maxis\u001b[0m\u001b[1;33m)\u001b[0m\u001b[1;33m\u001b[0m\u001b[1;33m\u001b[0m\u001b[0m\n\u001b[0m\u001b[0;32m   1497\u001b[0m \u001b[1;33m\u001b[0m\u001b[0m\n\u001b[0;32m   1498\u001b[0m             \u001b[1;32mreturn\u001b[0m \u001b[0mself\u001b[0m\u001b[1;33m.\u001b[0m\u001b[0mobj\u001b[0m\u001b[1;33m.\u001b[0m\u001b[0m_ixs\u001b[0m\u001b[1;33m(\u001b[0m\u001b[0mkey\u001b[0m\u001b[1;33m,\u001b[0m \u001b[0maxis\u001b[0m\u001b[1;33m=\u001b[0m\u001b[0maxis\u001b[0m\u001b[1;33m)\u001b[0m\u001b[1;33m\u001b[0m\u001b[1;33m\u001b[0m\u001b[0m\n",
      "\u001b[1;32mc:\\users\\andreik\\appdata\\local\\programs\\python\\python38\\lib\\site-packages\\pandas\\core\\indexing.py\u001b[0m in \u001b[0;36m_validate_integer\u001b[1;34m(self, key, axis)\u001b[0m\n\u001b[0;32m   1435\u001b[0m         \u001b[0mlen_axis\u001b[0m \u001b[1;33m=\u001b[0m \u001b[0mlen\u001b[0m\u001b[1;33m(\u001b[0m\u001b[0mself\u001b[0m\u001b[1;33m.\u001b[0m\u001b[0mobj\u001b[0m\u001b[1;33m.\u001b[0m\u001b[0m_get_axis\u001b[0m\u001b[1;33m(\u001b[0m\u001b[0maxis\u001b[0m\u001b[1;33m)\u001b[0m\u001b[1;33m)\u001b[0m\u001b[1;33m\u001b[0m\u001b[1;33m\u001b[0m\u001b[0m\n\u001b[0;32m   1436\u001b[0m         \u001b[1;32mif\u001b[0m \u001b[0mkey\u001b[0m \u001b[1;33m>=\u001b[0m \u001b[0mlen_axis\u001b[0m \u001b[1;32mor\u001b[0m \u001b[0mkey\u001b[0m \u001b[1;33m<\u001b[0m \u001b[1;33m-\u001b[0m\u001b[0mlen_axis\u001b[0m\u001b[1;33m:\u001b[0m\u001b[1;33m\u001b[0m\u001b[1;33m\u001b[0m\u001b[0m\n\u001b[1;32m-> 1437\u001b[1;33m             \u001b[1;32mraise\u001b[0m \u001b[0mIndexError\u001b[0m\u001b[1;33m(\u001b[0m\u001b[1;34m\"single positional indexer is out-of-bounds\"\u001b[0m\u001b[1;33m)\u001b[0m\u001b[1;33m\u001b[0m\u001b[1;33m\u001b[0m\u001b[0m\n\u001b[0m\u001b[0;32m   1438\u001b[0m \u001b[1;33m\u001b[0m\u001b[0m\n\u001b[0;32m   1439\u001b[0m     \u001b[1;31m# -------------------------------------------------------------------\u001b[0m\u001b[1;33m\u001b[0m\u001b[1;33m\u001b[0m\u001b[1;33m\u001b[0m\u001b[0m\n",
      "\u001b[1;31mIndexError\u001b[0m: single positional indexer is out-of-bounds"
     ]
    }
   ],
   "source": [
    "positions = data.Position.unique()\n",
    "grouped = data.groupby('Team')\n",
    "for team in data.Team.unique():\n",
    "    by_team = grouped.get_group(team).sort_values('Salary', ascending = False)\n",
    "    print(team)\n",
    "    print('=========================')\n",
    "    for position in positions:\n",
    "      print('{0} -- {1}'.format(position, by_team[by_team.Position == position].iloc[0]['Name']))        \n",
    "    print('\\n') \n",
    "    \n",
    "    \n"
   ]
  },
  {
   "cell_type": "markdown",
   "metadata": {},
   "source": [
    "### Задание 5:\n",
    "Самая молодая и самая возростная команда в лиге."
   ]
  },
  {
   "cell_type": "code",
   "execution_count": 9,
   "metadata": {},
   "outputs": [
    {
     "name": "stdout",
     "output_type": "stream",
     "text": [
      "Самая молодая: Utah Jazz, средний возраст: 24.5\n",
      "Самая возрастная: San Antonio Spurs, средний возраст: 31.6\n"
     ]
    }
   ],
   "source": [
    "grouped = data.groupby('Team')\n",
    "res = []\n",
    "for team in data.Team.unique():\n",
    "    by_team = grouped.get_group(team)\n",
    "    res.append([team, round(by_team['Age'].mean(), 1)])\n",
    "res.sort(key = lambda n: n[1])    \n",
    "print('Самая молодая: {0}, средний возраст: {1}'.format(res[0][0], res[0][1]))\n",
    "print('Самая возрастная: {0}, средний возраст: {1}'.format(res[len(res) - 1][0], res[len(res) - 1][1]))\n"
   ]
  },
  {
   "cell_type": "markdown",
   "metadata": {},
   "source": [
    "### Задание 6:\n",
    "Наиболее часто используемый номер игрока в лиге."
   ]
  },
  {
   "cell_type": "code",
   "execution_count": 10,
   "metadata": {},
   "outputs": [
    {
     "name": "stdout",
     "output_type": "stream",
     "text": [
      "5\n"
     ]
    }
   ],
   "source": [
    "frequent_number = data['Number'].mode().iloc[0]\n",
    "print(frequent_number)"
   ]
  },
  {
   "cell_type": "markdown",
   "metadata": {},
   "source": [
    "### Задание 7:\n",
    "Имя и рост самого высокого и самого низкого игрока в лиге в метрической системе."
   ]
  },
  {
   "cell_type": "code",
   "execution_count": 11,
   "metadata": {},
   "outputs": [
    {
     "name": "stdout",
     "output_type": "stream",
     "text": [
      "Самый высокий: Walter Tavares, рост: 221 см\n",
      "Самый низкий: Isaiah Thomas, рост: 175 см\n"
     ]
    }
   ],
   "source": [
    "data.sort_values(by = 'Height', inplace = True)  \n",
    "print('Самый высокий: {0}, рост: {1} см'.format(data.tail(1).iloc[0]['Name'], data.tail(1).iloc[0]['Height']))\n",
    "print('Самый низкий: {0}, рост: {1} см'.format(data.head(1).iloc[0]['Name'], data.head(1).iloc[0]['Height']))\n"
   ]
  }
 ],
 "metadata": {
  "kernelspec": {
   "display_name": "Python 3",
   "language": "python",
   "name": "python3"
  },
  "language_info": {
   "codemirror_mode": {
    "name": "ipython",
    "version": 3
   },
   "file_extension": ".py",
   "mimetype": "text/x-python",
   "name": "python",
   "nbconvert_exporter": "python",
   "pygments_lexer": "ipython3",
   "version": "3.8.5"
  }
 },
 "nbformat": 4,
 "nbformat_minor": 4
}
