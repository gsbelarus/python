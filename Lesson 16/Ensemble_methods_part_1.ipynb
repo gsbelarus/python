{
 "cells": [
  {
   "cell_type": "markdown",
   "metadata": {},
   "source": [
    "# АНСАМБЛИ МОДЕЛЕЙ"
   ]
  },
  {
   "cell_type": "markdown",
   "metadata": {},
   "source": [
    "Загружаем библиотеки"
   ]
  },
  {
   "cell_type": "code",
   "execution_count": 29,
   "metadata": {},
   "outputs": [],
   "source": [
    "import matplotlib.pyplot as plt\n",
    "import pandas as pd\n",
    "import numpy as np\n",
    "import tqdm\n",
    "import seaborn as sns\n",
    "\n",
    "%matplotlib inline\n",
    "%config InlineBackend.figure_format = 'retina'\n",
    "\n",
    "# игнорировать предупреждения\n",
    "import warnings\n",
    "warnings.filterwarnings(\"ignore\")\n"
   ]
  },
  {
   "cell_type": "markdown",
   "metadata": {},
   "source": [
    "#### Предобработка"
   ]
  },
  {
   "cell_type": "code",
   "execution_count": 30,
   "metadata": {},
   "outputs": [],
   "source": [
    "from sklearn.preprocessing import StandardScaler\n",
    "from sklearn.model_selection import train_test_split"
   ]
  },
  {
   "cell_type": "markdown",
   "metadata": {},
   "source": [
    "#### Модели"
   ]
  },
  {
   "cell_type": "code",
   "execution_count": 31,
   "metadata": {},
   "outputs": [],
   "source": [
    "from sklearn.linear_model import LogisticRegression\n",
    "from sklearn.tree import DecisionTreeClassifier"
   ]
  },
  {
   "cell_type": "markdown",
   "metadata": {},
   "source": [
    "#### Метрики"
   ]
  },
  {
   "cell_type": "code",
   "execution_count": 32,
   "metadata": {},
   "outputs": [],
   "source": [
    "from sklearn.metrics import auc, roc_curve\n"
   ]
  },
  {
   "cell_type": "markdown",
   "metadata": {},
   "source": [
    "# Часть 1. Бэггинг"
   ]
  },
  {
   "cell_type": "markdown",
   "metadata": {},
   "source": [
    "## Описание задачи\n",
    "\n",
    "Используем данные страхового подразделения BNP Paribas\n",
    "\n",
    "Решается задача классификации страховых случаев:\n",
    "    1. Случаи, требующие дополнительных документов для подтвердения (0)\n",
    "    2. Случаи, которые можно подтверждать автоматически на основе имеющейся информации (1)"
   ]
  },
  {
   "cell_type": "markdown",
   "metadata": {},
   "source": [
    "## Загрузка данных"
   ]
  },
  {
   "cell_type": "code",
   "execution_count": 33,
   "metadata": {},
   "outputs": [
    {
     "data": {
      "text/html": [
       "<div>\n",
       "<style scoped>\n",
       "    .dataframe tbody tr th:only-of-type {\n",
       "        vertical-align: middle;\n",
       "    }\n",
       "\n",
       "    .dataframe tbody tr th {\n",
       "        vertical-align: top;\n",
       "    }\n",
       "\n",
       "    .dataframe thead th {\n",
       "        text-align: right;\n",
       "    }\n",
       "</style>\n",
       "<table border=\"1\" class=\"dataframe\">\n",
       "  <thead>\n",
       "    <tr style=\"text-align: right;\">\n",
       "      <th></th>\n",
       "      <th>ID</th>\n",
       "      <th>target</th>\n",
       "      <th>v1</th>\n",
       "      <th>v2</th>\n",
       "      <th>v3</th>\n",
       "      <th>v4</th>\n",
       "      <th>v5</th>\n",
       "      <th>v6</th>\n",
       "      <th>v7</th>\n",
       "      <th>v8</th>\n",
       "      <th>...</th>\n",
       "      <th>v122</th>\n",
       "      <th>v123</th>\n",
       "      <th>v124</th>\n",
       "      <th>v125</th>\n",
       "      <th>v126</th>\n",
       "      <th>v127</th>\n",
       "      <th>v128</th>\n",
       "      <th>v129</th>\n",
       "      <th>v130</th>\n",
       "      <th>v131</th>\n",
       "    </tr>\n",
       "  </thead>\n",
       "  <tbody>\n",
       "    <tr>\n",
       "      <th>0</th>\n",
       "      <td>3</td>\n",
       "      <td>1</td>\n",
       "      <td>1.335739</td>\n",
       "      <td>8.727474</td>\n",
       "      <td>C</td>\n",
       "      <td>3.921026</td>\n",
       "      <td>7.915266</td>\n",
       "      <td>2.599278</td>\n",
       "      <td>3.176895</td>\n",
       "      <td>0.012941</td>\n",
       "      <td>...</td>\n",
       "      <td>8.000000</td>\n",
       "      <td>1.989780</td>\n",
       "      <td>0.035754</td>\n",
       "      <td>AU</td>\n",
       "      <td>1.804126</td>\n",
       "      <td>3.113719</td>\n",
       "      <td>2.024285</td>\n",
       "      <td>0</td>\n",
       "      <td>0.636365</td>\n",
       "      <td>2.857144</td>\n",
       "    </tr>\n",
       "    <tr>\n",
       "      <th>1</th>\n",
       "      <td>4</td>\n",
       "      <td>1</td>\n",
       "      <td>NaN</td>\n",
       "      <td>NaN</td>\n",
       "      <td>C</td>\n",
       "      <td>NaN</td>\n",
       "      <td>9.191265</td>\n",
       "      <td>NaN</td>\n",
       "      <td>NaN</td>\n",
       "      <td>2.301630</td>\n",
       "      <td>...</td>\n",
       "      <td>NaN</td>\n",
       "      <td>NaN</td>\n",
       "      <td>0.598896</td>\n",
       "      <td>AF</td>\n",
       "      <td>NaN</td>\n",
       "      <td>NaN</td>\n",
       "      <td>1.957825</td>\n",
       "      <td>0</td>\n",
       "      <td>NaN</td>\n",
       "      <td>NaN</td>\n",
       "    </tr>\n",
       "    <tr>\n",
       "      <th>2</th>\n",
       "      <td>5</td>\n",
       "      <td>1</td>\n",
       "      <td>0.943877</td>\n",
       "      <td>5.310079</td>\n",
       "      <td>C</td>\n",
       "      <td>4.410969</td>\n",
       "      <td>5.326159</td>\n",
       "      <td>3.979592</td>\n",
       "      <td>3.928571</td>\n",
       "      <td>0.019645</td>\n",
       "      <td>...</td>\n",
       "      <td>9.333333</td>\n",
       "      <td>2.477596</td>\n",
       "      <td>0.013452</td>\n",
       "      <td>AE</td>\n",
       "      <td>1.773709</td>\n",
       "      <td>3.922193</td>\n",
       "      <td>1.120468</td>\n",
       "      <td>2</td>\n",
       "      <td>0.883118</td>\n",
       "      <td>1.176472</td>\n",
       "    </tr>\n",
       "    <tr>\n",
       "      <th>3</th>\n",
       "      <td>6</td>\n",
       "      <td>1</td>\n",
       "      <td>0.797415</td>\n",
       "      <td>8.304757</td>\n",
       "      <td>C</td>\n",
       "      <td>4.225930</td>\n",
       "      <td>11.627438</td>\n",
       "      <td>2.097700</td>\n",
       "      <td>1.987549</td>\n",
       "      <td>0.171947</td>\n",
       "      <td>...</td>\n",
       "      <td>7.018256</td>\n",
       "      <td>1.812795</td>\n",
       "      <td>0.002267</td>\n",
       "      <td>CJ</td>\n",
       "      <td>1.415230</td>\n",
       "      <td>2.954381</td>\n",
       "      <td>1.990847</td>\n",
       "      <td>1</td>\n",
       "      <td>1.677108</td>\n",
       "      <td>1.034483</td>\n",
       "    </tr>\n",
       "    <tr>\n",
       "      <th>4</th>\n",
       "      <td>8</td>\n",
       "      <td>1</td>\n",
       "      <td>NaN</td>\n",
       "      <td>NaN</td>\n",
       "      <td>C</td>\n",
       "      <td>NaN</td>\n",
       "      <td>NaN</td>\n",
       "      <td>NaN</td>\n",
       "      <td>NaN</td>\n",
       "      <td>NaN</td>\n",
       "      <td>...</td>\n",
       "      <td>NaN</td>\n",
       "      <td>NaN</td>\n",
       "      <td>NaN</td>\n",
       "      <td>Z</td>\n",
       "      <td>NaN</td>\n",
       "      <td>NaN</td>\n",
       "      <td>NaN</td>\n",
       "      <td>0</td>\n",
       "      <td>NaN</td>\n",
       "      <td>NaN</td>\n",
       "    </tr>\n",
       "    <tr>\n",
       "      <th>...</th>\n",
       "      <td>...</td>\n",
       "      <td>...</td>\n",
       "      <td>...</td>\n",
       "      <td>...</td>\n",
       "      <td>...</td>\n",
       "      <td>...</td>\n",
       "      <td>...</td>\n",
       "      <td>...</td>\n",
       "      <td>...</td>\n",
       "      <td>...</td>\n",
       "      <td>...</td>\n",
       "      <td>...</td>\n",
       "      <td>...</td>\n",
       "      <td>...</td>\n",
       "      <td>...</td>\n",
       "      <td>...</td>\n",
       "      <td>...</td>\n",
       "      <td>...</td>\n",
       "      <td>...</td>\n",
       "      <td>...</td>\n",
       "      <td>...</td>\n",
       "    </tr>\n",
       "    <tr>\n",
       "      <th>114316</th>\n",
       "      <td>228708</td>\n",
       "      <td>1</td>\n",
       "      <td>NaN</td>\n",
       "      <td>NaN</td>\n",
       "      <td>C</td>\n",
       "      <td>NaN</td>\n",
       "      <td>NaN</td>\n",
       "      <td>NaN</td>\n",
       "      <td>NaN</td>\n",
       "      <td>NaN</td>\n",
       "      <td>...</td>\n",
       "      <td>NaN</td>\n",
       "      <td>NaN</td>\n",
       "      <td>NaN</td>\n",
       "      <td>AL</td>\n",
       "      <td>NaN</td>\n",
       "      <td>NaN</td>\n",
       "      <td>NaN</td>\n",
       "      <td>0</td>\n",
       "      <td>NaN</td>\n",
       "      <td>NaN</td>\n",
       "    </tr>\n",
       "    <tr>\n",
       "      <th>114317</th>\n",
       "      <td>228710</td>\n",
       "      <td>1</td>\n",
       "      <td>NaN</td>\n",
       "      <td>NaN</td>\n",
       "      <td>C</td>\n",
       "      <td>NaN</td>\n",
       "      <td>NaN</td>\n",
       "      <td>NaN</td>\n",
       "      <td>NaN</td>\n",
       "      <td>NaN</td>\n",
       "      <td>...</td>\n",
       "      <td>NaN</td>\n",
       "      <td>NaN</td>\n",
       "      <td>NaN</td>\n",
       "      <td>E</td>\n",
       "      <td>NaN</td>\n",
       "      <td>NaN</td>\n",
       "      <td>NaN</td>\n",
       "      <td>1</td>\n",
       "      <td>NaN</td>\n",
       "      <td>NaN</td>\n",
       "    </tr>\n",
       "    <tr>\n",
       "      <th>114318</th>\n",
       "      <td>228711</td>\n",
       "      <td>1</td>\n",
       "      <td>NaN</td>\n",
       "      <td>NaN</td>\n",
       "      <td>C</td>\n",
       "      <td>NaN</td>\n",
       "      <td>10.069277</td>\n",
       "      <td>NaN</td>\n",
       "      <td>NaN</td>\n",
       "      <td>0.323324</td>\n",
       "      <td>...</td>\n",
       "      <td>NaN</td>\n",
       "      <td>NaN</td>\n",
       "      <td>0.156764</td>\n",
       "      <td>Q</td>\n",
       "      <td>NaN</td>\n",
       "      <td>NaN</td>\n",
       "      <td>2.417606</td>\n",
       "      <td>2</td>\n",
       "      <td>NaN</td>\n",
       "      <td>NaN</td>\n",
       "    </tr>\n",
       "    <tr>\n",
       "      <th>114319</th>\n",
       "      <td>228712</td>\n",
       "      <td>1</td>\n",
       "      <td>NaN</td>\n",
       "      <td>NaN</td>\n",
       "      <td>C</td>\n",
       "      <td>NaN</td>\n",
       "      <td>10.106144</td>\n",
       "      <td>NaN</td>\n",
       "      <td>NaN</td>\n",
       "      <td>0.309226</td>\n",
       "      <td>...</td>\n",
       "      <td>NaN</td>\n",
       "      <td>NaN</td>\n",
       "      <td>0.490658</td>\n",
       "      <td>BW</td>\n",
       "      <td>NaN</td>\n",
       "      <td>NaN</td>\n",
       "      <td>3.526650</td>\n",
       "      <td>0</td>\n",
       "      <td>NaN</td>\n",
       "      <td>NaN</td>\n",
       "    </tr>\n",
       "    <tr>\n",
       "      <th>114320</th>\n",
       "      <td>228713</td>\n",
       "      <td>1</td>\n",
       "      <td>1.619763</td>\n",
       "      <td>7.932978</td>\n",
       "      <td>C</td>\n",
       "      <td>4.640085</td>\n",
       "      <td>8.473141</td>\n",
       "      <td>2.351470</td>\n",
       "      <td>2.826766</td>\n",
       "      <td>3.479754</td>\n",
       "      <td>...</td>\n",
       "      <td>7.936508</td>\n",
       "      <td>2.944285</td>\n",
       "      <td>3.135205</td>\n",
       "      <td>V</td>\n",
       "      <td>1.943149</td>\n",
       "      <td>4.385553</td>\n",
       "      <td>1.604493</td>\n",
       "      <td>0</td>\n",
       "      <td>1.787610</td>\n",
       "      <td>1.386138</td>\n",
       "    </tr>\n",
       "  </tbody>\n",
       "</table>\n",
       "<p>114321 rows × 133 columns</p>\n",
       "</div>"
      ],
      "text/plain": [
       "            ID  target        v1        v2 v3        v4         v5        v6  \\\n",
       "0            3       1  1.335739  8.727474  C  3.921026   7.915266  2.599278   \n",
       "1            4       1       NaN       NaN  C       NaN   9.191265       NaN   \n",
       "2            5       1  0.943877  5.310079  C  4.410969   5.326159  3.979592   \n",
       "3            6       1  0.797415  8.304757  C  4.225930  11.627438  2.097700   \n",
       "4            8       1       NaN       NaN  C       NaN        NaN       NaN   \n",
       "...        ...     ...       ...       ... ..       ...        ...       ...   \n",
       "114316  228708       1       NaN       NaN  C       NaN        NaN       NaN   \n",
       "114317  228710       1       NaN       NaN  C       NaN        NaN       NaN   \n",
       "114318  228711       1       NaN       NaN  C       NaN  10.069277       NaN   \n",
       "114319  228712       1       NaN       NaN  C       NaN  10.106144       NaN   \n",
       "114320  228713       1  1.619763  7.932978  C  4.640085   8.473141  2.351470   \n",
       "\n",
       "              v7        v8  ...      v122      v123      v124  v125      v126  \\\n",
       "0       3.176895  0.012941  ...  8.000000  1.989780  0.035754    AU  1.804126   \n",
       "1            NaN  2.301630  ...       NaN       NaN  0.598896    AF       NaN   \n",
       "2       3.928571  0.019645  ...  9.333333  2.477596  0.013452    AE  1.773709   \n",
       "3       1.987549  0.171947  ...  7.018256  1.812795  0.002267    CJ  1.415230   \n",
       "4            NaN       NaN  ...       NaN       NaN       NaN     Z       NaN   \n",
       "...          ...       ...  ...       ...       ...       ...   ...       ...   \n",
       "114316       NaN       NaN  ...       NaN       NaN       NaN    AL       NaN   \n",
       "114317       NaN       NaN  ...       NaN       NaN       NaN     E       NaN   \n",
       "114318       NaN  0.323324  ...       NaN       NaN  0.156764     Q       NaN   \n",
       "114319       NaN  0.309226  ...       NaN       NaN  0.490658    BW       NaN   \n",
       "114320  2.826766  3.479754  ...  7.936508  2.944285  3.135205     V  1.943149   \n",
       "\n",
       "            v127      v128  v129      v130      v131  \n",
       "0       3.113719  2.024285     0  0.636365  2.857144  \n",
       "1            NaN  1.957825     0       NaN       NaN  \n",
       "2       3.922193  1.120468     2  0.883118  1.176472  \n",
       "3       2.954381  1.990847     1  1.677108  1.034483  \n",
       "4            NaN       NaN     0       NaN       NaN  \n",
       "...          ...       ...   ...       ...       ...  \n",
       "114316       NaN       NaN     0       NaN       NaN  \n",
       "114317       NaN       NaN     1       NaN       NaN  \n",
       "114318       NaN  2.417606     2       NaN       NaN  \n",
       "114319       NaN  3.526650     0       NaN       NaN  \n",
       "114320  4.385553  1.604493     0  1.787610  1.386138  \n",
       "\n",
       "[114321 rows x 133 columns]"
      ]
     },
     "execution_count": 33,
     "metadata": {},
     "output_type": "execute_result"
    }
   ],
   "source": [
    "data = pd.read_csv('../Data/Paribas.csv')\n",
    "data"
   ]
  },
  {
   "cell_type": "code",
   "execution_count": 34,
   "metadata": {},
   "outputs": [
    {
     "data": {
      "text/plain": [
       "(114321, 133)"
      ]
     },
     "execution_count": 34,
     "metadata": {},
     "output_type": "execute_result"
    }
   ],
   "source": [
    "data.shape"
   ]
  },
  {
   "cell_type": "markdown",
   "metadata": {},
   "source": [
    "#### Уменьшим размер данных для ускорения обучения, возмем случайную подвыборку 20% данных со стратификацией"
   ]
  },
  {
   "cell_type": "code",
   "execution_count": 35,
   "metadata": {},
   "outputs": [],
   "source": [
    "from sklearn.model_selection import StratifiedShuffleSplit\n",
    "\n",
    "random_splitter = StratifiedShuffleSplit(n_splits=1, test_size=0.2, random_state=42)\n",
    "\n",
    "for train_index, test_index in random_splitter.split(data, data.target):\n",
    "    data = data.iloc[test_index]"
   ]
  },
  {
   "cell_type": "code",
   "execution_count": 36,
   "metadata": {},
   "outputs": [
    {
     "data": {
      "text/plain": [
       "(22865, 133)"
      ]
     },
     "execution_count": 36,
     "metadata": {},
     "output_type": "execute_result"
    }
   ],
   "source": [
    "data.shape"
   ]
  },
  {
   "cell_type": "code",
   "execution_count": 37,
   "metadata": {},
   "outputs": [],
   "source": [
    "X = data.drop(columns=['target'], axis=1)\n",
    "y = data['target']\n"
   ]
  },
  {
   "cell_type": "markdown",
   "metadata": {},
   "source": [
    "## Первичный анализ"
   ]
  },
  {
   "cell_type": "markdown",
   "metadata": {},
   "source": [
    "Размер датасета"
   ]
  },
  {
   "cell_type": "code",
   "execution_count": 38,
   "metadata": {},
   "outputs": [
    {
     "data": {
      "text/html": [
       "<div>\n",
       "<style scoped>\n",
       "    .dataframe tbody tr th:only-of-type {\n",
       "        vertical-align: middle;\n",
       "    }\n",
       "\n",
       "    .dataframe tbody tr th {\n",
       "        vertical-align: top;\n",
       "    }\n",
       "\n",
       "    .dataframe thead th {\n",
       "        text-align: right;\n",
       "    }\n",
       "</style>\n",
       "<table border=\"1\" class=\"dataframe\">\n",
       "  <thead>\n",
       "    <tr style=\"text-align: right;\">\n",
       "      <th></th>\n",
       "      <th>ID</th>\n",
       "      <th>v1</th>\n",
       "      <th>v2</th>\n",
       "      <th>v3</th>\n",
       "      <th>v4</th>\n",
       "      <th>v5</th>\n",
       "      <th>v6</th>\n",
       "      <th>v7</th>\n",
       "      <th>v8</th>\n",
       "      <th>v9</th>\n",
       "      <th>...</th>\n",
       "      <th>v122</th>\n",
       "      <th>v123</th>\n",
       "      <th>v124</th>\n",
       "      <th>v125</th>\n",
       "      <th>v126</th>\n",
       "      <th>v127</th>\n",
       "      <th>v128</th>\n",
       "      <th>v129</th>\n",
       "      <th>v130</th>\n",
       "      <th>v131</th>\n",
       "    </tr>\n",
       "  </thead>\n",
       "  <tbody>\n",
       "    <tr>\n",
       "      <th>8575</th>\n",
       "      <td>17089</td>\n",
       "      <td>3.050292e-01</td>\n",
       "      <td>6.766281</td>\n",
       "      <td>C</td>\n",
       "      <td>4.903134</td>\n",
       "      <td>6.059179</td>\n",
       "      <td>3.231657</td>\n",
       "      <td>2.835945</td>\n",
       "      <td>0.061091</td>\n",
       "      <td>12.800001</td>\n",
       "      <td>...</td>\n",
       "      <td>9.199999</td>\n",
       "      <td>1.699687</td>\n",
       "      <td>4.573567e-07</td>\n",
       "      <td>BQ</td>\n",
       "      <td>1.522569</td>\n",
       "      <td>6.430339</td>\n",
       "      <td>1.323191</td>\n",
       "      <td>0</td>\n",
       "      <td>1.069767</td>\n",
       "      <td>4.347817e-01</td>\n",
       "    </tr>\n",
       "    <tr>\n",
       "      <th>80316</th>\n",
       "      <td>160383</td>\n",
       "      <td>3.008130e+00</td>\n",
       "      <td>3.937124</td>\n",
       "      <td>C</td>\n",
       "      <td>3.325194</td>\n",
       "      <td>5.003362</td>\n",
       "      <td>1.904763</td>\n",
       "      <td>3.228803</td>\n",
       "      <td>0.041753</td>\n",
       "      <td>10.465116</td>\n",
       "      <td>...</td>\n",
       "      <td>7.674419</td>\n",
       "      <td>2.858777</td>\n",
       "      <td>-3.448894e-07</td>\n",
       "      <td>CA</td>\n",
       "      <td>2.094563</td>\n",
       "      <td>4.486063</td>\n",
       "      <td>1.040218</td>\n",
       "      <td>0</td>\n",
       "      <td>1.525180</td>\n",
       "      <td>2.641509e+00</td>\n",
       "    </tr>\n",
       "    <tr>\n",
       "      <th>33514</th>\n",
       "      <td>67150</td>\n",
       "      <td>NaN</td>\n",
       "      <td>NaN</td>\n",
       "      <td>C</td>\n",
       "      <td>NaN</td>\n",
       "      <td>NaN</td>\n",
       "      <td>NaN</td>\n",
       "      <td>NaN</td>\n",
       "      <td>NaN</td>\n",
       "      <td>NaN</td>\n",
       "      <td>...</td>\n",
       "      <td>NaN</td>\n",
       "      <td>NaN</td>\n",
       "      <td>NaN</td>\n",
       "      <td>BV</td>\n",
       "      <td>NaN</td>\n",
       "      <td>NaN</td>\n",
       "      <td>NaN</td>\n",
       "      <td>0</td>\n",
       "      <td>NaN</td>\n",
       "      <td>NaN</td>\n",
       "    </tr>\n",
       "    <tr>\n",
       "      <th>48883</th>\n",
       "      <td>97656</td>\n",
       "      <td>NaN</td>\n",
       "      <td>NaN</td>\n",
       "      <td>C</td>\n",
       "      <td>NaN</td>\n",
       "      <td>NaN</td>\n",
       "      <td>NaN</td>\n",
       "      <td>NaN</td>\n",
       "      <td>NaN</td>\n",
       "      <td>NaN</td>\n",
       "      <td>...</td>\n",
       "      <td>NaN</td>\n",
       "      <td>NaN</td>\n",
       "      <td>NaN</td>\n",
       "      <td>AW</td>\n",
       "      <td>NaN</td>\n",
       "      <td>NaN</td>\n",
       "      <td>NaN</td>\n",
       "      <td>0</td>\n",
       "      <td>NaN</td>\n",
       "      <td>NaN</td>\n",
       "    </tr>\n",
       "    <tr>\n",
       "      <th>31430</th>\n",
       "      <td>63016</td>\n",
       "      <td>1.308962e+00</td>\n",
       "      <td>4.933135</td>\n",
       "      <td>C</td>\n",
       "      <td>4.888033</td>\n",
       "      <td>8.246621</td>\n",
       "      <td>3.411950</td>\n",
       "      <td>2.570755</td>\n",
       "      <td>1.066651</td>\n",
       "      <td>7.749287</td>\n",
       "      <td>...</td>\n",
       "      <td>5.527065</td>\n",
       "      <td>2.211345</td>\n",
       "      <td>1.543643e+00</td>\n",
       "      <td>AS</td>\n",
       "      <td>1.340914</td>\n",
       "      <td>4.775944</td>\n",
       "      <td>1.579274</td>\n",
       "      <td>0</td>\n",
       "      <td>1.614679</td>\n",
       "      <td>1.363637e+00</td>\n",
       "    </tr>\n",
       "    <tr>\n",
       "      <th>...</th>\n",
       "      <td>...</td>\n",
       "      <td>...</td>\n",
       "      <td>...</td>\n",
       "      <td>...</td>\n",
       "      <td>...</td>\n",
       "      <td>...</td>\n",
       "      <td>...</td>\n",
       "      <td>...</td>\n",
       "      <td>...</td>\n",
       "      <td>...</td>\n",
       "      <td>...</td>\n",
       "      <td>...</td>\n",
       "      <td>...</td>\n",
       "      <td>...</td>\n",
       "      <td>...</td>\n",
       "      <td>...</td>\n",
       "      <td>...</td>\n",
       "      <td>...</td>\n",
       "      <td>...</td>\n",
       "      <td>...</td>\n",
       "      <td>...</td>\n",
       "    </tr>\n",
       "    <tr>\n",
       "      <th>49877</th>\n",
       "      <td>99645</td>\n",
       "      <td>-1.753235e-07</td>\n",
       "      <td>5.965339</td>\n",
       "      <td>C</td>\n",
       "      <td>4.714759</td>\n",
       "      <td>7.410895</td>\n",
       "      <td>1.925925</td>\n",
       "      <td>2.740740</td>\n",
       "      <td>0.011324</td>\n",
       "      <td>8.461539</td>\n",
       "      <td>...</td>\n",
       "      <td>6.153845</td>\n",
       "      <td>1.501703</td>\n",
       "      <td>1.725611e-02</td>\n",
       "      <td>CA</td>\n",
       "      <td>1.770425</td>\n",
       "      <td>2.361110</td>\n",
       "      <td>1.795649</td>\n",
       "      <td>0</td>\n",
       "      <td>1.405406</td>\n",
       "      <td>9.788982e-07</td>\n",
       "    </tr>\n",
       "    <tr>\n",
       "      <th>17885</th>\n",
       "      <td>35830</td>\n",
       "      <td>1.533313e+00</td>\n",
       "      <td>6.583738</td>\n",
       "      <td>C</td>\n",
       "      <td>3.901417</td>\n",
       "      <td>9.986550</td>\n",
       "      <td>2.830730</td>\n",
       "      <td>2.135799</td>\n",
       "      <td>0.141440</td>\n",
       "      <td>11.118880</td>\n",
       "      <td>...</td>\n",
       "      <td>8.391609</td>\n",
       "      <td>2.524584</td>\n",
       "      <td>9.009328e-03</td>\n",
       "      <td>AT</td>\n",
       "      <td>1.426828</td>\n",
       "      <td>5.080492</td>\n",
       "      <td>1.609368</td>\n",
       "      <td>0</td>\n",
       "      <td>1.755224</td>\n",
       "      <td>1.768708e+00</td>\n",
       "    </tr>\n",
       "    <tr>\n",
       "      <th>68511</th>\n",
       "      <td>136771</td>\n",
       "      <td>4.205873e+00</td>\n",
       "      <td>1.377318</td>\n",
       "      <td>C</td>\n",
       "      <td>1.180630</td>\n",
       "      <td>7.148307</td>\n",
       "      <td>1.755606</td>\n",
       "      <td>1.768235</td>\n",
       "      <td>5.444887</td>\n",
       "      <td>5.672192</td>\n",
       "      <td>...</td>\n",
       "      <td>2.836096</td>\n",
       "      <td>13.573717</td>\n",
       "      <td>2.402558e+00</td>\n",
       "      <td>CC</td>\n",
       "      <td>2.065080</td>\n",
       "      <td>1.610356</td>\n",
       "      <td>1.122698</td>\n",
       "      <td>0</td>\n",
       "      <td>5.014285</td>\n",
       "      <td>2.051281e+00</td>\n",
       "    </tr>\n",
       "    <tr>\n",
       "      <th>73380</th>\n",
       "      <td>146394</td>\n",
       "      <td>2.198812e+00</td>\n",
       "      <td>6.934507</td>\n",
       "      <td>C</td>\n",
       "      <td>5.682795</td>\n",
       "      <td>10.380310</td>\n",
       "      <td>2.506753</td>\n",
       "      <td>2.447325</td>\n",
       "      <td>1.042693</td>\n",
       "      <td>7.305123</td>\n",
       "      <td>...</td>\n",
       "      <td>5.657015</td>\n",
       "      <td>1.522040</td>\n",
       "      <td>1.336137e+00</td>\n",
       "      <td>AC</td>\n",
       "      <td>1.391012</td>\n",
       "      <td>0.790114</td>\n",
       "      <td>3.840415</td>\n",
       "      <td>0</td>\n",
       "      <td>1.165562</td>\n",
       "      <td>3.333334e+00</td>\n",
       "    </tr>\n",
       "    <tr>\n",
       "      <th>68969</th>\n",
       "      <td>137705</td>\n",
       "      <td>NaN</td>\n",
       "      <td>NaN</td>\n",
       "      <td>C</td>\n",
       "      <td>NaN</td>\n",
       "      <td>NaN</td>\n",
       "      <td>NaN</td>\n",
       "      <td>NaN</td>\n",
       "      <td>NaN</td>\n",
       "      <td>NaN</td>\n",
       "      <td>...</td>\n",
       "      <td>NaN</td>\n",
       "      <td>NaN</td>\n",
       "      <td>NaN</td>\n",
       "      <td>P</td>\n",
       "      <td>NaN</td>\n",
       "      <td>NaN</td>\n",
       "      <td>NaN</td>\n",
       "      <td>0</td>\n",
       "      <td>NaN</td>\n",
       "      <td>NaN</td>\n",
       "    </tr>\n",
       "  </tbody>\n",
       "</table>\n",
       "<p>22865 rows × 132 columns</p>\n",
       "</div>"
      ],
      "text/plain": [
       "           ID            v1        v2 v3        v4         v5        v6  \\\n",
       "8575    17089  3.050292e-01  6.766281  C  4.903134   6.059179  3.231657   \n",
       "80316  160383  3.008130e+00  3.937124  C  3.325194   5.003362  1.904763   \n",
       "33514   67150           NaN       NaN  C       NaN        NaN       NaN   \n",
       "48883   97656           NaN       NaN  C       NaN        NaN       NaN   \n",
       "31430   63016  1.308962e+00  4.933135  C  4.888033   8.246621  3.411950   \n",
       "...       ...           ...       ... ..       ...        ...       ...   \n",
       "49877   99645 -1.753235e-07  5.965339  C  4.714759   7.410895  1.925925   \n",
       "17885   35830  1.533313e+00  6.583738  C  3.901417   9.986550  2.830730   \n",
       "68511  136771  4.205873e+00  1.377318  C  1.180630   7.148307  1.755606   \n",
       "73380  146394  2.198812e+00  6.934507  C  5.682795  10.380310  2.506753   \n",
       "68969  137705           NaN       NaN  C       NaN        NaN       NaN   \n",
       "\n",
       "             v7        v8         v9  ...      v122       v123          v124  \\\n",
       "8575   2.835945  0.061091  12.800001  ...  9.199999   1.699687  4.573567e-07   \n",
       "80316  3.228803  0.041753  10.465116  ...  7.674419   2.858777 -3.448894e-07   \n",
       "33514       NaN       NaN        NaN  ...       NaN        NaN           NaN   \n",
       "48883       NaN       NaN        NaN  ...       NaN        NaN           NaN   \n",
       "31430  2.570755  1.066651   7.749287  ...  5.527065   2.211345  1.543643e+00   \n",
       "...         ...       ...        ...  ...       ...        ...           ...   \n",
       "49877  2.740740  0.011324   8.461539  ...  6.153845   1.501703  1.725611e-02   \n",
       "17885  2.135799  0.141440  11.118880  ...  8.391609   2.524584  9.009328e-03   \n",
       "68511  1.768235  5.444887   5.672192  ...  2.836096  13.573717  2.402558e+00   \n",
       "73380  2.447325  1.042693   7.305123  ...  5.657015   1.522040  1.336137e+00   \n",
       "68969       NaN       NaN        NaN  ...       NaN        NaN           NaN   \n",
       "\n",
       "       v125      v126      v127      v128  v129      v130          v131  \n",
       "8575     BQ  1.522569  6.430339  1.323191     0  1.069767  4.347817e-01  \n",
       "80316    CA  2.094563  4.486063  1.040218     0  1.525180  2.641509e+00  \n",
       "33514    BV       NaN       NaN       NaN     0       NaN           NaN  \n",
       "48883    AW       NaN       NaN       NaN     0       NaN           NaN  \n",
       "31430    AS  1.340914  4.775944  1.579274     0  1.614679  1.363637e+00  \n",
       "...     ...       ...       ...       ...   ...       ...           ...  \n",
       "49877    CA  1.770425  2.361110  1.795649     0  1.405406  9.788982e-07  \n",
       "17885    AT  1.426828  5.080492  1.609368     0  1.755224  1.768708e+00  \n",
       "68511    CC  2.065080  1.610356  1.122698     0  5.014285  2.051281e+00  \n",
       "73380    AC  1.391012  0.790114  3.840415     0  1.165562  3.333334e+00  \n",
       "68969     P       NaN       NaN       NaN     0       NaN           NaN  \n",
       "\n",
       "[22865 rows x 132 columns]"
      ]
     },
     "execution_count": 38,
     "metadata": {},
     "output_type": "execute_result"
    }
   ],
   "source": [
    "X"
   ]
  },
  {
   "cell_type": "markdown",
   "metadata": {},
   "source": [
    "Распределение значений таргета (event rate)"
   ]
  },
  {
   "cell_type": "code",
   "execution_count": 39,
   "metadata": {},
   "outputs": [
    {
     "data": {
      "text/plain": [
       "1    0.761207\n",
       "0    0.238793\n",
       "Name: target, dtype: float64"
      ]
     },
     "execution_count": 39,
     "metadata": {},
     "output_type": "execute_result"
    }
   ],
   "source": [
    "y.value_counts() / len(data)"
   ]
  },
  {
   "cell_type": "markdown",
   "metadata": {},
   "source": [
    "## Предобработка данных"
   ]
  },
  {
   "cell_type": "markdown",
   "metadata": {},
   "source": [
    "Находим категориальные признаки\n",
    "\n",
    "Чтобы в разы не увеличивать число признаков при построении dummy, будем использовать категориальные признаки с < 30 уникальных значений"
   ]
  },
  {
   "cell_type": "code",
   "execution_count": 40,
   "metadata": {},
   "outputs": [
    {
     "name": "stdout",
     "output_type": "stream",
     "text": [
      "<class 'pandas.core.frame.DataFrame'>\n",
      "Int64Index: 22865 entries, 8575 to 68969\n",
      "Data columns (total 132 columns):\n",
      " #    Column  Dtype  \n",
      "---   ------  -----  \n",
      " 0    ID      int64  \n",
      " 1    v1      float64\n",
      " 2    v2      float64\n",
      " 3    v3      object \n",
      " 4    v4      float64\n",
      " 5    v5      float64\n",
      " 6    v6      float64\n",
      " 7    v7      float64\n",
      " 8    v8      float64\n",
      " 9    v9      float64\n",
      " 10   v10     float64\n",
      " 11   v11     float64\n",
      " 12   v12     float64\n",
      " 13   v13     float64\n",
      " 14   v14     float64\n",
      " 15   v15     float64\n",
      " 16   v16     float64\n",
      " 17   v17     float64\n",
      " 18   v18     float64\n",
      " 19   v19     float64\n",
      " 20   v20     float64\n",
      " 21   v21     float64\n",
      " 22   v22     object \n",
      " 23   v23     float64\n",
      " 24   v24     object \n",
      " 25   v25     float64\n",
      " 26   v26     float64\n",
      " 27   v27     float64\n",
      " 28   v28     float64\n",
      " 29   v29     float64\n",
      " 30   v30     object \n",
      " 31   v31     object \n",
      " 32   v32     float64\n",
      " 33   v33     float64\n",
      " 34   v34     float64\n",
      " 35   v35     float64\n",
      " 36   v36     float64\n",
      " 37   v37     float64\n",
      " 38   v38     int64  \n",
      " 39   v39     float64\n",
      " 40   v40     float64\n",
      " 41   v41     float64\n",
      " 42   v42     float64\n",
      " 43   v43     float64\n",
      " 44   v44     float64\n",
      " 45   v45     float64\n",
      " 46   v46     float64\n",
      " 47   v47     object \n",
      " 48   v48     float64\n",
      " 49   v49     float64\n",
      " 50   v50     float64\n",
      " 51   v51     float64\n",
      " 52   v52     object \n",
      " 53   v53     float64\n",
      " 54   v54     float64\n",
      " 55   v55     float64\n",
      " 56   v56     object \n",
      " 57   v57     float64\n",
      " 58   v58     float64\n",
      " 59   v59     float64\n",
      " 60   v60     float64\n",
      " 61   v61     float64\n",
      " 62   v62     int64  \n",
      " 63   v63     float64\n",
      " 64   v64     float64\n",
      " 65   v65     float64\n",
      " 66   v66     object \n",
      " 67   v67     float64\n",
      " 68   v68     float64\n",
      " 69   v69     float64\n",
      " 70   v70     float64\n",
      " 71   v71     object \n",
      " 72   v72     int64  \n",
      " 73   v73     float64\n",
      " 74   v74     object \n",
      " 75   v75     object \n",
      " 76   v76     float64\n",
      " 77   v77     float64\n",
      " 78   v78     float64\n",
      " 79   v79     object \n",
      " 80   v80     float64\n",
      " 81   v81     float64\n",
      " 82   v82     float64\n",
      " 83   v83     float64\n",
      " 84   v84     float64\n",
      " 85   v85     float64\n",
      " 86   v86     float64\n",
      " 87   v87     float64\n",
      " 88   v88     float64\n",
      " 89   v89     float64\n",
      " 90   v90     float64\n",
      " 91   v91     object \n",
      " 92   v92     float64\n",
      " 93   v93     float64\n",
      " 94   v94     float64\n",
      " 95   v95     float64\n",
      " 96   v96     float64\n",
      " 97   v97     float64\n",
      " 98   v98     float64\n",
      " 99   v99     float64\n",
      " 100  v100    float64\n",
      " 101  v101    float64\n",
      " 102  v102    float64\n",
      " 103  v103    float64\n",
      " 104  v104    float64\n",
      " 105  v105    float64\n",
      " 106  v106    float64\n",
      " 107  v107    object \n",
      " 108  v108    float64\n",
      " 109  v109    float64\n",
      " 110  v110    object \n",
      " 111  v111    float64\n",
      " 112  v112    object \n",
      " 113  v113    object \n",
      " 114  v114    float64\n",
      " 115  v115    float64\n",
      " 116  v116    float64\n",
      " 117  v117    float64\n",
      " 118  v118    float64\n",
      " 119  v119    float64\n",
      " 120  v120    float64\n",
      " 121  v121    float64\n",
      " 122  v122    float64\n",
      " 123  v123    float64\n",
      " 124  v124    float64\n",
      " 125  v125    object \n",
      " 126  v126    float64\n",
      " 127  v127    float64\n",
      " 128  v128    float64\n",
      " 129  v129    int64  \n",
      " 130  v130    float64\n",
      " 131  v131    float64\n",
      "dtypes: float64(108), int64(5), object(19)\n",
      "memory usage: 23.2+ MB\n"
     ]
    }
   ],
   "source": [
    "X.info(verbose=True)"
   ]
  },
  {
   "cell_type": "code",
   "execution_count": 41,
   "metadata": {},
   "outputs": [],
   "source": [
    "for c in X.columns:\n",
    "    if (X[c].dtype == 'float64'):\n",
    "        X[c].fillna(X[c].mean(), inplace=True)\n",
    "    if (X[c].dtype == 'int64'):\n",
    "        X[c].fillna(X[c].mean(), inplace=True)        \n",
    "    if (X[c].dtype == 'object'):\n",
    "        X[c].fillna('NULL', inplace=True) \n",
    "        "
   ]
  },
  {
   "cell_type": "code",
   "execution_count": 42,
   "metadata": {},
   "outputs": [
    {
     "name": "stdout",
     "output_type": "stream",
     "text": [
      "<class 'pandas.core.frame.DataFrame'>\n",
      "Int64Index: 22865 entries, 8575 to 68969\n",
      "Data columns (total 132 columns):\n",
      " #    Column  Dtype  \n",
      "---   ------  -----  \n",
      " 0    ID      int64  \n",
      " 1    v1      float64\n",
      " 2    v2      float64\n",
      " 3    v3      object \n",
      " 4    v4      float64\n",
      " 5    v5      float64\n",
      " 6    v6      float64\n",
      " 7    v7      float64\n",
      " 8    v8      float64\n",
      " 9    v9      float64\n",
      " 10   v10     float64\n",
      " 11   v11     float64\n",
      " 12   v12     float64\n",
      " 13   v13     float64\n",
      " 14   v14     float64\n",
      " 15   v15     float64\n",
      " 16   v16     float64\n",
      " 17   v17     float64\n",
      " 18   v18     float64\n",
      " 19   v19     float64\n",
      " 20   v20     float64\n",
      " 21   v21     float64\n",
      " 22   v22     object \n",
      " 23   v23     float64\n",
      " 24   v24     object \n",
      " 25   v25     float64\n",
      " 26   v26     float64\n",
      " 27   v27     float64\n",
      " 28   v28     float64\n",
      " 29   v29     float64\n",
      " 30   v30     object \n",
      " 31   v31     object \n",
      " 32   v32     float64\n",
      " 33   v33     float64\n",
      " 34   v34     float64\n",
      " 35   v35     float64\n",
      " 36   v36     float64\n",
      " 37   v37     float64\n",
      " 38   v38     int64  \n",
      " 39   v39     float64\n",
      " 40   v40     float64\n",
      " 41   v41     float64\n",
      " 42   v42     float64\n",
      " 43   v43     float64\n",
      " 44   v44     float64\n",
      " 45   v45     float64\n",
      " 46   v46     float64\n",
      " 47   v47     object \n",
      " 48   v48     float64\n",
      " 49   v49     float64\n",
      " 50   v50     float64\n",
      " 51   v51     float64\n",
      " 52   v52     object \n",
      " 53   v53     float64\n",
      " 54   v54     float64\n",
      " 55   v55     float64\n",
      " 56   v56     object \n",
      " 57   v57     float64\n",
      " 58   v58     float64\n",
      " 59   v59     float64\n",
      " 60   v60     float64\n",
      " 61   v61     float64\n",
      " 62   v62     int64  \n",
      " 63   v63     float64\n",
      " 64   v64     float64\n",
      " 65   v65     float64\n",
      " 66   v66     object \n",
      " 67   v67     float64\n",
      " 68   v68     float64\n",
      " 69   v69     float64\n",
      " 70   v70     float64\n",
      " 71   v71     object \n",
      " 72   v72     int64  \n",
      " 73   v73     float64\n",
      " 74   v74     object \n",
      " 75   v75     object \n",
      " 76   v76     float64\n",
      " 77   v77     float64\n",
      " 78   v78     float64\n",
      " 79   v79     object \n",
      " 80   v80     float64\n",
      " 81   v81     float64\n",
      " 82   v82     float64\n",
      " 83   v83     float64\n",
      " 84   v84     float64\n",
      " 85   v85     float64\n",
      " 86   v86     float64\n",
      " 87   v87     float64\n",
      " 88   v88     float64\n",
      " 89   v89     float64\n",
      " 90   v90     float64\n",
      " 91   v91     object \n",
      " 92   v92     float64\n",
      " 93   v93     float64\n",
      " 94   v94     float64\n",
      " 95   v95     float64\n",
      " 96   v96     float64\n",
      " 97   v97     float64\n",
      " 98   v98     float64\n",
      " 99   v99     float64\n",
      " 100  v100    float64\n",
      " 101  v101    float64\n",
      " 102  v102    float64\n",
      " 103  v103    float64\n",
      " 104  v104    float64\n",
      " 105  v105    float64\n",
      " 106  v106    float64\n",
      " 107  v107    object \n",
      " 108  v108    float64\n",
      " 109  v109    float64\n",
      " 110  v110    object \n",
      " 111  v111    float64\n",
      " 112  v112    object \n",
      " 113  v113    object \n",
      " 114  v114    float64\n",
      " 115  v115    float64\n",
      " 116  v116    float64\n",
      " 117  v117    float64\n",
      " 118  v118    float64\n",
      " 119  v119    float64\n",
      " 120  v120    float64\n",
      " 121  v121    float64\n",
      " 122  v122    float64\n",
      " 123  v123    float64\n",
      " 124  v124    float64\n",
      " 125  v125    object \n",
      " 126  v126    float64\n",
      " 127  v127    float64\n",
      " 128  v128    float64\n",
      " 129  v129    int64  \n",
      " 130  v130    float64\n",
      " 131  v131    float64\n",
      "dtypes: float64(108), int64(5), object(19)\n",
      "memory usage: 23.2+ MB\n"
     ]
    }
   ],
   "source": [
    "X.info(verbose=True)"
   ]
  },
  {
   "cell_type": "code",
   "execution_count": 43,
   "metadata": {},
   "outputs": [],
   "source": [
    "for c in X.columns:\n",
    "    if (X[c].dtype == 'object'):\n",
    "      X[c] = X[c].astype('category')"
   ]
  },
  {
   "cell_type": "code",
   "execution_count": 44,
   "metadata": {},
   "outputs": [
    {
     "name": "stdout",
     "output_type": "stream",
     "text": [
      "<class 'pandas.core.frame.DataFrame'>\n",
      "Int64Index: 22865 entries, 8575 to 68969\n",
      "Data columns (total 132 columns):\n",
      " #    Column  Dtype   \n",
      "---   ------  -----   \n",
      " 0    ID      int64   \n",
      " 1    v1      float64 \n",
      " 2    v2      float64 \n",
      " 3    v3      category\n",
      " 4    v4      float64 \n",
      " 5    v5      float64 \n",
      " 6    v6      float64 \n",
      " 7    v7      float64 \n",
      " 8    v8      float64 \n",
      " 9    v9      float64 \n",
      " 10   v10     float64 \n",
      " 11   v11     float64 \n",
      " 12   v12     float64 \n",
      " 13   v13     float64 \n",
      " 14   v14     float64 \n",
      " 15   v15     float64 \n",
      " 16   v16     float64 \n",
      " 17   v17     float64 \n",
      " 18   v18     float64 \n",
      " 19   v19     float64 \n",
      " 20   v20     float64 \n",
      " 21   v21     float64 \n",
      " 22   v22     category\n",
      " 23   v23     float64 \n",
      " 24   v24     category\n",
      " 25   v25     float64 \n",
      " 26   v26     float64 \n",
      " 27   v27     float64 \n",
      " 28   v28     float64 \n",
      " 29   v29     float64 \n",
      " 30   v30     category\n",
      " 31   v31     category\n",
      " 32   v32     float64 \n",
      " 33   v33     float64 \n",
      " 34   v34     float64 \n",
      " 35   v35     float64 \n",
      " 36   v36     float64 \n",
      " 37   v37     float64 \n",
      " 38   v38     int64   \n",
      " 39   v39     float64 \n",
      " 40   v40     float64 \n",
      " 41   v41     float64 \n",
      " 42   v42     float64 \n",
      " 43   v43     float64 \n",
      " 44   v44     float64 \n",
      " 45   v45     float64 \n",
      " 46   v46     float64 \n",
      " 47   v47     category\n",
      " 48   v48     float64 \n",
      " 49   v49     float64 \n",
      " 50   v50     float64 \n",
      " 51   v51     float64 \n",
      " 52   v52     category\n",
      " 53   v53     float64 \n",
      " 54   v54     float64 \n",
      " 55   v55     float64 \n",
      " 56   v56     category\n",
      " 57   v57     float64 \n",
      " 58   v58     float64 \n",
      " 59   v59     float64 \n",
      " 60   v60     float64 \n",
      " 61   v61     float64 \n",
      " 62   v62     int64   \n",
      " 63   v63     float64 \n",
      " 64   v64     float64 \n",
      " 65   v65     float64 \n",
      " 66   v66     category\n",
      " 67   v67     float64 \n",
      " 68   v68     float64 \n",
      " 69   v69     float64 \n",
      " 70   v70     float64 \n",
      " 71   v71     category\n",
      " 72   v72     int64   \n",
      " 73   v73     float64 \n",
      " 74   v74     category\n",
      " 75   v75     category\n",
      " 76   v76     float64 \n",
      " 77   v77     float64 \n",
      " 78   v78     float64 \n",
      " 79   v79     category\n",
      " 80   v80     float64 \n",
      " 81   v81     float64 \n",
      " 82   v82     float64 \n",
      " 83   v83     float64 \n",
      " 84   v84     float64 \n",
      " 85   v85     float64 \n",
      " 86   v86     float64 \n",
      " 87   v87     float64 \n",
      " 88   v88     float64 \n",
      " 89   v89     float64 \n",
      " 90   v90     float64 \n",
      " 91   v91     category\n",
      " 92   v92     float64 \n",
      " 93   v93     float64 \n",
      " 94   v94     float64 \n",
      " 95   v95     float64 \n",
      " 96   v96     float64 \n",
      " 97   v97     float64 \n",
      " 98   v98     float64 \n",
      " 99   v99     float64 \n",
      " 100  v100    float64 \n",
      " 101  v101    float64 \n",
      " 102  v102    float64 \n",
      " 103  v103    float64 \n",
      " 104  v104    float64 \n",
      " 105  v105    float64 \n",
      " 106  v106    float64 \n",
      " 107  v107    category\n",
      " 108  v108    float64 \n",
      " 109  v109    float64 \n",
      " 110  v110    category\n",
      " 111  v111    float64 \n",
      " 112  v112    category\n",
      " 113  v113    category\n",
      " 114  v114    float64 \n",
      " 115  v115    float64 \n",
      " 116  v116    float64 \n",
      " 117  v117    float64 \n",
      " 118  v118    float64 \n",
      " 119  v119    float64 \n",
      " 120  v120    float64 \n",
      " 121  v121    float64 \n",
      " 122  v122    float64 \n",
      " 123  v123    float64 \n",
      " 124  v124    float64 \n",
      " 125  v125    category\n",
      " 126  v126    float64 \n",
      " 127  v127    float64 \n",
      " 128  v128    float64 \n",
      " 129  v129    int64   \n",
      " 130  v130    float64 \n",
      " 131  v131    float64 \n",
      "dtypes: category(19), float64(108), int64(5)\n",
      "memory usage: 20.7 MB\n"
     ]
    }
   ],
   "source": [
    "X.info(verbose=True)"
   ]
  },
  {
   "cell_type": "code",
   "execution_count": 45,
   "metadata": {},
   "outputs": [],
   "source": [
    "XX = X.copy()"
   ]
  },
  {
   "cell_type": "code",
   "execution_count": 46,
   "metadata": {},
   "outputs": [
    {
     "name": "stdout",
     "output_type": "stream",
     "text": [
      "ID      v1        v2        v3  v4        v5         v6        v7        v8        v9         v10       v11        v12       v13       v14        v15       v16       v17       v18       v19       v20        v21       v22   v23            v24  v25       v26       v27       v28       v29       v30   v31  v32       v33       v34       v35        v36        v37       v38  v39       v40        v41       v42        v43       v44        v45        v46       v47  v48        v49       v50       v51       v52  v53        v54       v55       v56  v57       v58        v59        v60       v61        v62  v63       v64       v65        v66  v67        v68        v69        v70        v71  v72  v73       v74  v75  v76       v77       v78        v79  v80       v81        v82        v83       v84       v85       v86       v87        v88       v89       v90       v91  v92       v93       v94       v95       v96       v97       v98        v99       v100       v101      v102      v103      v104      v105      v106       v107  v108      v109      v110  v111      v112  v113  v114       v115       v116      v117       v118      v119           v120      v121      v122      v123      v124      v125  v126      v127      v128      v129  v130      v131    \n",
      "5       0.943877  5.310079  C   4.410969  5.326159   3.979592  3.928571  0.019645  12.666667  0.765864  14.756098  6.384670  2.505589  9.603542   1.984127  5.882353  3.170847  0.244541  0.144258  17.952332  5.245035  FQ    -2.785053e-07  E    0.113997  2.244897  5.306122  0.836005  7.499999  NULL  A    1.454082  1.734693  4.043864  7.959184   12.730517  0.259740  0    7.378964  13.077201  6.173469  12.346939  2.926830  8.897561   5.343819   0.126035  C    12.711328  6.836734  0.604504  9.637627  F    15.102041  0.085573  0.765305  AS   4.030613  4.277456   9.105481   2.151361  16.075602  1    0.123643  5.517949  16.377205  A    8.367347   11.040463  5.882353   8.460654   B    3    2.413618  B    B    1.963971  5.918368  11.764705  E    3.333334  10.194433  8.266200   1.530611  1.530613  2.429906  1.071429  8.447465   3.367346  0.111388  0.811447  G    0.271480  5.156559  4.214944  0.309657  5.663265  5.974026  11.588858  0.841837  15.491329  5.879353  3.292788  5.924457  1.668401  0.008275  11.670572  C     1.375753  1.184211  B     3.367348  S     NULL  11.205561  12.941177  3.129253  3.478911   6.233767  -2.792745e-07  2.138728  2.238806  9.333333  2.477596  0.013452  AE    1.773709  3.922193  1.120468  2     0.883118  1.176472    1\n",
      "153704  0.931990  9.427098  C   4.695188  7.222595   1.914357  2.015113  0.015869  10.500001  1.050328  16.716418  6.663270  3.316255  11.354500  1.924819  4.444445  3.675989  0.108842  0.227855  17.957415  6.778588  AFCN  -2.356811e-07  D    0.242921  1.200672  1.914358  0.846696  9.269521  NULL  A    1.586901  1.813601  7.267367  10.377835  11.814397  0.500000  0    1.264478  8.266406   8.463475  13.400503  1.293532  10.839954  11.657423  0.110430  J    12.094618  9.370277  0.410828  7.361213  F    16.847826  0.087156  0.906800  DS   4.080604  0.389611   13.212556  1.108313  16.344705  1    0.135443  6.267162  16.482214  A    10.125945  18.311689  6.666667   15.375819  B    1    2.176617  B    B    2.287392  8.110831  14.444444  Q    2.000000  8.261296   8.867483   1.964735  1.209068  0.683760  1.284634  9.407934   2.518891  0.074969  1.147101  C    0.789923  5.466592  3.414859  0.859699  7.808564  6.000000  4.414739   1.293031  19.480520  9.286178  2.329045  5.086818  2.196518  0.008086  12.553397  D     2.010438  2.845396  A     3.627204  P     AB    15.105268  13.333333  1.304348  5.584174   6.499999  -4.623054e-07  0.519481  2.096775  8.499999  1.970543  0.005403  H     1.368258  1.605794  1.717625  0     1.799999  1.111112    1\n",
      "153905  1.636883  7.443242  C   4.139365  8.741405   2.434346  2.485115  1.519028  9.028518   1.575492  15.451105  6.295002  3.796436  11.636386  2.077279  4.940178  3.830451  0.843177  0.220710  17.777838  6.514980  MAM    1.120304e+00  E    1.705772  1.871240  2.750631  5.135046  8.192957  NULL  A    1.621217  2.167208  8.386826  8.108029   13.400061  0.744580  0    1.220362  7.024817   7.175150  12.915840  2.212734  10.796929  9.144186   1.639407  I    12.541933  8.007071  2.506052  7.196663  K    15.719074  1.256372  1.564715  DJ   4.075947  7.673817   10.571975  1.708921  14.580946  1    1.704365  6.342967  15.847596  C    9.276633   17.578697  9.461492   12.247475  F    1    2.433434  B    D    2.402855  7.299148  13.323475  I    2.224098  7.294881   6.196383   2.177003  1.616941  2.831744  1.216979  10.143881  1.913659  1.520129  0.966851  A    0.581424  5.464478  3.854374  0.664768  6.449502  7.600868  7.681576   1.249375  12.121820  6.841652  2.879989  5.302188  2.641800  1.087764  11.790293  E     2.142426  4.136198  A     3.372366  I     T     16.549624  10.538024  2.286783  8.304781   8.345822   3.187544e+00  1.291963  2.743685  6.804207  3.563903  0.925392  BM    1.671757  3.244528  2.015476  0     1.924526  1.736132    1\n",
      "153904  1.636883  7.443242  C   4.139365  8.741405   2.434346  2.485115  1.519028  9.028518   1.050329  15.451105  6.363381  3.796436  12.512039  2.077279  4.940178  3.830451  0.843177  0.220710  17.777838  7.841222  VTF    1.120304e+00  A    1.705772  1.871240  2.750631  5.135046  8.192957  C     A    1.621217  2.167208  3.191706  8.108029   13.400061  0.744580  0    1.220362  14.710948  7.175150  12.915840  2.212734  10.796929  9.144186   1.639407  I    12.541933  8.007071  1.244223  7.196663  L    15.719074  1.256372  1.564715  P    4.075947  7.673817   10.571975  1.708921  14.580946  1    1.704365  6.342967  15.847596  B    9.276633   17.578697  9.461492   12.247475  F    1    2.433434  B    D    2.402855  7.299148  13.323475  C    2.224098  7.294881   6.196383   2.177003  1.616941  2.831744  1.216979  10.143881  1.913659  1.520129  0.966851  C    0.581424  5.464478  3.854374  0.664768  6.449502  7.600868  7.681576   1.249375  12.121820  6.841652  2.879989  5.302188  2.641800  1.087764  11.790293  D     2.142426  4.136198  A     3.372366  NULL  G     9.770166   10.538024  2.286783  8.304781   8.345822   3.187544e+00  1.291963  2.743685  6.804207  3.563903  0.925392  F     1.671757  3.244528  2.015476  0     1.924526  1.736132    1\n",
      "153894  1.636883  7.443242  C   4.139365  8.741405   2.434346  2.485115  1.519028  9.028518   2.188184  15.451105  7.411783  3.796436  11.991919  2.077279  4.940178  3.830451  0.843177  0.220710  17.777838  6.628440  VKA    1.120304e+00  E    1.705772  1.871240  2.750631  5.135046  8.192957  NULL  A    1.621217  2.167208  6.450457  8.108029   13.400061  0.744580  0    1.220362  10.703278  7.175150  12.915840  2.212734  10.796929  9.144186   1.639407  I    12.541933  8.007071  0.652924  7.196663  B    15.719074  1.256372  1.564715  CN   4.075947  7.673817   10.571975  1.708921  14.580946  1    1.704365  6.342967  15.847596  A    9.276633   17.578697  9.461492   12.247475  F    1    2.433434  B    D    2.402855  7.299148  13.323475  C    2.224098  7.294881   6.196383   2.177003  1.616941  2.831744  1.216979  10.143881  1.913659  1.520129  0.966851  A    0.581424  5.464478  3.854374  0.664768  6.449502  7.600868  7.681576   1.249375  12.121820  6.841652  2.879989  5.302188  2.641800  1.087764  11.790293  E     2.142426  4.136198  A     3.372366  F     V     13.378928  10.538024  2.286783  8.304781   8.345822   3.187544e+00  1.291963  2.743685  6.804207  3.563903  0.925392  B     1.671757  3.244528  2.015476  0     1.924526  1.736132    1\n",
      "                                                                                                                                                                                                                                                                                                                                                                                                                                                                                                                                                                                                                                                                                                                                                                                                                                                                                                                                                                                                                                                                                                                                                                                                                                                                                                    ..\n",
      "75251   1.636883  7.443242  C   4.139365  8.741405   2.434346  2.485115  1.519028  9.028518   1.050329  15.451105  5.926749  3.796436  11.293431  2.077279  4.940178  3.830451  0.843177  0.220710  17.777838  6.762190  AIU    1.120304e+00  E    1.705772  1.871240  2.750631  5.135046  8.192957  NULL  A    1.621217  2.167208  3.748123  8.108029   13.400061  0.744580  0    1.220362  13.831126  7.175150  12.915840  2.212734  10.796929  9.144186   1.639407  I    12.541933  8.007071  2.457633  7.196663  G    15.719074  1.256372  1.564715  CY   4.075947  7.673817   10.571975  1.708921  14.580946  2    1.704365  6.342967  15.847596  B    9.276633   17.578697  9.461492   12.247475  F    2    2.433434  B    D    2.402855  7.299148  13.323475  C    2.224098  7.294881   6.196383   2.177003  1.616941  2.831744  1.216979  10.143881  1.913659  1.520129  0.966851  C    0.581424  5.464478  3.854374  0.664768  6.449502  7.600868  7.681576   1.249375  12.121820  6.841652  2.879989  5.302188  2.641800  1.087764  11.790293  D     2.142426  4.136198  A     3.372366  F     G     11.366323  10.538024  2.286783  8.304781   8.345822   3.187544e+00  1.291963  2.743685  6.804207  3.563903  0.925392  K     1.671757  3.244528  2.015476  0     1.924526  1.736132    1\n",
      "75247   0.801559  4.769594  C   4.372524  9.018157   2.842288  2.824956  0.118328  11.098266  2.603938  15.607043  7.520177  2.544301  13.835172  1.491096  5.747126  2.950019  1.326596  0.141100  18.552416  8.107872  ADWP   5.403604e-07  E    0.145920  2.240035  3.370884  4.932649  8.596187  C     B    1.247833  1.507799  8.361447  8.266898   14.788817  0.306748  3    7.181468  8.099993   7.296361  12.149046  2.613532  9.715940   8.590691   0.128899  C    13.559644  7.833623  1.200205  6.138671  K    15.826613  0.148938  1.143847  BW   4.176776  10.868406  10.224746  2.160602  13.880055  0    0.151334  5.144418  17.221570  A    9.350086   11.603624  10.114943  11.584771  F    4    1.853568  B    D    1.789645  6.828422  13.333333  B    2.890173  5.723877   12.755400  1.507800  1.299827  2.714508  0.922877  9.995717   3.778163  0.112186  0.824798  C    0.489935  5.175800  2.964490  0.533834  6.802427  8.343558  8.891808   1.668111  9.088972   5.696623  2.613046  3.806188  1.634088  0.075764  10.457749  D     2.208790  2.039474  B     2.287696  R     NULL  15.478017  10.114942  2.741935  3.889511   8.650307   1.878026e+00  1.747470  1.924779  8.208092  2.798340  0.008015  J     1.402714  4.419411  1.893875  1     1.067485  1.149425    1\n",
      "75244   1.636883  7.443242  C   4.139365  8.741405   2.434346  2.485115  1.519028  9.028518   2.625821  15.451105  7.646064  3.796436  12.306726  2.077279  4.940178  3.830451  0.843177  0.220710  17.777838  6.699045  LMC    1.120304e+00  D    1.705772  1.871240  2.750631  5.135046  8.192957  NULL  A    1.621217  2.167208  5.145321  8.108029   13.400061  0.744580  0    1.220362  13.207438  7.175150  12.915840  2.212734  10.796929  9.144186   1.639407  I    12.541933  8.007071  0.895019  7.196663  I    15.719074  1.256372  1.564715  DX   4.075947  7.673817   10.571975  1.708921  14.580946  1    1.704365  6.342967  15.847596  A    9.276633   17.578697  9.461492   12.247475  F    1    2.433434  B    D    2.402855  7.299148  13.323475  I    2.224098  7.294881   6.196383   2.177003  1.616941  2.831744  1.216979  10.143881  1.913659  1.520129  0.966851  B    0.581424  5.464478  3.854374  0.664768  6.449502  7.600868  7.681576   1.249375  12.121820  6.841652  2.879989  5.302188  2.641800  1.087764  11.790293  B     2.142426  4.136198  A     3.372366  L     AB    11.218753  10.538024  2.286783  8.304781   8.345822   3.187544e+00  1.291963  2.743685  6.804207  3.563903  0.925392  AT    1.671757  3.244528  2.015476  0     1.924526  1.736132    1\n",
      "75238   1.636883  7.443242  C   4.139365  8.741405   2.434346  2.485115  1.519028  9.028518   1.050328  15.451105  6.458416  3.796436  12.148606  2.077279  4.940178  3.830451  0.843177  0.220710  17.777838  7.477037  AALM   1.120304e+00  D    1.705772  1.871240  2.750631  5.135046  8.192957  C     A    1.621217  2.167208  7.133294  8.108029   13.400061  0.744580  0    1.220362  8.478402   7.175150  12.915840  2.212734  10.796929  9.144186   1.639407  I    12.541933  8.007071  0.980119  7.196663  L    15.719074  1.256372  1.564715  P    4.075947  7.673817   10.571975  1.708921  14.580946  1    1.704365  6.342967  15.847596  A    9.276633   17.578697  9.461492   12.247475  F    1    2.433434  B    D    2.402855  7.299148  13.323475  C    2.224098  7.294881   6.196383   2.177003  1.616941  2.831744  1.216979  10.143881  1.913659  1.520129  0.966851  C    0.581424  5.464478  3.854374  0.664768  6.449502  7.600868  7.681576   1.249375  12.121820  6.841652  2.879989  5.302188  2.641800  1.087764  11.790293  D     2.142426  4.136198  A     3.372366  J     I     15.152145  10.538024  2.286783  8.304781   8.345822   3.187544e+00  1.291963  2.743685  6.804207  3.563903  0.925392  E     1.671757  3.244528  2.015476  0     1.924526  1.736132    1\n",
      "228711  1.636883  7.443242  C   4.139365  10.069277  2.434346  2.485115  0.323324  9.028518   2.078775  15.451105  6.698925  3.796436  12.269012  2.077279  4.940178  3.830451  0.843177  0.220710  17.777838  6.570625  AGTG   1.120304e+00  A    0.296536  1.871240  2.750631  5.135046  8.192957  C     B    1.621217  2.167208  3.029508  8.108029   13.688847  0.744580  0    1.220362  16.002461  7.175150  12.915840  2.212734  10.796929  9.144186   0.251443  C    12.541933  8.007071  2.410681  7.196663  D    15.719074  0.066819  1.564715  BW   4.075947  7.673817   10.571975  1.708921  14.580946  1    0.281886  6.342967  15.847596  A    9.276633   17.578697  9.461492   9.402630   B    3    2.433434  B    B    2.402855  7.299148  13.323475  B    2.224098  6.070124   3.380753   2.177003  1.616941  2.831744  1.216979  11.603652  1.913659  0.257590  0.966851  G    0.581424  5.464478  3.854374  0.664768  6.449502  7.600868  11.939015  1.249375  12.121820  6.841652  2.879989  5.302188  2.641800  0.251912  11.790293  C     2.458328  5.834772  B     3.372366  R     NULL  8.893134   10.538024  2.286783  12.743060  8.345822   3.187544e+00  1.291963  2.743685  6.804207  3.563903  0.156764  Q     1.671757  3.244528  2.417606  2     1.924526  1.736132    1\n",
      "Length: 22865, dtype: int64\n"
     ]
    }
   ],
   "source": [
    "print(XX.value_counts())"
   ]
  },
  {
   "cell_type": "code",
   "execution_count": 47,
   "metadata": {},
   "outputs": [
    {
     "name": "stdout",
     "output_type": "stream",
     "text": [
      "v22 -- 8230\n",
      "v56 -- 102\n",
      "v113 -- 36\n",
      "v125 -- 91\n"
     ]
    }
   ],
   "source": [
    "for c in XX.columns:\n",
    "  if (XX[c].dtype.name == 'category'):\n",
    "    if (len(XX[c].unique()) > 29):\n",
    "      print('{0} -- {1}'.format(c, len(XX[c].unique())))"
   ]
  },
  {
   "cell_type": "code",
   "execution_count": 48,
   "metadata": {},
   "outputs": [],
   "source": [
    "from category_encoders.woe import WOEEncoder"
   ]
  },
  {
   "cell_type": "code",
   "execution_count": 49,
   "metadata": {},
   "outputs": [],
   "source": [
    "enc = WOEEncoder(cols=['v22', 'v56', 'v113', 'v125'], return_df=True)"
   ]
  },
  {
   "cell_type": "code",
   "execution_count": 50,
   "metadata": {},
   "outputs": [],
   "source": [
    "XX2 = enc.fit_transform(XX, y)"
   ]
  },
  {
   "cell_type": "code",
   "execution_count": 51,
   "metadata": {},
   "outputs": [
    {
     "data": {
      "text/plain": [
       "8575      DDQ\n",
       "80316    AHMR\n",
       "33514     IFA\n",
       "48883    AGLQ\n",
       "31430     MYC\n",
       "         ... \n",
       "49877     RNT\n",
       "17885    ACLO\n",
       "68511    ADDF\n",
       "73380    AGTW\n",
       "68969     HJQ\n",
       "Name: v22, Length: 22865, dtype: category\n",
       "Categories (8230, object): ['AA', 'AAA', 'AAAB', 'AAAF', ..., 'ZZS', 'ZZV', 'ZZW', 'ZZZ']"
      ]
     },
     "execution_count": 51,
     "metadata": {},
     "output_type": "execute_result"
    }
   ],
   "source": [
    "XX['v22']"
   ]
  },
  {
   "cell_type": "code",
   "execution_count": 52,
   "metadata": {},
   "outputs": [],
   "source": [
    "for c in X.columns:\n",
    "  if (X[c].dtype.name == 'category'):\n",
    "    if (len(X[c].unique()) > 29):\n",
    "      X.drop(c, axis=1, inplace=True)\n",
    "        "
   ]
  },
  {
   "cell_type": "code",
   "execution_count": 53,
   "metadata": {},
   "outputs": [],
   "source": [
    "X = pd.get_dummies(X)"
   ]
  },
  {
   "cell_type": "code",
   "execution_count": 54,
   "metadata": {},
   "outputs": [
    {
     "name": "stdout",
     "output_type": "stream",
     "text": [
      "<class 'pandas.core.frame.DataFrame'>\n",
      "Int64Index: 22865 entries, 8575 to 68969\n",
      "Columns: 228 entries, ID to v112_V\n",
      "dtypes: float64(108), int64(5), uint8(115)\n",
      "memory usage: 22.9 MB\n"
     ]
    }
   ],
   "source": [
    "X.info()"
   ]
  },
  {
   "cell_type": "markdown",
   "metadata": {},
   "source": [
    "#### Функция для подсчета  ROC AUC и постройки графика"
   ]
  },
  {
   "cell_type": "code",
   "execution_count": 55,
   "metadata": {},
   "outputs": [],
   "source": [
    "def calc_auc(y, y_pred, plot_label='', prin=True):\n",
    "    fpr, tpr, _ = roc_curve(y, y_pred)\n",
    "    auc_val = auc(fpr, tpr)\n",
    "    if prin:\n",
    "        print('ROC AUC: {0:.4f}'.format(auc_val))\n",
    "    if plot_label:\n",
    "        plt.plot(fpr, tpr, label=plot_label)\n",
    "        plt.xlabel('FPR')\n",
    "        plt.ylabel('TPR')\n",
    "    return auc_val"
   ]
  },
  {
   "cell_type": "code",
   "execution_count": 56,
   "metadata": {},
   "outputs": [],
   "source": [
    "X.drop('ID', axis=1, inplace=True)"
   ]
  },
  {
   "cell_type": "code",
   "execution_count": 57,
   "metadata": {},
   "outputs": [],
   "source": [
    "X_train, X_test, y_train, y_test = train_test_split(X, y, test_size=0.2, random_state=42)"
   ]
  },
  {
   "cell_type": "markdown",
   "metadata": {},
   "source": [
    "### Логистическая регрессия"
   ]
  },
  {
   "cell_type": "code",
   "execution_count": 58,
   "metadata": {},
   "outputs": [],
   "source": [
    "from sklearn.linear_model import LogisticRegression"
   ]
  },
  {
   "cell_type": "code",
   "execution_count": 59,
   "metadata": {},
   "outputs": [
    {
     "data": {
      "text/plain": [
       "46575     0\n",
       "109035    1\n",
       "12714     1\n",
       "88182     0\n",
       "12696     1\n",
       "         ..\n",
       "18276     0\n",
       "4315      1\n",
       "18826     1\n",
       "19631     1\n",
       "114144    1\n",
       "Name: target, Length: 18292, dtype: int64"
      ]
     },
     "execution_count": 59,
     "metadata": {},
     "output_type": "execute_result"
    }
   ],
   "source": [
    "y_train"
   ]
  },
  {
   "cell_type": "code",
   "execution_count": 60,
   "metadata": {},
   "outputs": [
    {
     "data": {
      "text/plain": [
       "0.7769516728624535"
      ]
     },
     "execution_count": 60,
     "metadata": {},
     "output_type": "execute_result"
    }
   ],
   "source": [
    "model = LogisticRegression().fit(X_train, y_train)\n",
    "model.score(X_test, y_test)"
   ]
  },
  {
   "cell_type": "code",
   "execution_count": 26,
   "metadata": {},
   "outputs": [
    {
     "name": "stdout",
     "output_type": "stream",
     "text": [
      "ROC AUC: 0.7142\n"
     ]
    },
    {
     "data": {
      "text/plain": [
       "0.7141525756787566"
      ]
     },
     "execution_count": 26,
     "metadata": {},
     "output_type": "execute_result"
    },
    {
     "data": {
      "image/png": "[encoded data removed]",
      "text/plain": [
       "<Figure size 432x288 with 1 Axes>"
      ]
     },
     "metadata": {
      "image/png": {
       "height": 261,
       "width": 385
      },
      "needs_background": "light"
     },
     "output_type": "display_data"
    }
   ],
   "source": [
    "calc_auc(y_test, model.predict_proba(X_test)[:,1], plot_label='LR')"
   ]
  },
  {
   "cell_type": "markdown",
   "metadata": {},
   "source": [
    "### Решающее дерево\n",
    "\n",
    "1. Неустойчивы к входным данным\n",
    "2. Склонны к переобучению\n",
    "3. Быстро обучаются\n",
    "\n",
    "=> хороший выбор для построения композиций\n"
   ]
  },
  {
   "cell_type": "markdown",
   "metadata": {},
   "source": [
    "Обучаем решающее дерево\n",
    "\n",
    "Ограничим глубину и минимальное кол-во объектов в листе для уменьшения переобучения"
   ]
  },
  {
   "cell_type": "markdown",
   "metadata": {},
   "source": [
    "Предсказываем вероятность класса 1 и считаем ROC AUC"
   ]
  },
  {
   "cell_type": "code",
   "execution_count": 27,
   "metadata": {},
   "outputs": [],
   "source": [
    "from sklearn.tree import DecisionTreeClassifier\n",
    "from sklearn.linear_model import LogisticRegression\n",
    "from sklearn.svm import SVC\n",
    "from sklearn.ensemble import VotingClassifier\n",
    "\n",
    "log_clf = LogisticRegression(solver=\"liblinear\", random_state=42)\n",
    "dtr_clf = DecisionTreeClassifier( random_state=42)\n",
    "\n",
    "voting_clf = VotingClassifier(\n",
    "    estimators=[('lr', log_clf), ('dtr', dtr_clf)],\n",
    "    voting='hard')"
   ]
  },
  {
   "cell_type": "code",
   "execution_count": 28,
   "metadata": {},
   "outputs": [
    {
     "data": {
      "text/plain": [
       "VotingClassifier(estimators=[('lr',\n",
       "                              LogisticRegression(random_state=42,\n",
       "                                                 solver='liblinear')),\n",
       "                             ('dtr', DecisionTreeClassifier(random_state=42))])"
      ]
     },
     "execution_count": 28,
     "metadata": {},
     "output_type": "execute_result"
    }
   ],
   "source": [
    "voting_clf.fit(X_train, y_train)"
   ]
  },
  {
   "cell_type": "code",
   "execution_count": 29,
   "metadata": {},
   "outputs": [
    {
     "name": "stdout",
     "output_type": "stream",
     "text": [
      "LogisticRegression 0.7773890225235075\n",
      "DecisionTreeClassifier 0.6739558276842336\n",
      "VotingClassifier 0.6735184780231795\n"
     ]
    }
   ],
   "source": [
    "from sklearn.metrics import accuracy_score\n",
    "\n",
    "for clf in (log_clf, dtr_clf, voting_clf):\n",
    "    clf.fit(X_train, y_train)\n",
    "    y_pred = clf.predict(X_test)\n",
    "    print(clf.__class__.__name__, accuracy_score(y_test, y_pred))"
   ]
  },
  {
   "cell_type": "markdown",
   "metadata": {},
   "source": [
    "### Классификатор с голосованием"
   ]
  },
  {
   "cell_type": "code",
   "execution_count": 30,
   "metadata": {},
   "outputs": [],
   "source": [
    "from sklearn.ensemble import VotingClassifier"
   ]
  },
  {
   "cell_type": "code",
   "execution_count": null,
   "metadata": {},
   "outputs": [],
   "source": []
  },
  {
   "cell_type": "markdown",
   "metadata": {},
   "source": [
    "## Композиции моделей одного семейства"
   ]
  },
  {
   "cell_type": "markdown",
   "metadata": {
    "collapsed": true
   },
   "source": [
    "### Бэггинг"
   ]
  },
  {
   "cell_type": "markdown",
   "metadata": {},
   "source": [
    "Самостоятельная реализация"
   ]
  },
  {
   "cell_type": "markdown",
   "metadata": {},
   "source": [
    "##### На дереве"
   ]
  },
  {
   "cell_type": "code",
   "execution_count": 31,
   "metadata": {},
   "outputs": [],
   "source": [
    "from sklearn.ensemble import BaggingClassifier\n",
    "from sklearn.tree import DecisionTreeClassifier\n",
    "\n",
    "bag_clf = BaggingClassifier(\n",
    "    DecisionTreeClassifier(random_state=42), n_estimators=500,\n",
    "    max_samples=100, bootstrap=True, n_jobs=-1, random_state=42)\n",
    "bag_clf.fit(X_train, y_train)\n",
    "y_pred = bag_clf.predict(X_test)"
   ]
  },
  {
   "cell_type": "code",
   "execution_count": 32,
   "metadata": {},
   "outputs": [
    {
     "name": "stdout",
     "output_type": "stream",
     "text": [
      "0.7780450470150886\n"
     ]
    }
   ],
   "source": [
    "from sklearn.metrics import accuracy_score\n",
    "print(accuracy_score(y_test, y_pred))"
   ]
  },
  {
   "cell_type": "code",
   "execution_count": 33,
   "metadata": {},
   "outputs": [
    {
     "name": "stdout",
     "output_type": "stream",
     "text": [
      "0.6739558276842336\n"
     ]
    }
   ],
   "source": [
    "tree_clf = DecisionTreeClassifier(random_state=42)\n",
    "tree_clf.fit(X_train, y_train)\n",
    "y_pred_tree = tree_clf.predict(X_test)\n",
    "print(accuracy_score(y_test, y_pred_tree))"
   ]
  },
  {
   "cell_type": "markdown",
   "metadata": {},
   "source": [
    "##### Логистический"
   ]
  },
  {
   "cell_type": "code",
   "execution_count": null,
   "metadata": {},
   "outputs": [],
   "source": []
  },
  {
   "cell_type": "markdown",
   "metadata": {},
   "source": [
    "# Часть 2. Случайный лес\n",
    "\n",
    "\n",
    "**Важные гиперпараметры алгоритма**\n",
    "\n",
    "a. Параметры деревьев\n",
    "    1. criterion - критерий построения дерева\n",
    "    2. max_depth - максимальная глубина дерева (больше глубина -> больше риск переобучения)\n",
    "    3. min_samples_leaf - минимальное число объектов в листе (больше объектов -> меньше риск переобучения)\n",
    "\n",
    "b. Параметры леса\n",
    "    1. n_estimators - кол-во деревьев (чем больше тем лучше)\n",
    "    2. max_features - число признаков случайного подпространства\n",
    "    3. bootstrap - использовать ли бэггинг\n",
    "    4. n_jobs - кол-во потоков для одновременного построения деревьев (большая прибавка к скорости на многоядерных процах)"
   ]
  },
  {
   "cell_type": "code",
   "execution_count": 34,
   "metadata": {
    "scrolled": true
   },
   "outputs": [
    {
     "name": "stdout",
     "output_type": "stream",
     "text": [
      "Wall time: 0 ns\n"
     ]
    }
   ],
   "source": [
    "%%time\n",
    "from sklearn.ensemble import RandomForestClassifier\n"
   ]
  },
  {
   "cell_type": "code",
   "execution_count": 103,
   "metadata": {},
   "outputs": [
    {
     "name": "stdout",
     "output_type": "stream",
     "text": [
      "0.7721408265908594\n",
      "Wall time: 9.84 s\n"
     ]
    }
   ],
   "source": [
    "%%time\n",
    "\n",
    "rnd_clf = RandomForestClassifier(n_estimators=500, min_samples_split=14, max_depth=3, max_leaf_nodes=16, n_jobs=-1, random_state=42)\n",
    "rnd_clf.fit(X_train, y_train)\n",
    "\n",
    "y_pred_rf = rnd_clf.predict(X_test)\n",
    "print(accuracy_score(y_test, y_pred_rf))"
   ]
  },
  {
   "cell_type": "code",
   "execution_count": 36,
   "metadata": {},
   "outputs": [
    {
     "data": {
      "text/html": [
       "<div>\n",
       "<style scoped>\n",
       "    .dataframe tbody tr th:only-of-type {\n",
       "        vertical-align: middle;\n",
       "    }\n",
       "\n",
       "    .dataframe tbody tr th {\n",
       "        vertical-align: top;\n",
       "    }\n",
       "\n",
       "    .dataframe thead th {\n",
       "        text-align: right;\n",
       "    }\n",
       "</style>\n",
       "<table border=\"1\" class=\"dataframe\">\n",
       "  <thead>\n",
       "    <tr style=\"text-align: right;\">\n",
       "      <th></th>\n",
       "      <th>v1</th>\n",
       "      <th>v2</th>\n",
       "      <th>v4</th>\n",
       "      <th>v5</th>\n",
       "      <th>v6</th>\n",
       "      <th>v7</th>\n",
       "      <th>v8</th>\n",
       "      <th>v9</th>\n",
       "      <th>v10</th>\n",
       "      <th>v11</th>\n",
       "      <th>...</th>\n",
       "      <th>v112_N</th>\n",
       "      <th>v112_NULL</th>\n",
       "      <th>v112_O</th>\n",
       "      <th>v112_P</th>\n",
       "      <th>v112_Q</th>\n",
       "      <th>v112_R</th>\n",
       "      <th>v112_S</th>\n",
       "      <th>v112_T</th>\n",
       "      <th>v112_U</th>\n",
       "      <th>v112_V</th>\n",
       "    </tr>\n",
       "  </thead>\n",
       "  <tbody>\n",
       "    <tr>\n",
       "      <th>35293</th>\n",
       "      <td>1.990219e+00</td>\n",
       "      <td>10.240067</td>\n",
       "      <td>5.991782</td>\n",
       "      <td>10.586369</td>\n",
       "      <td>1.955990</td>\n",
       "      <td>3.168705</td>\n",
       "      <td>0.581551</td>\n",
       "      <td>11.304348</td>\n",
       "      <td>6.542670</td>\n",
       "      <td>14.707965</td>\n",
       "      <td>...</td>\n",
       "      <td>0</td>\n",
       "      <td>0</td>\n",
       "      <td>0</td>\n",
       "      <td>0</td>\n",
       "      <td>0</td>\n",
       "      <td>0</td>\n",
       "      <td>0</td>\n",
       "      <td>0</td>\n",
       "      <td>0</td>\n",
       "      <td>0</td>\n",
       "    </tr>\n",
       "    <tr>\n",
       "      <th>17841</th>\n",
       "      <td>8.968135e-01</td>\n",
       "      <td>6.534818</td>\n",
       "      <td>2.504729</td>\n",
       "      <td>9.049150</td>\n",
       "      <td>1.911357</td>\n",
       "      <td>2.181441</td>\n",
       "      <td>0.912732</td>\n",
       "      <td>10.781249</td>\n",
       "      <td>1.291029</td>\n",
       "      <td>15.034169</td>\n",
       "      <td>...</td>\n",
       "      <td>0</td>\n",
       "      <td>0</td>\n",
       "      <td>0</td>\n",
       "      <td>0</td>\n",
       "      <td>0</td>\n",
       "      <td>0</td>\n",
       "      <td>0</td>\n",
       "      <td>0</td>\n",
       "      <td>0</td>\n",
       "      <td>0</td>\n",
       "    </tr>\n",
       "    <tr>\n",
       "      <th>104874</th>\n",
       "      <td>1.636883e+00</td>\n",
       "      <td>7.443242</td>\n",
       "      <td>4.139365</td>\n",
       "      <td>8.741405</td>\n",
       "      <td>2.434346</td>\n",
       "      <td>2.485115</td>\n",
       "      <td>1.519028</td>\n",
       "      <td>9.028518</td>\n",
       "      <td>1.312910</td>\n",
       "      <td>15.451105</td>\n",
       "      <td>...</td>\n",
       "      <td>1</td>\n",
       "      <td>0</td>\n",
       "      <td>0</td>\n",
       "      <td>0</td>\n",
       "      <td>0</td>\n",
       "      <td>0</td>\n",
       "      <td>0</td>\n",
       "      <td>0</td>\n",
       "      <td>0</td>\n",
       "      <td>0</td>\n",
       "    </tr>\n",
       "    <tr>\n",
       "      <th>73823</th>\n",
       "      <td>-3.032588e-07</td>\n",
       "      <td>4.992694</td>\n",
       "      <td>2.674514</td>\n",
       "      <td>8.874024</td>\n",
       "      <td>2.424242</td>\n",
       "      <td>1.247771</td>\n",
       "      <td>7.075681</td>\n",
       "      <td>10.572206</td>\n",
       "      <td>1.312911</td>\n",
       "      <td>14.173603</td>\n",
       "      <td>...</td>\n",
       "      <td>0</td>\n",
       "      <td>0</td>\n",
       "      <td>0</td>\n",
       "      <td>0</td>\n",
       "      <td>0</td>\n",
       "      <td>0</td>\n",
       "      <td>0</td>\n",
       "      <td>0</td>\n",
       "      <td>0</td>\n",
       "      <td>0</td>\n",
       "    </tr>\n",
       "    <tr>\n",
       "      <th>84834</th>\n",
       "      <td>1.636883e+00</td>\n",
       "      <td>7.443242</td>\n",
       "      <td>4.139365</td>\n",
       "      <td>8.741405</td>\n",
       "      <td>2.434346</td>\n",
       "      <td>2.485115</td>\n",
       "      <td>1.519028</td>\n",
       "      <td>9.028518</td>\n",
       "      <td>1.838074</td>\n",
       "      <td>15.451105</td>\n",
       "      <td>...</td>\n",
       "      <td>1</td>\n",
       "      <td>0</td>\n",
       "      <td>0</td>\n",
       "      <td>0</td>\n",
       "      <td>0</td>\n",
       "      <td>0</td>\n",
       "      <td>0</td>\n",
       "      <td>0</td>\n",
       "      <td>0</td>\n",
       "      <td>0</td>\n",
       "    </tr>\n",
       "    <tr>\n",
       "      <th>...</th>\n",
       "      <td>...</td>\n",
       "      <td>...</td>\n",
       "      <td>...</td>\n",
       "      <td>...</td>\n",
       "      <td>...</td>\n",
       "      <td>...</td>\n",
       "      <td>...</td>\n",
       "      <td>...</td>\n",
       "      <td>...</td>\n",
       "      <td>...</td>\n",
       "      <td>...</td>\n",
       "      <td>...</td>\n",
       "      <td>...</td>\n",
       "      <td>...</td>\n",
       "      <td>...</td>\n",
       "      <td>...</td>\n",
       "      <td>...</td>\n",
       "      <td>...</td>\n",
       "      <td>...</td>\n",
       "      <td>...</td>\n",
       "      <td>...</td>\n",
       "    </tr>\n",
       "    <tr>\n",
       "      <th>55817</th>\n",
       "      <td>1.636883e+00</td>\n",
       "      <td>7.443242</td>\n",
       "      <td>4.139365</td>\n",
       "      <td>8.741405</td>\n",
       "      <td>2.434346</td>\n",
       "      <td>2.485115</td>\n",
       "      <td>1.519028</td>\n",
       "      <td>9.028518</td>\n",
       "      <td>1.575493</td>\n",
       "      <td>15.451105</td>\n",
       "      <td>...</td>\n",
       "      <td>1</td>\n",
       "      <td>0</td>\n",
       "      <td>0</td>\n",
       "      <td>0</td>\n",
       "      <td>0</td>\n",
       "      <td>0</td>\n",
       "      <td>0</td>\n",
       "      <td>0</td>\n",
       "      <td>0</td>\n",
       "      <td>0</td>\n",
       "    </tr>\n",
       "    <tr>\n",
       "      <th>20860</th>\n",
       "      <td>1.636883e+00</td>\n",
       "      <td>7.443242</td>\n",
       "      <td>4.139365</td>\n",
       "      <td>8.741405</td>\n",
       "      <td>2.434346</td>\n",
       "      <td>2.485115</td>\n",
       "      <td>1.519028</td>\n",
       "      <td>9.028518</td>\n",
       "      <td>1.553611</td>\n",
       "      <td>15.451105</td>\n",
       "      <td>...</td>\n",
       "      <td>0</td>\n",
       "      <td>0</td>\n",
       "      <td>0</td>\n",
       "      <td>0</td>\n",
       "      <td>0</td>\n",
       "      <td>0</td>\n",
       "      <td>0</td>\n",
       "      <td>0</td>\n",
       "      <td>0</td>\n",
       "      <td>1</td>\n",
       "    </tr>\n",
       "    <tr>\n",
       "      <th>105869</th>\n",
       "      <td>2.296353e+00</td>\n",
       "      <td>7.516619</td>\n",
       "      <td>3.862974</td>\n",
       "      <td>6.139878</td>\n",
       "      <td>2.141194</td>\n",
       "      <td>2.591156</td>\n",
       "      <td>0.050537</td>\n",
       "      <td>7.195122</td>\n",
       "      <td>6.542669</td>\n",
       "      <td>15.808170</td>\n",
       "      <td>...</td>\n",
       "      <td>0</td>\n",
       "      <td>0</td>\n",
       "      <td>0</td>\n",
       "      <td>0</td>\n",
       "      <td>0</td>\n",
       "      <td>0</td>\n",
       "      <td>0</td>\n",
       "      <td>0</td>\n",
       "      <td>0</td>\n",
       "      <td>0</td>\n",
       "    </tr>\n",
       "    <tr>\n",
       "      <th>26005</th>\n",
       "      <td>1.636883e+00</td>\n",
       "      <td>7.443242</td>\n",
       "      <td>4.139365</td>\n",
       "      <td>8.741405</td>\n",
       "      <td>2.434346</td>\n",
       "      <td>2.485115</td>\n",
       "      <td>1.519028</td>\n",
       "      <td>9.028518</td>\n",
       "      <td>0.503283</td>\n",
       "      <td>15.451105</td>\n",
       "      <td>...</td>\n",
       "      <td>0</td>\n",
       "      <td>0</td>\n",
       "      <td>0</td>\n",
       "      <td>0</td>\n",
       "      <td>0</td>\n",
       "      <td>0</td>\n",
       "      <td>0</td>\n",
       "      <td>0</td>\n",
       "      <td>0</td>\n",
       "      <td>0</td>\n",
       "    </tr>\n",
       "    <tr>\n",
       "      <th>93271</th>\n",
       "      <td>1.636883e+00</td>\n",
       "      <td>7.443242</td>\n",
       "      <td>4.139365</td>\n",
       "      <td>8.741405</td>\n",
       "      <td>2.434346</td>\n",
       "      <td>2.485115</td>\n",
       "      <td>1.519028</td>\n",
       "      <td>9.028518</td>\n",
       "      <td>0.525165</td>\n",
       "      <td>15.451105</td>\n",
       "      <td>...</td>\n",
       "      <td>0</td>\n",
       "      <td>0</td>\n",
       "      <td>0</td>\n",
       "      <td>0</td>\n",
       "      <td>0</td>\n",
       "      <td>0</td>\n",
       "      <td>0</td>\n",
       "      <td>0</td>\n",
       "      <td>0</td>\n",
       "      <td>0</td>\n",
       "    </tr>\n",
       "  </tbody>\n",
       "</table>\n",
       "<p>4573 rows × 227 columns</p>\n",
       "</div>"
      ],
      "text/plain": [
       "                  v1         v2        v4         v5        v6        v7  \\\n",
       "35293   1.990219e+00  10.240067  5.991782  10.586369  1.955990  3.168705   \n",
       "17841   8.968135e-01   6.534818  2.504729   9.049150  1.911357  2.181441   \n",
       "104874  1.636883e+00   7.443242  4.139365   8.741405  2.434346  2.485115   \n",
       "73823  -3.032588e-07   4.992694  2.674514   8.874024  2.424242  1.247771   \n",
       "84834   1.636883e+00   7.443242  4.139365   8.741405  2.434346  2.485115   \n",
       "...              ...        ...       ...        ...       ...       ...   \n",
       "55817   1.636883e+00   7.443242  4.139365   8.741405  2.434346  2.485115   \n",
       "20860   1.636883e+00   7.443242  4.139365   8.741405  2.434346  2.485115   \n",
       "105869  2.296353e+00   7.516619  3.862974   6.139878  2.141194  2.591156   \n",
       "26005   1.636883e+00   7.443242  4.139365   8.741405  2.434346  2.485115   \n",
       "93271   1.636883e+00   7.443242  4.139365   8.741405  2.434346  2.485115   \n",
       "\n",
       "              v8         v9       v10        v11  ...  v112_N  v112_NULL  \\\n",
       "35293   0.581551  11.304348  6.542670  14.707965  ...       0          0   \n",
       "17841   0.912732  10.781249  1.291029  15.034169  ...       0          0   \n",
       "104874  1.519028   9.028518  1.312910  15.451105  ...       1          0   \n",
       "73823   7.075681  10.572206  1.312911  14.173603  ...       0          0   \n",
       "84834   1.519028   9.028518  1.838074  15.451105  ...       1          0   \n",
       "...          ...        ...       ...        ...  ...     ...        ...   \n",
       "55817   1.519028   9.028518  1.575493  15.451105  ...       1          0   \n",
       "20860   1.519028   9.028518  1.553611  15.451105  ...       0          0   \n",
       "105869  0.050537   7.195122  6.542669  15.808170  ...       0          0   \n",
       "26005   1.519028   9.028518  0.503283  15.451105  ...       0          0   \n",
       "93271   1.519028   9.028518  0.525165  15.451105  ...       0          0   \n",
       "\n",
       "        v112_O  v112_P  v112_Q  v112_R  v112_S  v112_T  v112_U  v112_V  \n",
       "35293        0       0       0       0       0       0       0       0  \n",
       "17841        0       0       0       0       0       0       0       0  \n",
       "104874       0       0       0       0       0       0       0       0  \n",
       "73823        0       0       0       0       0       0       0       0  \n",
       "84834        0       0       0       0       0       0       0       0  \n",
       "...        ...     ...     ...     ...     ...     ...     ...     ...  \n",
       "55817        0       0       0       0       0       0       0       0  \n",
       "20860        0       0       0       0       0       0       0       1  \n",
       "105869       0       0       0       0       0       0       0       0  \n",
       "26005        0       0       0       0       0       0       0       0  \n",
       "93271        0       0       0       0       0       0       0       0  \n",
       "\n",
       "[4573 rows x 227 columns]"
      ]
     },
     "execution_count": 36,
     "metadata": {},
     "output_type": "execute_result"
    }
   ],
   "source": [
    "X_test"
   ]
  },
  {
   "cell_type": "code",
   "execution_count": 104,
   "metadata": {},
   "outputs": [
    {
     "data": {
      "text/plain": [
       "array([0.12223175, 0.26417704, 0.2535798 , ..., 0.1188527 , 0.2527065 ,\n",
       "       0.28329313])"
      ]
     },
     "execution_count": 104,
     "metadata": {},
     "output_type": "execute_result"
    }
   ],
   "source": [
    "rnd_clf.predict_proba(X_test)[:,0]"
   ]
  },
  {
   "cell_type": "code",
   "execution_count": 105,
   "metadata": {},
   "outputs": [
    {
     "name": "stdout",
     "output_type": "stream",
     "text": [
      "ROC AUC: 0.6853\n"
     ]
    },
    {
     "data": {
      "text/plain": [
       "0.6852999563504165"
      ]
     },
     "execution_count": 105,
     "metadata": {},
     "output_type": "execute_result"
    },
    {
     "data": {
      "image/png": "[encoded data removed]",
      "text/plain": [
       "<Figure size 432x288 with 1 Axes>"
      ]
     },
     "metadata": {
      "image/png": {
       "height": 261,
       "width": 385
      },
      "needs_background": "light"
     },
     "output_type": "display_data"
    }
   ],
   "source": [
    "calc_auc(y_test, rnd_clf.predict_proba(X_test)[:,1], plot_label='T')"
   ]
  },
  {
   "cell_type": "code",
   "execution_count": 106,
   "metadata": {},
   "outputs": [],
   "source": [
    "from sklearn.decomposition import PCA"
   ]
  },
  {
   "cell_type": "code",
   "execution_count": 107,
   "metadata": {},
   "outputs": [],
   "source": [
    "y = data['target']"
   ]
  },
  {
   "cell_type": "code",
   "execution_count": 108,
   "metadata": {},
   "outputs": [],
   "source": [
    "pca = PCA(n_components=50)\n",
    "X2 = pca.fit_transform(X)"
   ]
  },
  {
   "cell_type": "code",
   "execution_count": 115,
   "metadata": {},
   "outputs": [
    {
     "data": {
      "text/plain": [
       "(22865, 50)"
      ]
     },
     "execution_count": 115,
     "metadata": {},
     "output_type": "execute_result"
    }
   ],
   "source": [
    "X2.shape"
   ]
  },
  {
   "cell_type": "code",
   "execution_count": 109,
   "metadata": {},
   "outputs": [],
   "source": [
    "X_train2, X_test2, y_train2, y_test2 = train_test_split(X2, y, test_size=0.2, random_state=42)"
   ]
  },
  {
   "cell_type": "code",
   "execution_count": 116,
   "metadata": {},
   "outputs": [
    {
     "name": "stdout",
     "output_type": "stream",
     "text": [
      "0.7721408265908594\n",
      "Wall time: 14.3 s\n"
     ]
    }
   ],
   "source": [
    "%%time\n",
    "rnd_clf2 = RandomForestClassifier(n_estimators=500, min_samples_split=14, max_depth=3, max_leaf_nodes=16, n_jobs=-1, random_state=42)\n",
    "rnd_clf2.fit(X_train2, y_train2)\n",
    "\n",
    "y_pred_rf2 = rnd_clf2.predict(X_test2)\n",
    "print(accuracy_score(y_test2, y_pred_rf2))"
   ]
  },
  {
   "cell_type": "code",
   "execution_count": 101,
   "metadata": {},
   "outputs": [
    {
     "name": "stdout",
     "output_type": "stream",
     "text": [
      "ROC AUC: 0.6688\n"
     ]
    },
    {
     "data": {
      "text/plain": [
       "0.6688203360311278"
      ]
     },
     "execution_count": 101,
     "metadata": {},
     "output_type": "execute_result"
    },
    {
     "data": {
      "image/png": "[encoded data removed]",
      "text/plain": [
       "<Figure size 432x288 with 1 Axes>"
      ]
     },
     "metadata": {
      "image/png": {
       "height": 261,
       "width": 385
      },
      "needs_background": "light"
     },
     "output_type": "display_data"
    }
   ],
   "source": [
    "calc_auc(y_test2, rnd_clf.predict_proba(X_test2)[:,1], plot_label='T')"
   ]
  },
  {
   "cell_type": "markdown",
   "metadata": {},
   "source": [
    "#### Важность признаков"
   ]
  },
  {
   "cell_type": "markdown",
   "metadata": {},
   "source": [
    "В sklearn - усредненное по всем деревьям в ансамбле кол-во сплитов по признаку, взвешенное на прирост информации (Information gain) и долю объектов в вершине, в которой производится этот сплит\n",
    "\n",
    "Это не единственный вариант, см здесь:\n",
    "\n",
    "https://medium.com/@ceshine/feature-importance-measures-for-tree-models-part-i-47f187c1a2c3\n",
    "\n",
    "Важности признаков случайного леса лежат в артибуте **feature\\_importances\\_**"
   ]
  },
  {
   "cell_type": "code",
   "execution_count": 39,
   "metadata": {
    "scrolled": true
   },
   "outputs": [
    {
     "data": {
      "image/png": "[encoded data removed]",
      "text/plain": [
       "<Figure size 432x288 with 1 Axes>"
      ]
     },
     "metadata": {
      "image/png": {
       "height": 248,
       "width": 393
      },
      "needs_background": "light"
     },
     "output_type": "display_data"
    }
   ],
   "source": [
    "imp = pd.Series(rnd_clf.feature_importances_, index=X_test.columns).sort_values(ascending=False).iloc[:20].plot(kind='barh')\n",
    "plt.grid();"
   ]
  },
  {
   "cell_type": "code",
   "execution_count": 40,
   "metadata": {},
   "outputs": [
    {
     "name": "stdout",
     "output_type": "stream",
     "text": [
      "0.7819811939645747\n"
     ]
    }
   ],
   "source": [
    "from sklearn.ensemble import ExtraTreesClassifier\n",
    "\n",
    "et = ExtraTreesClassifier(n_estimators=500, min_samples_split=14, max_depth=7, max_features=0.8, max_leaf_nodes=16, min_samples_leaf=20, n_jobs=-1, random_state=42)\n",
    "et.fit(X_train, y_train)\n",
    "\n",
    "y_pred_et = et.predict(X_test)\n",
    "print(accuracy_score(y_test, y_pred_et))"
   ]
  },
  {
   "cell_type": "code",
   "execution_count": 41,
   "metadata": {},
   "outputs": [
    {
     "name": "stdout",
     "output_type": "stream",
     "text": [
      "ROC AUC: 0.7111\n"
     ]
    },
    {
     "data": {
      "text/plain": [
       "0.7111301273991643"
      ]
     },
     "execution_count": 41,
     "metadata": {},
     "output_type": "execute_result"
    },
    {
     "data": {
      "image/png": "[encoded data removed]",
      "text/plain": [
       "<Figure size 432x288 with 1 Axes>"
      ]
     },
     "metadata": {
      "image/png": {
       "height": 261,
       "width": 385
      },
      "needs_background": "light"
     },
     "output_type": "display_data"
    }
   ],
   "source": [
    "calc_auc(y_test, et.predict_proba(X_test)[:,1], plot_label='T')"
   ]
  },
  {
   "cell_type": "code",
   "execution_count": 42,
   "metadata": {},
   "outputs": [
    {
     "data": {
      "text/plain": [
       "[<matplotlib.lines.Line2D at 0x1b93cf7d3d0>]"
      ]
     },
     "execution_count": 42,
     "metadata": {},
     "output_type": "execute_result"
    },
    {
     "data": {
      "image/png": "[encoded data removed]",
      "text/plain": [
       "<Figure size 432x288 with 1 Axes>"
      ]
     },
     "metadata": {
      "image/png": {
       "height": 248,
       "width": 385
      },
      "needs_background": "light"
     },
     "output_type": "display_data"
    }
   ],
   "source": [
    "y = []\n",
    "x = []\n",
    "\n",
    "log_pred = log_clf.fit(X_train, y_train).predict_proba(X_test)\n",
    "et_pred = dtr_clf.fit(X_train, y_train).predict_proba(X_test)\n",
    "\n",
    "for i in range(1, 100):\n",
    "    a = i * 0.01\n",
    "    x.append(a)\n",
    "    y.append(calc_auc(y_test, a * log_pred[:,1] + (1 - a) * et_pred[:, 1], prin=False))\n",
    "    \n",
    "plt.plot(x, y)"
   ]
  },
  {
   "cell_type": "code",
   "execution_count": 43,
   "metadata": {},
   "outputs": [
    {
     "data": {
      "text/plain": [
       "0.7826372184561557"
      ]
     },
     "execution_count": 43,
     "metadata": {},
     "output_type": "execute_result"
    }
   ],
   "source": [
    "from sklearn.ensemble import StackingClassifier\n",
    "from sklearn.pipeline import make_pipeline\n",
    "from sklearn.svm import LinearSVC\n",
    "\n",
    "estimators = [\n",
    "     ('rf', rnd_clf),\n",
    "     ('svr', make_pipeline(StandardScaler(),\n",
    "                           LinearSVC(random_state=42))),\n",
    "     ('lr', log_clf)\n",
    "]\n",
    "\n",
    "clf = StackingClassifier(\n",
    "     estimators=estimators, final_estimator=et\n",
    ")\n",
    "\n",
    "clf.fit(X_train, y_train).score(X_test, y_test)"
   ]
  },
  {
   "cell_type": "code",
   "execution_count": 44,
   "metadata": {},
   "outputs": [
    {
     "name": "stdout",
     "output_type": "stream",
     "text": [
      "ROC AUC: 0.7159\n"
     ]
    },
    {
     "data": {
      "text/plain": [
       "0.7158697492078661"
      ]
     },
     "execution_count": 44,
     "metadata": {},
     "output_type": "execute_result"
    },
    {
     "data": {
      "image/png": "[encoded data removed]",
      "text/plain": [
       "<Figure size 432x288 with 1 Axes>"
      ]
     },
     "metadata": {
      "image/png": {
       "height": 261,
       "width": 385
      },
      "needs_background": "light"
     },
     "output_type": "display_data"
    }
   ],
   "source": [
    "calc_auc(y_test, clf.predict_proba(X_test)[:,1], plot_label='T')"
   ]
  },
  {
   "cell_type": "markdown",
   "metadata": {},
   "source": [
    "AdaBoosting"
   ]
  },
  {
   "cell_type": "code",
   "execution_count": 45,
   "metadata": {},
   "outputs": [],
   "source": [
    "from sklearn.ensemble import AdaBoostClassifier, GradientBoostingClassifier"
   ]
  },
  {
   "cell_type": "code",
   "execution_count": 46,
   "metadata": {},
   "outputs": [
    {
     "name": "stdout",
     "output_type": "stream",
     "text": [
      "Train:\n",
      "ROC AUC: 0.7545\n",
      "Test:\n",
      "ROC AUC: 0.7227\n"
     ]
    },
    {
     "data": {
      "image/png": "[encoded data removed]",
      "text/plain": [
       "<Figure size 432x288 with 1 Axes>"
      ]
     },
     "metadata": {
      "image/png": {
       "height": 261,
       "width": 385
      },
      "needs_background": "light"
     },
     "output_type": "display_data"
    }
   ],
   "source": [
    "clf_ada = AdaBoostClassifier(DecisionTreeClassifier(max_depth=2, min_samples_leaf=30, max_features=0.8, min_samples_split=30),\n",
    "                             n_estimators=100, learning_rate=0.1, random_state=42)\n",
    "\n",
    "clf_ada.fit(X_train, y_train)\n",
    "y_pred_ada_test = clf_ada.predict_proba(X_test)[:, 1]\n",
    "y_pred_ada_train = clf_ada.predict_proba(X_train)[:, 1]\n",
    "\n",
    "print('Train:')\n",
    "calc_auc(y_train, y_pred_ada_train, 'train')\n",
    "print('Test:')\n",
    "calc_auc(y_test, y_pred_ada_test, 'test')\n",
    "plt.grid();\n",
    "plt.legend();"
   ]
  },
  {
   "cell_type": "markdown",
   "metadata": {},
   "source": [
    "Gradient Boosting"
   ]
  },
  {
   "cell_type": "code",
   "execution_count": 47,
   "metadata": {},
   "outputs": [
    {
     "name": "stdout",
     "output_type": "stream",
     "text": [
      "Train:\n",
      "ROC AUC: 0.7496\n",
      "Test:\n",
      "ROC AUC: 0.7231\n",
      "Wall time: 52.1 s\n"
     ]
    },
    {
     "data": {
      "image/png": "[encoded data removed]",
      "text/plain": [
       "<Figure size 432x288 with 1 Axes>"
      ]
     },
     "metadata": {
      "image/png": {
       "height": 261,
       "width": 385
      },
      "needs_background": "light"
     },
     "output_type": "display_data"
    }
   ],
   "source": [
    "%%time\n",
    "clf_gbm = GradientBoostingClassifier(max_depth=2, min_samples_leaf=30, n_estimators=100, learning_rate=0.1, \n",
    "                                     subsample=1.0, max_features=0.8, min_samples_split=30, random_state=42, \n",
    "                                     verbose=0)\n",
    "# если subsample < 1.0 - получится стахастический градиентный спуск, алгоритм работать будет быстрее, \n",
    "# но точность может быть хуже\n",
    "\n",
    "clf_gbm.fit(X_train, y_train)\n",
    "y_pred_gbm_test = clf_gbm.predict_proba(X_test)[:, 1]\n",
    "y_pred_gbm_train = clf_gbm.predict_proba(X_train)[:, 1]\n",
    "\n",
    "print('Train:')\n",
    "calc_auc(y_train, y_pred_gbm_train, 'train')\n",
    "print('Test:')\n",
    "calc_auc(y_test, y_pred_gbm_test, 'test')\n",
    "plt.legend()\n",
    "plt.grid();"
   ]
  },
  {
   "cell_type": "code",
   "execution_count": 48,
   "metadata": {},
   "outputs": [],
   "source": [
    "import xgboost as xgb"
   ]
  },
  {
   "cell_type": "code",
   "execution_count": 49,
   "metadata": {},
   "outputs": [],
   "source": [
    "params = {'n_estimators': 100,\n",
    "          'learning_rate': 0.1,\n",
    "          'max_depth': 3,\n",
    "          'min_child_weight': 1,\n",
    "          'subsample': 1,\n",
    "          'colsample_bytree': 1,\n",
    "          'n_jobs': -1}"
   ]
  },
  {
   "cell_type": "code",
   "execution_count": 50,
   "metadata": {},
   "outputs": [
    {
     "name": "stdout",
     "output_type": "stream",
     "text": [
      "[20:30:27] WARNING: C:/Users/Administrator/workspace/xgboost-win64_release_1.3.0/src/learner.cc:1061: Starting in XGBoost 1.3.0, the default evaluation metric used with the objective 'binary:logistic' was changed from 'error' to 'logloss'. Explicitly set eval_metric if you'd like to restore the old behavior.\n",
      "Wall time: 16.6 s\n"
     ]
    },
    {
     "data": {
      "text/plain": [
       "XGBClassifier(base_score=0.5, booster='gbtree', colsample_bylevel=1,\n",
       "              colsample_bynode=1, colsample_bytree=1, gamma=0, gpu_id=-1,\n",
       "              importance_type='gain', interaction_constraints='',\n",
       "              learning_rate=0.1, max_delta_step=0, max_depth=3,\n",
       "              min_child_weight=1, missing=nan, monotone_constraints='()',\n",
       "              n_estimators=100, n_jobs=-1, num_parallel_tree=1, random_state=0,\n",
       "              reg_alpha=0, reg_lambda=1, scale_pos_weight=1, subsample=1,\n",
       "              tree_method='exact', validate_parameters=1, verbosity=None)"
      ]
     },
     "execution_count": 50,
     "metadata": {},
     "output_type": "execute_result"
    }
   ],
   "source": [
    "%%time\n",
    "clf_xgb = xgb.XGBClassifier(**params)\n",
    "clf_xgb.fit(X_train, y_train)"
   ]
  },
  {
   "cell_type": "code",
   "execution_count": 51,
   "metadata": {},
   "outputs": [
    {
     "name": "stdout",
     "output_type": "stream",
     "text": [
      "Train:\n",
      "ROC AUC: 0.7769\n",
      "Test:\n",
      "ROC AUC: 0.7288\n"
     ]
    },
    {
     "data": {
      "image/png": "[encoded data removed]",
      "text/plain": [
       "<Figure size 432x288 with 1 Axes>"
      ]
     },
     "metadata": {
      "image/png": {
       "height": 261,
       "width": 385
      },
      "needs_background": "light"
     },
     "output_type": "display_data"
    }
   ],
   "source": [
    "y_pred_xgb_test = clf_xgb.predict_proba(X_test)[:, 1]\n",
    "y_pred_xgb_train = clf_xgb.predict_proba(X_train)[:, 1]\n",
    "\n",
    "print('Train:')\n",
    "calc_auc(y_train, y_pred_xgb_train, 'train')\n",
    "print('Test:')\n",
    "calc_auc(y_test, y_pred_xgb_test, 'test')\n",
    "plt.grid()\n",
    "plt.legend();"
   ]
  },
  {
   "cell_type": "code",
   "execution_count": 52,
   "metadata": {},
   "outputs": [
    {
     "name": "stdout",
     "output_type": "stream",
     "text": [
      "[0]\tvalidation_0-auc:0.69899\tvalidation_1-auc:0.68220\n",
      "[1]\tvalidation_0-auc:0.70214\tvalidation_1-auc:0.68661\n",
      "[2]\tvalidation_0-auc:0.71651\tvalidation_1-auc:0.69848\n",
      "[3]\tvalidation_0-auc:0.71977\tvalidation_1-auc:0.70079\n",
      "[4]\tvalidation_0-auc:0.72146\tvalidation_1-auc:0.70319\n",
      "[5]\tvalidation_0-auc:0.72239\tvalidation_1-auc:0.70508\n",
      "[6]\tvalidation_0-auc:0.72319\tvalidation_1-auc:0.70615\n",
      "[7]\tvalidation_0-auc:0.72251\tvalidation_1-auc:0.70663\n",
      "[8]\tvalidation_0-auc:0.72414\tvalidation_1-auc:0.70771\n",
      "[9]\tvalidation_0-auc:0.72626\tvalidation_1-auc:0.70975\n",
      "[10]\tvalidation_0-auc:0.72650\tvalidation_1-auc:0.71028\n",
      "[11]\tvalidation_0-auc:0.72765\tvalidation_1-auc:0.71128\n",
      "[12]\tvalidation_0-auc:0.72921\tvalidation_1-auc:0.71196\n",
      "[13]\tvalidation_0-auc:0.72935\tvalidation_1-auc:0.71191\n",
      "[14]\tvalidation_0-auc:0.73040\tvalidation_1-auc:0.71300\n",
      "[15]\tvalidation_0-auc:0.73285\tvalidation_1-auc:0.71456\n",
      "[16]\tvalidation_0-auc:0.73426\tvalidation_1-auc:0.71494\n",
      "[17]\tvalidation_0-auc:0.73496\tvalidation_1-auc:0.71468\n",
      "[18]\tvalidation_0-auc:0.73539\tvalidation_1-auc:0.71537\n",
      "[19]\tvalidation_0-auc:0.73554\tvalidation_1-auc:0.71551\n",
      "[20]\tvalidation_0-auc:0.73606\tvalidation_1-auc:0.71575\n",
      "[21]\tvalidation_0-auc:0.73674\tvalidation_1-auc:0.71642\n",
      "[22]\tvalidation_0-auc:0.73782\tvalidation_1-auc:0.71698\n",
      "[23]\tvalidation_0-auc:0.73819\tvalidation_1-auc:0.71768\n",
      "[24]\tvalidation_0-auc:0.73923\tvalidation_1-auc:0.71879\n",
      "[25]\tvalidation_0-auc:0.74058\tvalidation_1-auc:0.71893\n",
      "[26]\tvalidation_0-auc:0.74103\tvalidation_1-auc:0.71933\n",
      "[27]\tvalidation_0-auc:0.74190\tvalidation_1-auc:0.71973\n",
      "[28]\tvalidation_0-auc:0.74272\tvalidation_1-auc:0.72037\n",
      "[29]\tvalidation_0-auc:0.74349\tvalidation_1-auc:0.72046\n",
      "[30]\tvalidation_0-auc:0.74393\tvalidation_1-auc:0.72092\n",
      "[31]\tvalidation_0-auc:0.74457\tvalidation_1-auc:0.72140\n",
      "[32]\tvalidation_0-auc:0.74518\tvalidation_1-auc:0.72172\n",
      "[33]\tvalidation_0-auc:0.74586\tvalidation_1-auc:0.72180\n",
      "[34]\tvalidation_0-auc:0.74708\tvalidation_1-auc:0.72314\n",
      "[35]\tvalidation_0-auc:0.74760\tvalidation_1-auc:0.72346\n",
      "[36]\tvalidation_0-auc:0.74803\tvalidation_1-auc:0.72342\n",
      "[37]\tvalidation_0-auc:0.74844\tvalidation_1-auc:0.72340\n",
      "[38]\tvalidation_0-auc:0.74879\tvalidation_1-auc:0.72343\n",
      "[39]\tvalidation_0-auc:0.74959\tvalidation_1-auc:0.72351\n",
      "[40]\tvalidation_0-auc:0.74997\tvalidation_1-auc:0.72374\n",
      "[41]\tvalidation_0-auc:0.75028\tvalidation_1-auc:0.72345\n",
      "[42]\tvalidation_0-auc:0.75047\tvalidation_1-auc:0.72371\n",
      "[43]\tvalidation_0-auc:0.75148\tvalidation_1-auc:0.72377\n",
      "[44]\tvalidation_0-auc:0.75204\tvalidation_1-auc:0.72400\n",
      "[45]\tvalidation_0-auc:0.75290\tvalidation_1-auc:0.72413\n",
      "[46]\tvalidation_0-auc:0.75329\tvalidation_1-auc:0.72413\n",
      "[47]\tvalidation_0-auc:0.75368\tvalidation_1-auc:0.72416\n",
      "[48]\tvalidation_0-auc:0.75392\tvalidation_1-auc:0.72421\n",
      "[49]\tvalidation_0-auc:0.75439\tvalidation_1-auc:0.72448\n",
      "[50]\tvalidation_0-auc:0.75487\tvalidation_1-auc:0.72463\n",
      "[51]\tvalidation_0-auc:0.75529\tvalidation_1-auc:0.72476\n",
      "[52]\tvalidation_0-auc:0.75619\tvalidation_1-auc:0.72469\n",
      "[53]\tvalidation_0-auc:0.75656\tvalidation_1-auc:0.72497\n",
      "[54]\tvalidation_0-auc:0.75693\tvalidation_1-auc:0.72526\n",
      "[55]\tvalidation_0-auc:0.75720\tvalidation_1-auc:0.72551\n",
      "[56]\tvalidation_0-auc:0.75776\tvalidation_1-auc:0.72574\n",
      "[57]\tvalidation_0-auc:0.75809\tvalidation_1-auc:0.72571\n",
      "[58]\tvalidation_0-auc:0.75864\tvalidation_1-auc:0.72570\n",
      "[59]\tvalidation_0-auc:0.75879\tvalidation_1-auc:0.72579\n",
      "[60]\tvalidation_0-auc:0.75922\tvalidation_1-auc:0.72586\n",
      "[61]\tvalidation_0-auc:0.75971\tvalidation_1-auc:0.72608\n",
      "[62]\tvalidation_0-auc:0.76023\tvalidation_1-auc:0.72604\n",
      "[63]\tvalidation_0-auc:0.76094\tvalidation_1-auc:0.72606\n",
      "[64]\tvalidation_0-auc:0.76131\tvalidation_1-auc:0.72600\n",
      "[65]\tvalidation_0-auc:0.76157\tvalidation_1-auc:0.72593\n",
      "[66]\tvalidation_0-auc:0.76194\tvalidation_1-auc:0.72601\n",
      "[67]\tvalidation_0-auc:0.76248\tvalidation_1-auc:0.72684\n",
      "[68]\tvalidation_0-auc:0.76316\tvalidation_1-auc:0.72744\n",
      "[69]\tvalidation_0-auc:0.76384\tvalidation_1-auc:0.72755\n",
      "[70]\tvalidation_0-auc:0.76417\tvalidation_1-auc:0.72774\n",
      "[71]\tvalidation_0-auc:0.76433\tvalidation_1-auc:0.72786\n",
      "[72]\tvalidation_0-auc:0.76499\tvalidation_1-auc:0.72767\n",
      "[73]\tvalidation_0-auc:0.76543\tvalidation_1-auc:0.72771\n",
      "[74]\tvalidation_0-auc:0.76560\tvalidation_1-auc:0.72771\n",
      "[75]\tvalidation_0-auc:0.76623\tvalidation_1-auc:0.72797\n",
      "[76]\tvalidation_0-auc:0.76672\tvalidation_1-auc:0.72788\n",
      "[77]\tvalidation_0-auc:0.76751\tvalidation_1-auc:0.72771\n",
      "[78]\tvalidation_0-auc:0.76794\tvalidation_1-auc:0.72783\n",
      "[79]\tvalidation_0-auc:0.76840\tvalidation_1-auc:0.72786\n",
      "[80]\tvalidation_0-auc:0.76872\tvalidation_1-auc:0.72803\n",
      "[81]\tvalidation_0-auc:0.76928\tvalidation_1-auc:0.72814\n",
      "[82]\tvalidation_0-auc:0.76969\tvalidation_1-auc:0.72821\n",
      "[83]\tvalidation_0-auc:0.77023\tvalidation_1-auc:0.72826\n",
      "[84]\tvalidation_0-auc:0.77081\tvalidation_1-auc:0.72819\n",
      "[85]\tvalidation_0-auc:0.77120\tvalidation_1-auc:0.72825\n",
      "[86]\tvalidation_0-auc:0.77156\tvalidation_1-auc:0.72807\n",
      "[87]\tvalidation_0-auc:0.77195\tvalidation_1-auc:0.72833\n",
      "[88]\tvalidation_0-auc:0.77252\tvalidation_1-auc:0.72848\n",
      "[89]\tvalidation_0-auc:0.77287\tvalidation_1-auc:0.72833\n",
      "[90]\tvalidation_0-auc:0.77318\tvalidation_1-auc:0.72831\n",
      "[91]\tvalidation_0-auc:0.77365\tvalidation_1-auc:0.72840\n",
      "[92]\tvalidation_0-auc:0.77433\tvalidation_1-auc:0.72809\n",
      "[93]\tvalidation_0-auc:0.77455\tvalidation_1-auc:0.72805\n",
      "[94]\tvalidation_0-auc:0.77480\tvalidation_1-auc:0.72809\n",
      "[95]\tvalidation_0-auc:0.77531\tvalidation_1-auc:0.72818\n",
      "[96]\tvalidation_0-auc:0.77571\tvalidation_1-auc:0.72813\n",
      "[97]\tvalidation_0-auc:0.77607\tvalidation_1-auc:0.72818\n",
      "[98]\tvalidation_0-auc:0.77642\tvalidation_1-auc:0.72822\n",
      "[99]\tvalidation_0-auc:0.77687\tvalidation_1-auc:0.72877\n"
     ]
    },
    {
     "data": {
      "text/plain": [
       "XGBClassifier(base_score=0.5, booster='gbtree', colsample_bylevel=1,\n",
       "              colsample_bynode=1, colsample_bytree=1, gamma=0, gpu_id=-1,\n",
       "              importance_type='gain', interaction_constraints='',\n",
       "              learning_rate=0.1, max_delta_step=0, max_depth=3,\n",
       "              min_child_weight=1, missing=nan, monotone_constraints='()',\n",
       "              n_estimators=100, n_jobs=-1, num_parallel_tree=1, random_state=0,\n",
       "              reg_alpha=0, reg_lambda=1, scale_pos_weight=1, subsample=1,\n",
       "              tree_method='exact', validate_parameters=1, verbosity=None)"
      ]
     },
     "execution_count": 52,
     "metadata": {},
     "output_type": "execute_result"
    }
   ],
   "source": [
    "params = {'n_estimators': 100,\n",
    "          'learning_rate': 0.1,\n",
    "          'max_depth': 3,\n",
    "          'min_child_weight': 1,\n",
    "          'subsample': 1,\n",
    "          'colsample_bytree': 1,\n",
    "          'n_jobs': -1}\n",
    "clf_xgb = xgb.XGBClassifier(**params)\n",
    "\n",
    "clf_xgb.fit(X_train, y_train, eval_metric='auc', eval_set=[[X_train, y_train], [X_test, y_test]])"
   ]
  },
  {
   "cell_type": "code",
   "execution_count": 53,
   "metadata": {},
   "outputs": [
    {
     "name": "stdout",
     "output_type": "stream",
     "text": [
      "Train:\n",
      "ROC AUC: 0.7769\n",
      "Test:\n",
      "ROC AUC: 0.7288\n"
     ]
    },
    {
     "data": {
      "image/png": "[encoded data removed]",
      "text/plain": [
       "<Figure size 432x288 with 1 Axes>"
      ]
     },
     "metadata": {
      "image/png": {
       "height": 261,
       "width": 385
      },
      "needs_background": "light"
     },
     "output_type": "display_data"
    }
   ],
   "source": [
    "y_pred_xgb_test = clf_xgb.predict_proba(X_test)[:, 1]\n",
    "y_pred_xgb_train = clf_xgb.predict_proba(X_train)[:, 1]\n",
    "\n",
    "print('Train:')\n",
    "calc_auc(y_train, y_pred_xgb_train, 'train')\n",
    "print('Test:')\n",
    "calc_auc(y_test, y_pred_xgb_test, 'test')\n",
    "plt.grid()\n",
    "plt.legend();"
   ]
  },
  {
   "cell_type": "code",
   "execution_count": 54,
   "metadata": {},
   "outputs": [
    {
     "name": "stdout",
     "output_type": "stream",
     "text": [
      "[0]\tvalidation_0-auc:0.69899\tvalidation_1-auc:0.68220\n",
      "[1]\tvalidation_0-auc:0.70214\tvalidation_1-auc:0.68661\n",
      "[2]\tvalidation_0-auc:0.71651\tvalidation_1-auc:0.69848\n",
      "[3]\tvalidation_0-auc:0.71977\tvalidation_1-auc:0.70079\n",
      "[4]\tvalidation_0-auc:0.72146\tvalidation_1-auc:0.70319\n",
      "[5]\tvalidation_0-auc:0.72239\tvalidation_1-auc:0.70508\n",
      "[6]\tvalidation_0-auc:0.72319\tvalidation_1-auc:0.70615\n",
      "[7]\tvalidation_0-auc:0.72251\tvalidation_1-auc:0.70663\n",
      "[8]\tvalidation_0-auc:0.72414\tvalidation_1-auc:0.70771\n",
      "[9]\tvalidation_0-auc:0.72626\tvalidation_1-auc:0.70975\n",
      "[10]\tvalidation_0-auc:0.72650\tvalidation_1-auc:0.71028\n",
      "[11]\tvalidation_0-auc:0.72765\tvalidation_1-auc:0.71128\n",
      "[12]\tvalidation_0-auc:0.72921\tvalidation_1-auc:0.71196\n",
      "[13]\tvalidation_0-auc:0.72935\tvalidation_1-auc:0.71191\n",
      "[14]\tvalidation_0-auc:0.73040\tvalidation_1-auc:0.71300\n",
      "[15]\tvalidation_0-auc:0.73285\tvalidation_1-auc:0.71456\n",
      "[16]\tvalidation_0-auc:0.73426\tvalidation_1-auc:0.71494\n",
      "[17]\tvalidation_0-auc:0.73496\tvalidation_1-auc:0.71468\n",
      "[18]\tvalidation_0-auc:0.73539\tvalidation_1-auc:0.71537\n",
      "[19]\tvalidation_0-auc:0.73554\tvalidation_1-auc:0.71551\n",
      "[20]\tvalidation_0-auc:0.73606\tvalidation_1-auc:0.71575\n",
      "[21]\tvalidation_0-auc:0.73674\tvalidation_1-auc:0.71642\n",
      "[22]\tvalidation_0-auc:0.73782\tvalidation_1-auc:0.71698\n",
      "[23]\tvalidation_0-auc:0.73819\tvalidation_1-auc:0.71768\n",
      "[24]\tvalidation_0-auc:0.73923\tvalidation_1-auc:0.71879\n",
      "[25]\tvalidation_0-auc:0.74058\tvalidation_1-auc:0.71893\n",
      "[26]\tvalidation_0-auc:0.74103\tvalidation_1-auc:0.71933\n",
      "[27]\tvalidation_0-auc:0.74190\tvalidation_1-auc:0.71973\n",
      "[28]\tvalidation_0-auc:0.74272\tvalidation_1-auc:0.72037\n",
      "[29]\tvalidation_0-auc:0.74349\tvalidation_1-auc:0.72046\n",
      "[30]\tvalidation_0-auc:0.74393\tvalidation_1-auc:0.72092\n",
      "[31]\tvalidation_0-auc:0.74457\tvalidation_1-auc:0.72140\n",
      "[32]\tvalidation_0-auc:0.74518\tvalidation_1-auc:0.72172\n",
      "[33]\tvalidation_0-auc:0.74586\tvalidation_1-auc:0.72180\n",
      "[34]\tvalidation_0-auc:0.74708\tvalidation_1-auc:0.72314\n",
      "[35]\tvalidation_0-auc:0.74760\tvalidation_1-auc:0.72346\n",
      "[36]\tvalidation_0-auc:0.74803\tvalidation_1-auc:0.72342\n",
      "[37]\tvalidation_0-auc:0.74844\tvalidation_1-auc:0.72340\n",
      "[38]\tvalidation_0-auc:0.74879\tvalidation_1-auc:0.72343\n",
      "[39]\tvalidation_0-auc:0.74959\tvalidation_1-auc:0.72351\n",
      "[40]\tvalidation_0-auc:0.74997\tvalidation_1-auc:0.72374\n",
      "[41]\tvalidation_0-auc:0.75028\tvalidation_1-auc:0.72345\n",
      "[42]\tvalidation_0-auc:0.75047\tvalidation_1-auc:0.72371\n",
      "[43]\tvalidation_0-auc:0.75148\tvalidation_1-auc:0.72377\n",
      "[44]\tvalidation_0-auc:0.75204\tvalidation_1-auc:0.72400\n",
      "[45]\tvalidation_0-auc:0.75290\tvalidation_1-auc:0.72413\n",
      "[46]\tvalidation_0-auc:0.75329\tvalidation_1-auc:0.72413\n",
      "[47]\tvalidation_0-auc:0.75368\tvalidation_1-auc:0.72416\n",
      "[48]\tvalidation_0-auc:0.75392\tvalidation_1-auc:0.72421\n",
      "[49]\tvalidation_0-auc:0.75439\tvalidation_1-auc:0.72448\n",
      "[50]\tvalidation_0-auc:0.75487\tvalidation_1-auc:0.72463\n",
      "[51]\tvalidation_0-auc:0.75529\tvalidation_1-auc:0.72476\n",
      "[52]\tvalidation_0-auc:0.75619\tvalidation_1-auc:0.72469\n",
      "[53]\tvalidation_0-auc:0.75656\tvalidation_1-auc:0.72497\n",
      "[54]\tvalidation_0-auc:0.75693\tvalidation_1-auc:0.72526\n",
      "[55]\tvalidation_0-auc:0.75720\tvalidation_1-auc:0.72551\n",
      "[56]\tvalidation_0-auc:0.75776\tvalidation_1-auc:0.72574\n",
      "[57]\tvalidation_0-auc:0.75809\tvalidation_1-auc:0.72571\n",
      "[58]\tvalidation_0-auc:0.75864\tvalidation_1-auc:0.72570\n",
      "[59]\tvalidation_0-auc:0.75879\tvalidation_1-auc:0.72579\n",
      "[60]\tvalidation_0-auc:0.75922\tvalidation_1-auc:0.72586\n",
      "[61]\tvalidation_0-auc:0.75971\tvalidation_1-auc:0.72608\n",
      "[62]\tvalidation_0-auc:0.76023\tvalidation_1-auc:0.72604\n",
      "[63]\tvalidation_0-auc:0.76094\tvalidation_1-auc:0.72606\n",
      "[64]\tvalidation_0-auc:0.76131\tvalidation_1-auc:0.72600\n",
      "[65]\tvalidation_0-auc:0.76157\tvalidation_1-auc:0.72593\n",
      "[66]\tvalidation_0-auc:0.76194\tvalidation_1-auc:0.72601\n",
      "[67]\tvalidation_0-auc:0.76248\tvalidation_1-auc:0.72684\n",
      "[68]\tvalidation_0-auc:0.76316\tvalidation_1-auc:0.72744\n",
      "[69]\tvalidation_0-auc:0.76384\tvalidation_1-auc:0.72755\n",
      "[70]\tvalidation_0-auc:0.76417\tvalidation_1-auc:0.72774\n",
      "[71]\tvalidation_0-auc:0.76433\tvalidation_1-auc:0.72786\n",
      "[72]\tvalidation_0-auc:0.76499\tvalidation_1-auc:0.72767\n",
      "[73]\tvalidation_0-auc:0.76543\tvalidation_1-auc:0.72771\n",
      "[74]\tvalidation_0-auc:0.76560\tvalidation_1-auc:0.72771\n",
      "[75]\tvalidation_0-auc:0.76623\tvalidation_1-auc:0.72797\n",
      "[76]\tvalidation_0-auc:0.76672\tvalidation_1-auc:0.72788\n",
      "[77]\tvalidation_0-auc:0.76751\tvalidation_1-auc:0.72771\n",
      "[78]\tvalidation_0-auc:0.76794\tvalidation_1-auc:0.72783\n",
      "[79]\tvalidation_0-auc:0.76840\tvalidation_1-auc:0.72786\n",
      "[80]\tvalidation_0-auc:0.76872\tvalidation_1-auc:0.72803\n",
      "[81]\tvalidation_0-auc:0.76928\tvalidation_1-auc:0.72814\n",
      "[82]\tvalidation_0-auc:0.76969\tvalidation_1-auc:0.72821\n",
      "[83]\tvalidation_0-auc:0.77023\tvalidation_1-auc:0.72826\n",
      "[84]\tvalidation_0-auc:0.77081\tvalidation_1-auc:0.72819\n",
      "[85]\tvalidation_0-auc:0.77120\tvalidation_1-auc:0.72825\n",
      "[86]\tvalidation_0-auc:0.77156\tvalidation_1-auc:0.72807\n",
      "[87]\tvalidation_0-auc:0.77195\tvalidation_1-auc:0.72833\n",
      "[88]\tvalidation_0-auc:0.77252\tvalidation_1-auc:0.72848\n",
      "[89]\tvalidation_0-auc:0.77287\tvalidation_1-auc:0.72833\n",
      "[90]\tvalidation_0-auc:0.77318\tvalidation_1-auc:0.72831\n",
      "[91]\tvalidation_0-auc:0.77365\tvalidation_1-auc:0.72840\n",
      "[92]\tvalidation_0-auc:0.77433\tvalidation_1-auc:0.72809\n",
      "[93]\tvalidation_0-auc:0.77455\tvalidation_1-auc:0.72805\n",
      "[94]\tvalidation_0-auc:0.77480\tvalidation_1-auc:0.72809\n",
      "[95]\tvalidation_0-auc:0.77531\tvalidation_1-auc:0.72818\n",
      "[96]\tvalidation_0-auc:0.77571\tvalidation_1-auc:0.72813\n",
      "[97]\tvalidation_0-auc:0.77607\tvalidation_1-auc:0.72818\n",
      "[98]\tvalidation_0-auc:0.77642\tvalidation_1-auc:0.72822\n",
      "[99]\tvalidation_0-auc:0.77687\tvalidation_1-auc:0.72877\n"
     ]
    },
    {
     "data": {
      "text/plain": [
       "XGBClassifier(base_score=0.5, booster='gbtree', colsample_bylevel=1,\n",
       "              colsample_bynode=1, colsample_bytree=1, gamma=0, gpu_id=-1,\n",
       "              importance_type='gain', interaction_constraints='',\n",
       "              learning_rate=0.1, max_delta_step=0, max_depth=3,\n",
       "              min_child_weight=1, missing=nan, monotone_constraints='()',\n",
       "              n_estimators=100, n_jobs=-1, num_parallel_tree=1, random_state=0,\n",
       "              reg_alpha=0, reg_lambda=1, scale_pos_weight=1, subsample=1,\n",
       "              tree_method='exact', validate_parameters=1, verbosity=None)"
      ]
     },
     "execution_count": 54,
     "metadata": {},
     "output_type": "execute_result"
    }
   ],
   "source": [
    "params = {'n_estimators': 100,\n",
    "          'learning_rate': 0.1,\n",
    "          'max_depth': 3,\n",
    "          'min_child_weight': 1,\n",
    "          'subsample': 1,\n",
    "          'colsample_bytree': 1,\n",
    "          'n_jobs': -1}\n",
    "clf_xgb = xgb.XGBClassifier(**params)\n",
    "\n",
    "clf_xgb.fit(X_train, y_train, eval_metric='auc', eval_set=[[X_train, y_train], [X_test, y_test]])"
   ]
  },
  {
   "cell_type": "code",
   "execution_count": 55,
   "metadata": {},
   "outputs": [
    {
     "name": "stdout",
     "output_type": "stream",
     "text": [
      "[0]\tvalidation_0-auc:0.72892\tvalidation_1-auc:0.69742\n",
      "[1]\tvalidation_0-auc:0.73976\tvalidation_1-auc:0.70759\n",
      "[2]\tvalidation_0-auc:0.74278\tvalidation_1-auc:0.70771\n",
      "[3]\tvalidation_0-auc:0.74526\tvalidation_1-auc:0.70777\n",
      "[4]\tvalidation_0-auc:0.75155\tvalidation_1-auc:0.71185\n",
      "[5]\tvalidation_0-auc:0.75396\tvalidation_1-auc:0.71296\n",
      "[6]\tvalidation_0-auc:0.75614\tvalidation_1-auc:0.71238\n",
      "[7]\tvalidation_0-auc:0.75740\tvalidation_1-auc:0.71520\n",
      "[8]\tvalidation_0-auc:0.76087\tvalidation_1-auc:0.71547\n",
      "[9]\tvalidation_0-auc:0.76211\tvalidation_1-auc:0.71629\n",
      "[10]\tvalidation_0-auc:0.76348\tvalidation_1-auc:0.71771\n",
      "[11]\tvalidation_0-auc:0.76457\tvalidation_1-auc:0.71896\n",
      "[12]\tvalidation_0-auc:0.76563\tvalidation_1-auc:0.71958\n",
      "[13]\tvalidation_0-auc:0.76644\tvalidation_1-auc:0.72065\n",
      "[14]\tvalidation_0-auc:0.76808\tvalidation_1-auc:0.72033\n",
      "[15]\tvalidation_0-auc:0.76978\tvalidation_1-auc:0.72047\n",
      "[16]\tvalidation_0-auc:0.77051\tvalidation_1-auc:0.72013\n",
      "[17]\tvalidation_0-auc:0.77131\tvalidation_1-auc:0.72064\n",
      "[18]\tvalidation_0-auc:0.77330\tvalidation_1-auc:0.72127\n",
      "[19]\tvalidation_0-auc:0.77452\tvalidation_1-auc:0.72103\n",
      "[20]\tvalidation_0-auc:0.77696\tvalidation_1-auc:0.72119\n",
      "[21]\tvalidation_0-auc:0.77771\tvalidation_1-auc:0.72132\n",
      "[22]\tvalidation_0-auc:0.77960\tvalidation_1-auc:0.72250\n",
      "[23]\tvalidation_0-auc:0.78122\tvalidation_1-auc:0.72340\n",
      "[24]\tvalidation_0-auc:0.78221\tvalidation_1-auc:0.72310\n",
      "[25]\tvalidation_0-auc:0.78335\tvalidation_1-auc:0.72382\n",
      "[26]\tvalidation_0-auc:0.78465\tvalidation_1-auc:0.72393\n",
      "[27]\tvalidation_0-auc:0.78648\tvalidation_1-auc:0.72348\n",
      "[28]\tvalidation_0-auc:0.78865\tvalidation_1-auc:0.72359\n",
      "[29]\tvalidation_0-auc:0.79025\tvalidation_1-auc:0.72363\n",
      "[30]\tvalidation_0-auc:0.79104\tvalidation_1-auc:0.72348\n",
      "[31]\tvalidation_0-auc:0.79273\tvalidation_1-auc:0.72354\n",
      "[32]\tvalidation_0-auc:0.79449\tvalidation_1-auc:0.72312\n",
      "[33]\tvalidation_0-auc:0.79553\tvalidation_1-auc:0.72321\n",
      "[34]\tvalidation_0-auc:0.79744\tvalidation_1-auc:0.72353\n",
      "[35]\tvalidation_0-auc:0.79854\tvalidation_1-auc:0.72377\n",
      "[36]\tvalidation_0-auc:0.79949\tvalidation_1-auc:0.72367\n",
      "[37]\tvalidation_0-auc:0.80128\tvalidation_1-auc:0.72403\n",
      "[38]\tvalidation_0-auc:0.80233\tvalidation_1-auc:0.72429\n",
      "[39]\tvalidation_0-auc:0.80298\tvalidation_1-auc:0.72437\n",
      "[40]\tvalidation_0-auc:0.80420\tvalidation_1-auc:0.72464\n",
      "[41]\tvalidation_0-auc:0.80539\tvalidation_1-auc:0.72496\n",
      "[42]\tvalidation_0-auc:0.80627\tvalidation_1-auc:0.72519\n",
      "[43]\tvalidation_0-auc:0.80761\tvalidation_1-auc:0.72611\n",
      "[44]\tvalidation_0-auc:0.80863\tvalidation_1-auc:0.72615\n",
      "[45]\tvalidation_0-auc:0.80919\tvalidation_1-auc:0.72652\n",
      "[46]\tvalidation_0-auc:0.81080\tvalidation_1-auc:0.72662\n",
      "[47]\tvalidation_0-auc:0.81174\tvalidation_1-auc:0.72608\n",
      "[48]\tvalidation_0-auc:0.81309\tvalidation_1-auc:0.72612\n",
      "[49]\tvalidation_0-auc:0.81414\tvalidation_1-auc:0.72636\n",
      "[50]\tvalidation_0-auc:0.81613\tvalidation_1-auc:0.72603\n",
      "[51]\tvalidation_0-auc:0.81697\tvalidation_1-auc:0.72613\n",
      "[52]\tvalidation_0-auc:0.81761\tvalidation_1-auc:0.72622\n",
      "[53]\tvalidation_0-auc:0.81897\tvalidation_1-auc:0.72634\n",
      "[54]\tvalidation_0-auc:0.82037\tvalidation_1-auc:0.72666\n",
      "[55]\tvalidation_0-auc:0.82141\tvalidation_1-auc:0.72689\n",
      "[56]\tvalidation_0-auc:0.82223\tvalidation_1-auc:0.72691\n",
      "[57]\tvalidation_0-auc:0.82274\tvalidation_1-auc:0.72708\n",
      "[58]\tvalidation_0-auc:0.82427\tvalidation_1-auc:0.72680\n",
      "[59]\tvalidation_0-auc:0.82499\tvalidation_1-auc:0.72656\n",
      "[60]\tvalidation_0-auc:0.82642\tvalidation_1-auc:0.72618\n",
      "[61]\tvalidation_0-auc:0.82731\tvalidation_1-auc:0.72609\n",
      "[62]\tvalidation_0-auc:0.82812\tvalidation_1-auc:0.72598\n",
      "[63]\tvalidation_0-auc:0.82863\tvalidation_1-auc:0.72576\n",
      "[64]\tvalidation_0-auc:0.82943\tvalidation_1-auc:0.72570\n",
      "[65]\tvalidation_0-auc:0.83061\tvalidation_1-auc:0.72606\n",
      "[66]\tvalidation_0-auc:0.83191\tvalidation_1-auc:0.72671\n",
      "[67]\tvalidation_0-auc:0.83253\tvalidation_1-auc:0.72658\n",
      "[68]\tvalidation_0-auc:0.83396\tvalidation_1-auc:0.72642\n",
      "[69]\tvalidation_0-auc:0.83424\tvalidation_1-auc:0.72629\n",
      "[70]\tvalidation_0-auc:0.83487\tvalidation_1-auc:0.72663\n",
      "[71]\tvalidation_0-auc:0.83581\tvalidation_1-auc:0.72649\n",
      "[72]\tvalidation_0-auc:0.83618\tvalidation_1-auc:0.72632\n",
      "[73]\tvalidation_0-auc:0.83763\tvalidation_1-auc:0.72664\n",
      "[74]\tvalidation_0-auc:0.83814\tvalidation_1-auc:0.72698\n",
      "[75]\tvalidation_0-auc:0.83886\tvalidation_1-auc:0.72700\n",
      "[76]\tvalidation_0-auc:0.83988\tvalidation_1-auc:0.72687\n",
      "[77]\tvalidation_0-auc:0.84123\tvalidation_1-auc:0.72732\n",
      "[78]\tvalidation_0-auc:0.84200\tvalidation_1-auc:0.72726\n",
      "[79]\tvalidation_0-auc:0.84308\tvalidation_1-auc:0.72726\n",
      "[80]\tvalidation_0-auc:0.84390\tvalidation_1-auc:0.72708\n",
      "[81]\tvalidation_0-auc:0.84469\tvalidation_1-auc:0.72722\n",
      "[82]\tvalidation_0-auc:0.84628\tvalidation_1-auc:0.72718\n",
      "[83]\tvalidation_0-auc:0.84710\tvalidation_1-auc:0.72754\n",
      "[84]\tvalidation_0-auc:0.84750\tvalidation_1-auc:0.72771\n",
      "[85]\tvalidation_0-auc:0.84834\tvalidation_1-auc:0.72774\n",
      "[86]\tvalidation_0-auc:0.84858\tvalidation_1-auc:0.72780\n",
      "[87]\tvalidation_0-auc:0.84957\tvalidation_1-auc:0.72785\n",
      "[88]\tvalidation_0-auc:0.85021\tvalidation_1-auc:0.72769\n",
      "[89]\tvalidation_0-auc:0.85062\tvalidation_1-auc:0.72767\n",
      "[90]\tvalidation_0-auc:0.85090\tvalidation_1-auc:0.72754\n",
      "[91]\tvalidation_0-auc:0.85177\tvalidation_1-auc:0.72752\n",
      "[92]\tvalidation_0-auc:0.85221\tvalidation_1-auc:0.72768\n",
      "[93]\tvalidation_0-auc:0.85325\tvalidation_1-auc:0.72787\n",
      "[94]\tvalidation_0-auc:0.85415\tvalidation_1-auc:0.72755\n",
      "[95]\tvalidation_0-auc:0.85489\tvalidation_1-auc:0.72757\n",
      "[96]\tvalidation_0-auc:0.85556\tvalidation_1-auc:0.72735\n",
      "[97]\tvalidation_0-auc:0.85600\tvalidation_1-auc:0.72757\n",
      "[98]\tvalidation_0-auc:0.85752\tvalidation_1-auc:0.72743\n",
      "[99]\tvalidation_0-auc:0.85795\tvalidation_1-auc:0.72745\n",
      "Wall time: 23.6 s\n"
     ]
    },
    {
     "data": {
      "text/plain": [
       "XGBClassifier(base_score=0.5, booster='gbtree', colsample_bylevel=1,\n",
       "              colsample_bynode=1, colsample_bytree=0.8, gamma=0, gpu_id=-1,\n",
       "              importance_type='gain', interaction_constraints='',\n",
       "              learning_rate=0.1, max_delta_step=0, max_depth=5,\n",
       "              min_child_weight=1, missing=nan, monotone_constraints='()',\n",
       "              n_estimators=100, n_jobs=-1, num_parallel_tree=1, random_state=0,\n",
       "              reg_alpha=0, reg_lambda=1, scale_pos_weight=1, subsample=0.8,\n",
       "              tree_method='exact', validate_parameters=1, verbosity=None)"
      ]
     },
     "execution_count": 55,
     "metadata": {},
     "output_type": "execute_result"
    }
   ],
   "source": [
    "%%time\n",
    "\n",
    "params = {'n_estimators': 100,\n",
    "          'learning_rate': 0.1,\n",
    "          'max_depth': 5,\n",
    "          'min_child_weight': 1,\n",
    "          'subsample': 0.8,\n",
    "          'colsample_bytree': 0.8,\n",
    "          'n_jobs': -1}\n",
    "clf_xgb = xgb.XGBClassifier(**params)\n",
    "\n",
    "clf_xgb.fit(X_train, y_train, eval_metric='auc', eval_set=[[X_train, y_train], [X_test, y_test]])"
   ]
  },
  {
   "cell_type": "code",
   "execution_count": 56,
   "metadata": {},
   "outputs": [
    {
     "data": {
      "image/png": "[encoded data removed]",
      "text/plain": [
       "<Figure size 432x288 with 1 Axes>"
      ]
     },
     "metadata": {
      "image/png": {
       "height": 277,
       "width": 378
      },
      "needs_background": "light"
     },
     "output_type": "display_data"
    },
    {
     "data": {
      "image/png": "[encoded data removed]",
      "text/plain": [
       "<Figure size 432x288 with 1 Axes>"
      ]
     },
     "metadata": {
      "image/png": {
       "height": 277,
       "width": 385
      },
      "needs_background": "light"
     },
     "output_type": "display_data"
    }
   ],
   "source": [
    "def save_online_metric(clf):\n",
    "    return pd.DataFrame({'train': clf.evals_result()['validation_0']['auc'],\n",
    "                         'test': clf.evals_result()['validation_1']['auc']})\n",
    "res = save_online_metric(clf_xgb)\n",
    "res.plot(title='ROC AUC')\n",
    "plt.xlabel('iteration number')\n",
    "plt.grid();\n",
    "plt.figure()\n",
    "res.test.plot(ylim=(0.7, 0.74), title='ROC AUC TEST')\n",
    "plt.xlabel('iteration number')\n",
    "plt.grid();"
   ]
  },
  {
   "cell_type": "code",
   "execution_count": 57,
   "metadata": {},
   "outputs": [
    {
     "name": "stdout",
     "output_type": "stream",
     "text": [
      "[0]\tvalidation_0-auc:0.72892\tvalidation_1-auc:0.69742\n",
      "[1]\tvalidation_0-auc:0.73653\tvalidation_1-auc:0.70623\n",
      "[2]\tvalidation_0-auc:0.74068\tvalidation_1-auc:0.70614\n",
      "[3]\tvalidation_0-auc:0.74188\tvalidation_1-auc:0.70625\n",
      "[4]\tvalidation_0-auc:0.74668\tvalidation_1-auc:0.71244\n",
      "[5]\tvalidation_0-auc:0.74835\tvalidation_1-auc:0.71381\n",
      "[6]\tvalidation_0-auc:0.75073\tvalidation_1-auc:0.71515\n",
      "[7]\tvalidation_0-auc:0.75195\tvalidation_1-auc:0.71636\n",
      "[8]\tvalidation_0-auc:0.75334\tvalidation_1-auc:0.71746\n",
      "[9]\tvalidation_0-auc:0.75412\tvalidation_1-auc:0.71786\n",
      "[10]\tvalidation_0-auc:0.75438\tvalidation_1-auc:0.71808\n",
      "[11]\tvalidation_0-auc:0.75488\tvalidation_1-auc:0.71795\n",
      "[12]\tvalidation_0-auc:0.75513\tvalidation_1-auc:0.71804\n",
      "[13]\tvalidation_0-auc:0.75561\tvalidation_1-auc:0.71774\n",
      "[14]\tvalidation_0-auc:0.75640\tvalidation_1-auc:0.71826\n",
      "[15]\tvalidation_0-auc:0.75733\tvalidation_1-auc:0.71922\n",
      "[16]\tvalidation_0-auc:0.75797\tvalidation_1-auc:0.71927\n",
      "[17]\tvalidation_0-auc:0.75798\tvalidation_1-auc:0.71972\n",
      "[18]\tvalidation_0-auc:0.75892\tvalidation_1-auc:0.71929\n",
      "[19]\tvalidation_0-auc:0.75918\tvalidation_1-auc:0.71906\n",
      "[20]\tvalidation_0-auc:0.76013\tvalidation_1-auc:0.71919\n",
      "[21]\tvalidation_0-auc:0.76006\tvalidation_1-auc:0.71912\n",
      "[22]\tvalidation_0-auc:0.76052\tvalidation_1-auc:0.71946\n",
      "[23]\tvalidation_0-auc:0.76084\tvalidation_1-auc:0.71963\n",
      "[24]\tvalidation_0-auc:0.76143\tvalidation_1-auc:0.71987\n",
      "[25]\tvalidation_0-auc:0.76154\tvalidation_1-auc:0.72018\n",
      "[26]\tvalidation_0-auc:0.76159\tvalidation_1-auc:0.71997\n",
      "[27]\tvalidation_0-auc:0.76209\tvalidation_1-auc:0.72005\n",
      "[28]\tvalidation_0-auc:0.76262\tvalidation_1-auc:0.72032\n",
      "[29]\tvalidation_0-auc:0.76332\tvalidation_1-auc:0.72053\n",
      "[30]\tvalidation_0-auc:0.76370\tvalidation_1-auc:0.72072\n",
      "[31]\tvalidation_0-auc:0.76390\tvalidation_1-auc:0.72055\n",
      "[32]\tvalidation_0-auc:0.76416\tvalidation_1-auc:0.72031\n",
      "[33]\tvalidation_0-auc:0.76428\tvalidation_1-auc:0.72011\n",
      "[34]\tvalidation_0-auc:0.76495\tvalidation_1-auc:0.72038\n",
      "[35]\tvalidation_0-auc:0.76568\tvalidation_1-auc:0.72067\n",
      "[36]\tvalidation_0-auc:0.76587\tvalidation_1-auc:0.72086\n",
      "[37]\tvalidation_0-auc:0.76651\tvalidation_1-auc:0.72076\n",
      "[38]\tvalidation_0-auc:0.76696\tvalidation_1-auc:0.72080\n",
      "[39]\tvalidation_0-auc:0.76771\tvalidation_1-auc:0.72097\n",
      "[40]\tvalidation_0-auc:0.76847\tvalidation_1-auc:0.72124\n",
      "[41]\tvalidation_0-auc:0.76864\tvalidation_1-auc:0.72142\n",
      "[42]\tvalidation_0-auc:0.76904\tvalidation_1-auc:0.72133\n",
      "[43]\tvalidation_0-auc:0.76944\tvalidation_1-auc:0.72121\n",
      "[44]\tvalidation_0-auc:0.77006\tvalidation_1-auc:0.72142\n",
      "[45]\tvalidation_0-auc:0.77045\tvalidation_1-auc:0.72140\n",
      "[46]\tvalidation_0-auc:0.77080\tvalidation_1-auc:0.72163\n",
      "[47]\tvalidation_0-auc:0.77112\tvalidation_1-auc:0.72195\n",
      "[48]\tvalidation_0-auc:0.77171\tvalidation_1-auc:0.72188\n",
      "[49]\tvalidation_0-auc:0.77189\tvalidation_1-auc:0.72202\n",
      "Wall time: 12.4 s\n"
     ]
    }
   ],
   "source": [
    "%%time\n",
    "params = {'n_estimators': 50,\n",
    "          'learning_rate': 0.03,\n",
    "          'max_depth': 5,\n",
    "          'min_child_weight': 1,\n",
    "          'subsample': 0.8,\n",
    "          'colsample_bytree': 0.8,\n",
    "          'n_jobs': -1}\n",
    "clf_xgb = xgb.XGBClassifier(**params)\n",
    "\n",
    "clf_xgb.fit(X_train, y_train, eval_metric='auc', eval_set=[[X_train, y_train], [X_test, y_test]])\n",
    "\n",
    "best_params = params"
   ]
  },
  {
   "cell_type": "code",
   "execution_count": 58,
   "metadata": {},
   "outputs": [],
   "source": [
    "def find_params(clf, param_grid):\n",
    "    clf = GridSearchCV(clf, param_grid, scoring='roc_auc', cv=[(np.arange(len(X_train)),\n",
    "                                                               np.arange(len(X_test)) + len(X_train))],\n",
    "                  verbose=3)\n",
    "\n",
    "    clf.fit(pd.concat([X_train, X_test]).values, pd.concat([y_train, y_test]).values)\n",
    "    best_params = clf.best_estimator_.get_params()\n",
    "    print('Best test ROC AUC: ', clf.best_score_)\n",
    "    print('Best params: ', best_params)\n",
    "    return best_params"
   ]
  },
  {
   "cell_type": "code",
   "execution_count": 59,
   "metadata": {},
   "outputs": [
    {
     "name": "stdout",
     "output_type": "stream",
     "text": [
      "Fitting 1 folds for each of 9 candidates, totalling 9 fits\n",
      "[CV] max_depth=3, min_child_weight=10 ................................\n"
     ]
    },
    {
     "name": "stderr",
     "output_type": "stream",
     "text": [
      "[Parallel(n_jobs=1)]: Using backend SequentialBackend with 1 concurrent workers.\n"
     ]
    },
    {
     "name": "stdout",
     "output_type": "stream",
     "text": [
      "[20:32:02] WARNING: C:/Users/Administrator/workspace/xgboost-win64_release_1.3.0/src/learner.cc:1061: Starting in XGBoost 1.3.0, the default evaluation metric used with the objective 'binary:logistic' was changed from 'error' to 'logloss'. Explicitly set eval_metric if you'd like to restore the old behavior.\n",
      "[CV] .... max_depth=3, min_child_weight=10, score=0.715, total=   6.6s\n",
      "[CV] max_depth=3, min_child_weight=20 ................................\n"
     ]
    },
    {
     "name": "stderr",
     "output_type": "stream",
     "text": [
      "[Parallel(n_jobs=1)]: Done   1 out of   1 | elapsed:    6.5s remaining:    0.0s\n"
     ]
    },
    {
     "name": "stdout",
     "output_type": "stream",
     "text": [
      "[20:32:09] WARNING: C:/Users/Administrator/workspace/xgboost-win64_release_1.3.0/src/learner.cc:1061: Starting in XGBoost 1.3.0, the default evaluation metric used with the objective 'binary:logistic' was changed from 'error' to 'logloss'. Explicitly set eval_metric if you'd like to restore the old behavior.\n",
      "[CV] .... max_depth=3, min_child_weight=20, score=0.715, total=   6.3s\n",
      "[CV] max_depth=3, min_child_weight=100 ...............................\n"
     ]
    },
    {
     "name": "stderr",
     "output_type": "stream",
     "text": [
      "[Parallel(n_jobs=1)]: Done   2 out of   2 | elapsed:   12.8s remaining:    0.0s\n"
     ]
    },
    {
     "name": "stdout",
     "output_type": "stream",
     "text": [
      "[20:32:15] WARNING: C:/Users/Administrator/workspace/xgboost-win64_release_1.3.0/src/learner.cc:1061: Starting in XGBoost 1.3.0, the default evaluation metric used with the objective 'binary:logistic' was changed from 'error' to 'logloss'. Explicitly set eval_metric if you'd like to restore the old behavior.\n",
      "[CV] ... max_depth=3, min_child_weight=100, score=0.714, total=   5.7s\n",
      "[CV] max_depth=5, min_child_weight=10 ................................\n",
      "[20:32:21] WARNING: C:/Users/Administrator/workspace/xgboost-win64_release_1.3.0/src/learner.cc:1061: Starting in XGBoost 1.3.0, the default evaluation metric used with the objective 'binary:logistic' was changed from 'error' to 'logloss'. Explicitly set eval_metric if you'd like to restore the old behavior.\n",
      "[CV] .... max_depth=5, min_child_weight=10, score=0.722, total=   9.7s\n",
      "[CV] max_depth=5, min_child_weight=20 ................................\n",
      "[20:32:30] WARNING: C:/Users/Administrator/workspace/xgboost-win64_release_1.3.0/src/learner.cc:1061: Starting in XGBoost 1.3.0, the default evaluation metric used with the objective 'binary:logistic' was changed from 'error' to 'logloss'. Explicitly set eval_metric if you'd like to restore the old behavior.\n",
      "[CV] .... max_depth=5, min_child_weight=20, score=0.723, total=   9.2s\n",
      "[CV] max_depth=5, min_child_weight=100 ...............................\n",
      "[20:32:40] WARNING: C:/Users/Administrator/workspace/xgboost-win64_release_1.3.0/src/learner.cc:1061: Starting in XGBoost 1.3.0, the default evaluation metric used with the objective 'binary:logistic' was changed from 'error' to 'logloss'. Explicitly set eval_metric if you'd like to restore the old behavior.\n",
      "[CV] ... max_depth=5, min_child_weight=100, score=0.723, total=   8.3s\n",
      "[CV] max_depth=10, min_child_weight=10 ...............................\n",
      "[20:32:48] WARNING: C:/Users/Administrator/workspace/xgboost-win64_release_1.3.0/src/learner.cc:1061: Starting in XGBoost 1.3.0, the default evaluation metric used with the objective 'binary:logistic' was changed from 'error' to 'logloss'. Explicitly set eval_metric if you'd like to restore the old behavior.\n",
      "[CV] ... max_depth=10, min_child_weight=10, score=0.723, total=  17.2s\n",
      "[CV] max_depth=10, min_child_weight=20 ...............................\n",
      "[20:33:05] WARNING: C:/Users/Administrator/workspace/xgboost-win64_release_1.3.0/src/learner.cc:1061: Starting in XGBoost 1.3.0, the default evaluation metric used with the objective 'binary:logistic' was changed from 'error' to 'logloss'. Explicitly set eval_metric if you'd like to restore the old behavior.\n",
      "[CV] ... max_depth=10, min_child_weight=20, score=0.726, total=  16.3s\n",
      "[CV] max_depth=10, min_child_weight=100 ..............................\n",
      "[20:33:22] WARNING: C:/Users/Administrator/workspace/xgboost-win64_release_1.3.0/src/learner.cc:1061: Starting in XGBoost 1.3.0, the default evaluation metric used with the objective 'binary:logistic' was changed from 'error' to 'logloss'. Explicitly set eval_metric if you'd like to restore the old behavior.\n",
      "[CV] .. max_depth=10, min_child_weight=100, score=0.725, total=  12.1s\n"
     ]
    },
    {
     "name": "stderr",
     "output_type": "stream",
     "text": [
      "[Parallel(n_jobs=1)]: Done   9 out of   9 | elapsed:  1.5min finished\n"
     ]
    },
    {
     "name": "stdout",
     "output_type": "stream",
     "text": [
      "[20:33:34] WARNING: C:/Users/Administrator/workspace/xgboost-win64_release_1.3.0/src/learner.cc:1061: Starting in XGBoost 1.3.0, the default evaluation metric used with the objective 'binary:logistic' was changed from 'error' to 'logloss'. Explicitly set eval_metric if you'd like to restore the old behavior.\n",
      "Best test ROC AUC:  0.7260189568564908\n",
      "Best params:  {'objective': 'binary:logistic', 'use_label_encoder': True, 'base_score': 0.5, 'booster': 'gbtree', 'colsample_bylevel': 1, 'colsample_bynode': 1, 'colsample_bytree': 0.8, 'gamma': 0, 'gpu_id': -1, 'importance_type': 'gain', 'interaction_constraints': '', 'learning_rate': 0.03, 'max_delta_step': 0, 'max_depth': 10, 'min_child_weight': 20, 'missing': nan, 'monotone_constraints': '()', 'n_estimators': 50, 'n_jobs': -1, 'num_parallel_tree': 1, 'random_state': 0, 'reg_alpha': 0, 'reg_lambda': 1, 'scale_pos_weight': 1, 'subsample': 0.8, 'tree_method': 'exact', 'validate_parameters': 1, 'verbosity': None}\n",
      "Wall time: 1min 54s\n"
     ]
    }
   ],
   "source": [
    "%%time\n",
    "\n",
    "from sklearn.model_selection import GridSearchCV\n",
    "\n",
    "clf_xgb = xgb.XGBClassifier(**best_params)\n",
    "\n",
    "param_grid = {\n",
    "    'max_depth': [3, 5, 10],\n",
    "    'min_child_weight': [10, 20, 100]#[1, 5, 10]\n",
    "}\n",
    "\n",
    "best_params = find_params(clf_xgb, param_grid)"
   ]
  },
  {
   "cell_type": "code",
   "execution_count": 60,
   "metadata": {},
   "outputs": [
    {
     "name": "stdout",
     "output_type": "stream",
     "text": [
      "Fitting 1 folds for each of 5 candidates, totalling 5 fits\n",
      "[CV] gamma=0.0 .......................................................\n"
     ]
    },
    {
     "name": "stderr",
     "output_type": "stream",
     "text": [
      "[Parallel(n_jobs=1)]: Using backend SequentialBackend with 1 concurrent workers.\n"
     ]
    },
    {
     "name": "stdout",
     "output_type": "stream",
     "text": [
      "[20:33:56] WARNING: C:/Users/Administrator/workspace/xgboost-win64_release_1.3.0/src/learner.cc:1061: Starting in XGBoost 1.3.0, the default evaluation metric used with the objective 'binary:logistic' was changed from 'error' to 'logloss'. Explicitly set eval_metric if you'd like to restore the old behavior.\n",
      "[CV] ........................... gamma=0.0, score=0.726, total=  18.2s\n",
      "[CV] gamma=0.125 .....................................................\n"
     ]
    },
    {
     "name": "stderr",
     "output_type": "stream",
     "text": [
      "[Parallel(n_jobs=1)]: Done   1 out of   1 | elapsed:   18.1s remaining:    0.0s\n"
     ]
    },
    {
     "name": "stdout",
     "output_type": "stream",
     "text": [
      "[20:34:15] WARNING: C:/Users/Administrator/workspace/xgboost-win64_release_1.3.0/src/learner.cc:1061: Starting in XGBoost 1.3.0, the default evaluation metric used with the objective 'binary:logistic' was changed from 'error' to 'logloss'. Explicitly set eval_metric if you'd like to restore the old behavior.\n",
      "[CV] ......................... gamma=0.125, score=0.726, total=  16.7s\n",
      "[CV] gamma=0.25 ......................................................\n"
     ]
    },
    {
     "name": "stderr",
     "output_type": "stream",
     "text": [
      "[Parallel(n_jobs=1)]: Done   2 out of   2 | elapsed:   34.8s remaining:    0.0s\n"
     ]
    },
    {
     "name": "stdout",
     "output_type": "stream",
     "text": [
      "[20:34:31] WARNING: C:/Users/Administrator/workspace/xgboost-win64_release_1.3.0/src/learner.cc:1061: Starting in XGBoost 1.3.0, the default evaluation metric used with the objective 'binary:logistic' was changed from 'error' to 'logloss'. Explicitly set eval_metric if you'd like to restore the old behavior.\n",
      "[CV] .......................... gamma=0.25, score=0.726, total=  16.8s\n",
      "[CV] gamma=0.375 .....................................................\n",
      "[20:34:48] WARNING: C:/Users/Administrator/workspace/xgboost-win64_release_1.3.0/src/learner.cc:1061: Starting in XGBoost 1.3.0, the default evaluation metric used with the objective 'binary:logistic' was changed from 'error' to 'logloss'. Explicitly set eval_metric if you'd like to restore the old behavior.\n",
      "[CV] ......................... gamma=0.375, score=0.726, total=  17.1s\n",
      "[CV] gamma=0.5 .......................................................\n",
      "[20:35:05] WARNING: C:/Users/Administrator/workspace/xgboost-win64_release_1.3.0/src/learner.cc:1061: Starting in XGBoost 1.3.0, the default evaluation metric used with the objective 'binary:logistic' was changed from 'error' to 'logloss'. Explicitly set eval_metric if you'd like to restore the old behavior.\n",
      "[CV] ........................... gamma=0.5, score=0.726, total=  17.6s\n"
     ]
    },
    {
     "name": "stderr",
     "output_type": "stream",
     "text": [
      "[Parallel(n_jobs=1)]: Done   5 out of   5 | elapsed:  1.4min finished\n"
     ]
    },
    {
     "name": "stdout",
     "output_type": "stream",
     "text": [
      "[20:35:23] WARNING: C:/Users/Administrator/workspace/xgboost-win64_release_1.3.0/src/learner.cc:1061: Starting in XGBoost 1.3.0, the default evaluation metric used with the objective 'binary:logistic' was changed from 'error' to 'logloss'. Explicitly set eval_metric if you'd like to restore the old behavior.\n",
      "Best test ROC AUC:  0.7263089575142242\n",
      "Best params:  {'objective': 'binary:logistic', 'use_label_encoder': True, 'base_score': 0.5, 'booster': 'gbtree', 'colsample_bylevel': 1, 'colsample_bynode': 1, 'colsample_bytree': 0.8, 'gamma': 0.125, 'gpu_id': -1, 'importance_type': 'gain', 'interaction_constraints': '', 'learning_rate': 0.03, 'max_delta_step': 0, 'max_depth': 10, 'min_child_weight': 20, 'missing': nan, 'monotone_constraints': '()', 'n_estimators': 50, 'n_jobs': -1, 'num_parallel_tree': 1, 'random_state': 0, 'reg_alpha': 0, 'reg_lambda': 1, 'scale_pos_weight': 1, 'subsample': 0.8, 'tree_method': 'exact', 'validate_parameters': 1, 'verbosity': None}\n",
      "Wall time: 1min 48s\n"
     ]
    }
   ],
   "source": [
    "%%time\n",
    "\n",
    "clf_xgb = xgb.XGBClassifier(**best_params)\n",
    "\n",
    "param_grid = {\n",
    "    'gamma': np.linspace(0, 0.5, 5)\n",
    "}\n",
    "\n",
    "best_params = find_params(clf_xgb, param_grid)"
   ]
  },
  {
   "cell_type": "code",
   "execution_count": 61,
   "metadata": {},
   "outputs": [
    {
     "name": "stdout",
     "output_type": "stream",
     "text": [
      "Fitting 1 folds for each of 36 candidates, totalling 36 fits\n",
      "[CV] colsample_bytree=0.5, subsample=0.5 .............................\n"
     ]
    },
    {
     "name": "stderr",
     "output_type": "stream",
     "text": [
      "[Parallel(n_jobs=1)]: Using backend SequentialBackend with 1 concurrent workers.\n"
     ]
    },
    {
     "name": "stdout",
     "output_type": "stream",
     "text": [
      "[20:35:45] WARNING: C:/Users/Administrator/workspace/xgboost-win64_release_1.3.0/src/learner.cc:1061: Starting in XGBoost 1.3.0, the default evaluation metric used with the objective 'binary:logistic' was changed from 'error' to 'logloss'. Explicitly set eval_metric if you'd like to restore the old behavior.\n",
      "[CV] . colsample_bytree=0.5, subsample=0.5, score=0.723, total=   9.5s\n",
      "[CV] colsample_bytree=0.5, subsample=0.6 .............................\n"
     ]
    },
    {
     "name": "stderr",
     "output_type": "stream",
     "text": [
      "[Parallel(n_jobs=1)]: Done   1 out of   1 | elapsed:    9.4s remaining:    0.0s\n"
     ]
    },
    {
     "name": "stdout",
     "output_type": "stream",
     "text": [
      "[20:35:55] WARNING: C:/Users/Administrator/workspace/xgboost-win64_release_1.3.0/src/learner.cc:1061: Starting in XGBoost 1.3.0, the default evaluation metric used with the objective 'binary:logistic' was changed from 'error' to 'logloss'. Explicitly set eval_metric if you'd like to restore the old behavior.\n",
      "[CV] . colsample_bytree=0.5, subsample=0.6, score=0.725, total=  10.5s\n",
      "[CV] colsample_bytree=0.5, subsample=0.7 .............................\n"
     ]
    },
    {
     "name": "stderr",
     "output_type": "stream",
     "text": [
      "[Parallel(n_jobs=1)]: Done   2 out of   2 | elapsed:   19.9s remaining:    0.0s\n"
     ]
    },
    {
     "name": "stdout",
     "output_type": "stream",
     "text": [
      "[20:36:05] WARNING: C:/Users/Administrator/workspace/xgboost-win64_release_1.3.0/src/learner.cc:1061: Starting in XGBoost 1.3.0, the default evaluation metric used with the objective 'binary:logistic' was changed from 'error' to 'logloss'. Explicitly set eval_metric if you'd like to restore the old behavior.\n",
      "[CV] . colsample_bytree=0.5, subsample=0.7, score=0.719, total=  11.2s\n",
      "[CV] colsample_bytree=0.5, subsample=0.8 .............................\n",
      "[20:36:17] WARNING: C:/Users/Administrator/workspace/xgboost-win64_release_1.3.0/src/learner.cc:1061: Starting in XGBoost 1.3.0, the default evaluation metric used with the objective 'binary:logistic' was changed from 'error' to 'logloss'. Explicitly set eval_metric if you'd like to restore the old behavior.\n",
      "[CV] . colsample_bytree=0.5, subsample=0.8, score=0.723, total=  11.6s\n",
      "[CV] colsample_bytree=0.5, subsample=0.9 .............................\n",
      "[20:36:28] WARNING: C:/Users/Administrator/workspace/xgboost-win64_release_1.3.0/src/learner.cc:1061: Starting in XGBoost 1.3.0, the default evaluation metric used with the objective 'binary:logistic' was changed from 'error' to 'logloss'. Explicitly set eval_metric if you'd like to restore the old behavior.\n",
      "[CV] . colsample_bytree=0.5, subsample=0.9, score=0.720, total=  12.1s\n",
      "[CV] colsample_bytree=0.5, subsample=1.0 .............................\n",
      "[20:36:40] WARNING: C:/Users/Administrator/workspace/xgboost-win64_release_1.3.0/src/learner.cc:1061: Starting in XGBoost 1.3.0, the default evaluation metric used with the objective 'binary:logistic' was changed from 'error' to 'logloss'. Explicitly set eval_metric if you'd like to restore the old behavior.\n",
      "[CV] . colsample_bytree=0.5, subsample=1.0, score=0.723, total=  12.7s\n",
      "[CV] colsample_bytree=0.6, subsample=0.5 .............................\n",
      "[20:36:53] WARNING: C:/Users/Administrator/workspace/xgboost-win64_release_1.3.0/src/learner.cc:1061: Starting in XGBoost 1.3.0, the default evaluation metric used with the objective 'binary:logistic' was changed from 'error' to 'logloss'. Explicitly set eval_metric if you'd like to restore the old behavior.\n",
      "[CV] . colsample_bytree=0.6, subsample=0.5, score=0.727, total=  11.4s\n",
      "[CV] colsample_bytree=0.6, subsample=0.6 .............................\n",
      "[20:37:04] WARNING: C:/Users/Administrator/workspace/xgboost-win64_release_1.3.0/src/learner.cc:1061: Starting in XGBoost 1.3.0, the default evaluation metric used with the objective 'binary:logistic' was changed from 'error' to 'logloss'. Explicitly set eval_metric if you'd like to restore the old behavior.\n",
      "[CV] . colsample_bytree=0.6, subsample=0.6, score=0.726, total=  12.4s\n",
      "[CV] colsample_bytree=0.6, subsample=0.7 .............................\n",
      "[20:37:17] WARNING: C:/Users/Administrator/workspace/xgboost-win64_release_1.3.0/src/learner.cc:1061: Starting in XGBoost 1.3.0, the default evaluation metric used with the objective 'binary:logistic' was changed from 'error' to 'logloss'. Explicitly set eval_metric if you'd like to restore the old behavior.\n",
      "[CV] . colsample_bytree=0.6, subsample=0.7, score=0.724, total=  13.3s\n",
      "[CV] colsample_bytree=0.6, subsample=0.8 .............................\n",
      "[20:37:30] WARNING: C:/Users/Administrator/workspace/xgboost-win64_release_1.3.0/src/learner.cc:1061: Starting in XGBoost 1.3.0, the default evaluation metric used with the objective 'binary:logistic' was changed from 'error' to 'logloss'. Explicitly set eval_metric if you'd like to restore the old behavior.\n",
      "[CV] . colsample_bytree=0.6, subsample=0.8, score=0.727, total=  13.3s\n",
      "[CV] colsample_bytree=0.6, subsample=0.9 .............................\n",
      "[20:37:44] WARNING: C:/Users/Administrator/workspace/xgboost-win64_release_1.3.0/src/learner.cc:1061: Starting in XGBoost 1.3.0, the default evaluation metric used with the objective 'binary:logistic' was changed from 'error' to 'logloss'. Explicitly set eval_metric if you'd like to restore the old behavior.\n",
      "[CV] . colsample_bytree=0.6, subsample=0.9, score=0.724, total=  14.7s\n",
      "[CV] colsample_bytree=0.6, subsample=1.0 .............................\n",
      "[20:37:58] WARNING: C:/Users/Administrator/workspace/xgboost-win64_release_1.3.0/src/learner.cc:1061: Starting in XGBoost 1.3.0, the default evaluation metric used with the objective 'binary:logistic' was changed from 'error' to 'logloss'. Explicitly set eval_metric if you'd like to restore the old behavior.\n",
      "[CV] . colsample_bytree=0.6, subsample=1.0, score=0.726, total=  14.6s\n",
      "[CV] colsample_bytree=0.7, subsample=0.5 .............................\n",
      "[20:38:13] WARNING: C:/Users/Administrator/workspace/xgboost-win64_release_1.3.0/src/learner.cc:1061: Starting in XGBoost 1.3.0, the default evaluation metric used with the objective 'binary:logistic' was changed from 'error' to 'logloss'. Explicitly set eval_metric if you'd like to restore the old behavior.\n",
      "[CV] . colsample_bytree=0.7, subsample=0.5, score=0.725, total=  12.7s\n",
      "[CV] colsample_bytree=0.7, subsample=0.6 .............................\n",
      "[20:38:26] WARNING: C:/Users/Administrator/workspace/xgboost-win64_release_1.3.0/src/learner.cc:1061: Starting in XGBoost 1.3.0, the default evaluation metric used with the objective 'binary:logistic' was changed from 'error' to 'logloss'. Explicitly set eval_metric if you'd like to restore the old behavior.\n"
     ]
    },
    {
     "ename": "KeyboardInterrupt",
     "evalue": "",
     "output_type": "error",
     "traceback": [
      "\u001b[1;31m---------------------------------------------------------------------------\u001b[0m",
      "\u001b[1;31mKeyboardInterrupt\u001b[0m                         Traceback (most recent call last)",
      "\u001b[1;32m<timed exec>\u001b[0m in \u001b[0;36m<module>\u001b[1;34m\u001b[0m\n",
      "\u001b[1;32m<ipython-input-58-c022db123754>\u001b[0m in \u001b[0;36mfind_params\u001b[1;34m(clf, param_grid)\u001b[0m\n\u001b[0;32m      4\u001b[0m                   verbose=3)\n\u001b[0;32m      5\u001b[0m \u001b[1;33m\u001b[0m\u001b[0m\n\u001b[1;32m----> 6\u001b[1;33m     \u001b[0mclf\u001b[0m\u001b[1;33m.\u001b[0m\u001b[0mfit\u001b[0m\u001b[1;33m(\u001b[0m\u001b[0mpd\u001b[0m\u001b[1;33m.\u001b[0m\u001b[0mconcat\u001b[0m\u001b[1;33m(\u001b[0m\u001b[1;33m[\u001b[0m\u001b[0mX_train\u001b[0m\u001b[1;33m,\u001b[0m \u001b[0mX_test\u001b[0m\u001b[1;33m]\u001b[0m\u001b[1;33m)\u001b[0m\u001b[1;33m.\u001b[0m\u001b[0mvalues\u001b[0m\u001b[1;33m,\u001b[0m \u001b[0mpd\u001b[0m\u001b[1;33m.\u001b[0m\u001b[0mconcat\u001b[0m\u001b[1;33m(\u001b[0m\u001b[1;33m[\u001b[0m\u001b[0my_train\u001b[0m\u001b[1;33m,\u001b[0m \u001b[0my_test\u001b[0m\u001b[1;33m]\u001b[0m\u001b[1;33m)\u001b[0m\u001b[1;33m.\u001b[0m\u001b[0mvalues\u001b[0m\u001b[1;33m)\u001b[0m\u001b[1;33m\u001b[0m\u001b[1;33m\u001b[0m\u001b[0m\n\u001b[0m\u001b[0;32m      7\u001b[0m     \u001b[0mbest_params\u001b[0m \u001b[1;33m=\u001b[0m \u001b[0mclf\u001b[0m\u001b[1;33m.\u001b[0m\u001b[0mbest_estimator_\u001b[0m\u001b[1;33m.\u001b[0m\u001b[0mget_params\u001b[0m\u001b[1;33m(\u001b[0m\u001b[1;33m)\u001b[0m\u001b[1;33m\u001b[0m\u001b[1;33m\u001b[0m\u001b[0m\n\u001b[0;32m      8\u001b[0m     \u001b[0mprint\u001b[0m\u001b[1;33m(\u001b[0m\u001b[1;34m'Best test ROC AUC: '\u001b[0m\u001b[1;33m,\u001b[0m \u001b[0mclf\u001b[0m\u001b[1;33m.\u001b[0m\u001b[0mbest_score_\u001b[0m\u001b[1;33m)\u001b[0m\u001b[1;33m\u001b[0m\u001b[1;33m\u001b[0m\u001b[0m\n",
      "\u001b[1;32mc:\\users\\andreik\\appdata\\local\\programs\\python\\python38\\lib\\site-packages\\sklearn\\utils\\validation.py\u001b[0m in \u001b[0;36minner_f\u001b[1;34m(*args, **kwargs)\u001b[0m\n\u001b[0;32m     70\u001b[0m                           FutureWarning)\n\u001b[0;32m     71\u001b[0m         \u001b[0mkwargs\u001b[0m\u001b[1;33m.\u001b[0m\u001b[0mupdate\u001b[0m\u001b[1;33m(\u001b[0m\u001b[1;33m{\u001b[0m\u001b[0mk\u001b[0m\u001b[1;33m:\u001b[0m \u001b[0marg\u001b[0m \u001b[1;32mfor\u001b[0m \u001b[0mk\u001b[0m\u001b[1;33m,\u001b[0m \u001b[0marg\u001b[0m \u001b[1;32min\u001b[0m \u001b[0mzip\u001b[0m\u001b[1;33m(\u001b[0m\u001b[0msig\u001b[0m\u001b[1;33m.\u001b[0m\u001b[0mparameters\u001b[0m\u001b[1;33m,\u001b[0m \u001b[0margs\u001b[0m\u001b[1;33m)\u001b[0m\u001b[1;33m}\u001b[0m\u001b[1;33m)\u001b[0m\u001b[1;33m\u001b[0m\u001b[1;33m\u001b[0m\u001b[0m\n\u001b[1;32m---> 72\u001b[1;33m         \u001b[1;32mreturn\u001b[0m \u001b[0mf\u001b[0m\u001b[1;33m(\u001b[0m\u001b[1;33m**\u001b[0m\u001b[0mkwargs\u001b[0m\u001b[1;33m)\u001b[0m\u001b[1;33m\u001b[0m\u001b[1;33m\u001b[0m\u001b[0m\n\u001b[0m\u001b[0;32m     73\u001b[0m     \u001b[1;32mreturn\u001b[0m \u001b[0minner_f\u001b[0m\u001b[1;33m\u001b[0m\u001b[1;33m\u001b[0m\u001b[0m\n\u001b[0;32m     74\u001b[0m \u001b[1;33m\u001b[0m\u001b[0m\n",
      "\u001b[1;32mc:\\users\\andreik\\appdata\\local\\programs\\python\\python38\\lib\\site-packages\\sklearn\\model_selection\\_search.py\u001b[0m in \u001b[0;36mfit\u001b[1;34m(self, X, y, groups, **fit_params)\u001b[0m\n\u001b[0;32m    734\u001b[0m                 \u001b[1;32mreturn\u001b[0m \u001b[0mresults\u001b[0m\u001b[1;33m\u001b[0m\u001b[1;33m\u001b[0m\u001b[0m\n\u001b[0;32m    735\u001b[0m \u001b[1;33m\u001b[0m\u001b[0m\n\u001b[1;32m--> 736\u001b[1;33m             \u001b[0mself\u001b[0m\u001b[1;33m.\u001b[0m\u001b[0m_run_search\u001b[0m\u001b[1;33m(\u001b[0m\u001b[0mevaluate_candidates\u001b[0m\u001b[1;33m)\u001b[0m\u001b[1;33m\u001b[0m\u001b[1;33m\u001b[0m\u001b[0m\n\u001b[0m\u001b[0;32m    737\u001b[0m \u001b[1;33m\u001b[0m\u001b[0m\n\u001b[0;32m    738\u001b[0m         \u001b[1;31m# For multi-metric evaluation, store the best_index_, best_params_ and\u001b[0m\u001b[1;33m\u001b[0m\u001b[1;33m\u001b[0m\u001b[1;33m\u001b[0m\u001b[0m\n",
      "\u001b[1;32mc:\\users\\andreik\\appdata\\local\\programs\\python\\python38\\lib\\site-packages\\sklearn\\model_selection\\_search.py\u001b[0m in \u001b[0;36m_run_search\u001b[1;34m(self, evaluate_candidates)\u001b[0m\n\u001b[0;32m   1186\u001b[0m     \u001b[1;32mdef\u001b[0m \u001b[0m_run_search\u001b[0m\u001b[1;33m(\u001b[0m\u001b[0mself\u001b[0m\u001b[1;33m,\u001b[0m \u001b[0mevaluate_candidates\u001b[0m\u001b[1;33m)\u001b[0m\u001b[1;33m:\u001b[0m\u001b[1;33m\u001b[0m\u001b[1;33m\u001b[0m\u001b[0m\n\u001b[0;32m   1187\u001b[0m         \u001b[1;34m\"\"\"Search all candidates in param_grid\"\"\"\u001b[0m\u001b[1;33m\u001b[0m\u001b[1;33m\u001b[0m\u001b[0m\n\u001b[1;32m-> 1188\u001b[1;33m         \u001b[0mevaluate_candidates\u001b[0m\u001b[1;33m(\u001b[0m\u001b[0mParameterGrid\u001b[0m\u001b[1;33m(\u001b[0m\u001b[0mself\u001b[0m\u001b[1;33m.\u001b[0m\u001b[0mparam_grid\u001b[0m\u001b[1;33m)\u001b[0m\u001b[1;33m)\u001b[0m\u001b[1;33m\u001b[0m\u001b[1;33m\u001b[0m\u001b[0m\n\u001b[0m\u001b[0;32m   1189\u001b[0m \u001b[1;33m\u001b[0m\u001b[0m\n\u001b[0;32m   1190\u001b[0m \u001b[1;33m\u001b[0m\u001b[0m\n",
      "\u001b[1;32mc:\\users\\andreik\\appdata\\local\\programs\\python\\python38\\lib\\site-packages\\sklearn\\model_selection\\_search.py\u001b[0m in \u001b[0;36mevaluate_candidates\u001b[1;34m(candidate_params)\u001b[0m\n\u001b[0;32m    706\u001b[0m                               n_splits, n_candidates, n_candidates * n_splits))\n\u001b[0;32m    707\u001b[0m \u001b[1;33m\u001b[0m\u001b[0m\n\u001b[1;32m--> 708\u001b[1;33m                 out = parallel(delayed(_fit_and_score)(clone(base_estimator),\n\u001b[0m\u001b[0;32m    709\u001b[0m                                                        \u001b[0mX\u001b[0m\u001b[1;33m,\u001b[0m \u001b[0my\u001b[0m\u001b[1;33m,\u001b[0m\u001b[1;33m\u001b[0m\u001b[1;33m\u001b[0m\u001b[0m\n\u001b[0;32m    710\u001b[0m                                                        \u001b[0mtrain\u001b[0m\u001b[1;33m=\u001b[0m\u001b[0mtrain\u001b[0m\u001b[1;33m,\u001b[0m \u001b[0mtest\u001b[0m\u001b[1;33m=\u001b[0m\u001b[0mtest\u001b[0m\u001b[1;33m,\u001b[0m\u001b[1;33m\u001b[0m\u001b[1;33m\u001b[0m\u001b[0m\n",
      "\u001b[1;32mc:\\users\\andreik\\appdata\\local\\programs\\python\\python38\\lib\\site-packages\\joblib\\parallel.py\u001b[0m in \u001b[0;36m__call__\u001b[1;34m(self, iterable)\u001b[0m\n\u001b[0;32m   1049\u001b[0m                 \u001b[0mself\u001b[0m\u001b[1;33m.\u001b[0m\u001b[0m_iterating\u001b[0m \u001b[1;33m=\u001b[0m \u001b[0mself\u001b[0m\u001b[1;33m.\u001b[0m\u001b[0m_original_iterator\u001b[0m \u001b[1;32mis\u001b[0m \u001b[1;32mnot\u001b[0m \u001b[1;32mNone\u001b[0m\u001b[1;33m\u001b[0m\u001b[1;33m\u001b[0m\u001b[0m\n\u001b[0;32m   1050\u001b[0m \u001b[1;33m\u001b[0m\u001b[0m\n\u001b[1;32m-> 1051\u001b[1;33m             \u001b[1;32mwhile\u001b[0m \u001b[0mself\u001b[0m\u001b[1;33m.\u001b[0m\u001b[0mdispatch_one_batch\u001b[0m\u001b[1;33m(\u001b[0m\u001b[0miterator\u001b[0m\u001b[1;33m)\u001b[0m\u001b[1;33m:\u001b[0m\u001b[1;33m\u001b[0m\u001b[1;33m\u001b[0m\u001b[0m\n\u001b[0m\u001b[0;32m   1052\u001b[0m                 \u001b[1;32mpass\u001b[0m\u001b[1;33m\u001b[0m\u001b[1;33m\u001b[0m\u001b[0m\n\u001b[0;32m   1053\u001b[0m \u001b[1;33m\u001b[0m\u001b[0m\n",
      "\u001b[1;32mc:\\users\\andreik\\appdata\\local\\programs\\python\\python38\\lib\\site-packages\\joblib\\parallel.py\u001b[0m in \u001b[0;36mdispatch_one_batch\u001b[1;34m(self, iterator)\u001b[0m\n\u001b[0;32m    864\u001b[0m                 \u001b[1;32mreturn\u001b[0m \u001b[1;32mFalse\u001b[0m\u001b[1;33m\u001b[0m\u001b[1;33m\u001b[0m\u001b[0m\n\u001b[0;32m    865\u001b[0m             \u001b[1;32melse\u001b[0m\u001b[1;33m:\u001b[0m\u001b[1;33m\u001b[0m\u001b[1;33m\u001b[0m\u001b[0m\n\u001b[1;32m--> 866\u001b[1;33m                 \u001b[0mself\u001b[0m\u001b[1;33m.\u001b[0m\u001b[0m_dispatch\u001b[0m\u001b[1;33m(\u001b[0m\u001b[0mtasks\u001b[0m\u001b[1;33m)\u001b[0m\u001b[1;33m\u001b[0m\u001b[1;33m\u001b[0m\u001b[0m\n\u001b[0m\u001b[0;32m    867\u001b[0m                 \u001b[1;32mreturn\u001b[0m \u001b[1;32mTrue\u001b[0m\u001b[1;33m\u001b[0m\u001b[1;33m\u001b[0m\u001b[0m\n\u001b[0;32m    868\u001b[0m \u001b[1;33m\u001b[0m\u001b[0m\n",
      "\u001b[1;32mc:\\users\\andreik\\appdata\\local\\programs\\python\\python38\\lib\\site-packages\\joblib\\parallel.py\u001b[0m in \u001b[0;36m_dispatch\u001b[1;34m(self, batch)\u001b[0m\n\u001b[0;32m    782\u001b[0m         \u001b[1;32mwith\u001b[0m \u001b[0mself\u001b[0m\u001b[1;33m.\u001b[0m\u001b[0m_lock\u001b[0m\u001b[1;33m:\u001b[0m\u001b[1;33m\u001b[0m\u001b[1;33m\u001b[0m\u001b[0m\n\u001b[0;32m    783\u001b[0m             \u001b[0mjob_idx\u001b[0m \u001b[1;33m=\u001b[0m \u001b[0mlen\u001b[0m\u001b[1;33m(\u001b[0m\u001b[0mself\u001b[0m\u001b[1;33m.\u001b[0m\u001b[0m_jobs\u001b[0m\u001b[1;33m)\u001b[0m\u001b[1;33m\u001b[0m\u001b[1;33m\u001b[0m\u001b[0m\n\u001b[1;32m--> 784\u001b[1;33m             \u001b[0mjob\u001b[0m \u001b[1;33m=\u001b[0m \u001b[0mself\u001b[0m\u001b[1;33m.\u001b[0m\u001b[0m_backend\u001b[0m\u001b[1;33m.\u001b[0m\u001b[0mapply_async\u001b[0m\u001b[1;33m(\u001b[0m\u001b[0mbatch\u001b[0m\u001b[1;33m,\u001b[0m \u001b[0mcallback\u001b[0m\u001b[1;33m=\u001b[0m\u001b[0mcb\u001b[0m\u001b[1;33m)\u001b[0m\u001b[1;33m\u001b[0m\u001b[1;33m\u001b[0m\u001b[0m\n\u001b[0m\u001b[0;32m    785\u001b[0m             \u001b[1;31m# A job can complete so quickly than its callback is\u001b[0m\u001b[1;33m\u001b[0m\u001b[1;33m\u001b[0m\u001b[1;33m\u001b[0m\u001b[0m\n\u001b[0;32m    786\u001b[0m             \u001b[1;31m# called before we get here, causing self._jobs to\u001b[0m\u001b[1;33m\u001b[0m\u001b[1;33m\u001b[0m\u001b[1;33m\u001b[0m\u001b[0m\n",
      "\u001b[1;32mc:\\users\\andreik\\appdata\\local\\programs\\python\\python38\\lib\\site-packages\\joblib\\_parallel_backends.py\u001b[0m in \u001b[0;36mapply_async\u001b[1;34m(self, func, callback)\u001b[0m\n\u001b[0;32m    206\u001b[0m     \u001b[1;32mdef\u001b[0m \u001b[0mapply_async\u001b[0m\u001b[1;33m(\u001b[0m\u001b[0mself\u001b[0m\u001b[1;33m,\u001b[0m \u001b[0mfunc\u001b[0m\u001b[1;33m,\u001b[0m \u001b[0mcallback\u001b[0m\u001b[1;33m=\u001b[0m\u001b[1;32mNone\u001b[0m\u001b[1;33m)\u001b[0m\u001b[1;33m:\u001b[0m\u001b[1;33m\u001b[0m\u001b[1;33m\u001b[0m\u001b[0m\n\u001b[0;32m    207\u001b[0m         \u001b[1;34m\"\"\"Schedule a func to be run\"\"\"\u001b[0m\u001b[1;33m\u001b[0m\u001b[1;33m\u001b[0m\u001b[0m\n\u001b[1;32m--> 208\u001b[1;33m         \u001b[0mresult\u001b[0m \u001b[1;33m=\u001b[0m \u001b[0mImmediateResult\u001b[0m\u001b[1;33m(\u001b[0m\u001b[0mfunc\u001b[0m\u001b[1;33m)\u001b[0m\u001b[1;33m\u001b[0m\u001b[1;33m\u001b[0m\u001b[0m\n\u001b[0m\u001b[0;32m    209\u001b[0m         \u001b[1;32mif\u001b[0m \u001b[0mcallback\u001b[0m\u001b[1;33m:\u001b[0m\u001b[1;33m\u001b[0m\u001b[1;33m\u001b[0m\u001b[0m\n\u001b[0;32m    210\u001b[0m             \u001b[0mcallback\u001b[0m\u001b[1;33m(\u001b[0m\u001b[0mresult\u001b[0m\u001b[1;33m)\u001b[0m\u001b[1;33m\u001b[0m\u001b[1;33m\u001b[0m\u001b[0m\n",
      "\u001b[1;32mc:\\users\\andreik\\appdata\\local\\programs\\python\\python38\\lib\\site-packages\\joblib\\_parallel_backends.py\u001b[0m in \u001b[0;36m__init__\u001b[1;34m(self, batch)\u001b[0m\n\u001b[0;32m    570\u001b[0m         \u001b[1;31m# Don't delay the application, to avoid keeping the input\u001b[0m\u001b[1;33m\u001b[0m\u001b[1;33m\u001b[0m\u001b[1;33m\u001b[0m\u001b[0m\n\u001b[0;32m    571\u001b[0m         \u001b[1;31m# arguments in memory\u001b[0m\u001b[1;33m\u001b[0m\u001b[1;33m\u001b[0m\u001b[1;33m\u001b[0m\u001b[0m\n\u001b[1;32m--> 572\u001b[1;33m         \u001b[0mself\u001b[0m\u001b[1;33m.\u001b[0m\u001b[0mresults\u001b[0m \u001b[1;33m=\u001b[0m \u001b[0mbatch\u001b[0m\u001b[1;33m(\u001b[0m\u001b[1;33m)\u001b[0m\u001b[1;33m\u001b[0m\u001b[1;33m\u001b[0m\u001b[0m\n\u001b[0m\u001b[0;32m    573\u001b[0m \u001b[1;33m\u001b[0m\u001b[0m\n\u001b[0;32m    574\u001b[0m     \u001b[1;32mdef\u001b[0m \u001b[0mget\u001b[0m\u001b[1;33m(\u001b[0m\u001b[0mself\u001b[0m\u001b[1;33m)\u001b[0m\u001b[1;33m:\u001b[0m\u001b[1;33m\u001b[0m\u001b[1;33m\u001b[0m\u001b[0m\n",
      "\u001b[1;32mc:\\users\\andreik\\appdata\\local\\programs\\python\\python38\\lib\\site-packages\\joblib\\parallel.py\u001b[0m in \u001b[0;36m__call__\u001b[1;34m(self)\u001b[0m\n\u001b[0;32m    260\u001b[0m         \u001b[1;31m# change the default number of processes to -1\u001b[0m\u001b[1;33m\u001b[0m\u001b[1;33m\u001b[0m\u001b[1;33m\u001b[0m\u001b[0m\n\u001b[0;32m    261\u001b[0m         \u001b[1;32mwith\u001b[0m \u001b[0mparallel_backend\u001b[0m\u001b[1;33m(\u001b[0m\u001b[0mself\u001b[0m\u001b[1;33m.\u001b[0m\u001b[0m_backend\u001b[0m\u001b[1;33m,\u001b[0m \u001b[0mn_jobs\u001b[0m\u001b[1;33m=\u001b[0m\u001b[0mself\u001b[0m\u001b[1;33m.\u001b[0m\u001b[0m_n_jobs\u001b[0m\u001b[1;33m)\u001b[0m\u001b[1;33m:\u001b[0m\u001b[1;33m\u001b[0m\u001b[1;33m\u001b[0m\u001b[0m\n\u001b[1;32m--> 262\u001b[1;33m             return [func(*args, **kwargs)\n\u001b[0m\u001b[0;32m    263\u001b[0m                     for func, args, kwargs in self.items]\n\u001b[0;32m    264\u001b[0m \u001b[1;33m\u001b[0m\u001b[0m\n",
      "\u001b[1;32mc:\\users\\andreik\\appdata\\local\\programs\\python\\python38\\lib\\site-packages\\joblib\\parallel.py\u001b[0m in \u001b[0;36m<listcomp>\u001b[1;34m(.0)\u001b[0m\n\u001b[0;32m    260\u001b[0m         \u001b[1;31m# change the default number of processes to -1\u001b[0m\u001b[1;33m\u001b[0m\u001b[1;33m\u001b[0m\u001b[1;33m\u001b[0m\u001b[0m\n\u001b[0;32m    261\u001b[0m         \u001b[1;32mwith\u001b[0m \u001b[0mparallel_backend\u001b[0m\u001b[1;33m(\u001b[0m\u001b[0mself\u001b[0m\u001b[1;33m.\u001b[0m\u001b[0m_backend\u001b[0m\u001b[1;33m,\u001b[0m \u001b[0mn_jobs\u001b[0m\u001b[1;33m=\u001b[0m\u001b[0mself\u001b[0m\u001b[1;33m.\u001b[0m\u001b[0m_n_jobs\u001b[0m\u001b[1;33m)\u001b[0m\u001b[1;33m:\u001b[0m\u001b[1;33m\u001b[0m\u001b[1;33m\u001b[0m\u001b[0m\n\u001b[1;32m--> 262\u001b[1;33m             return [func(*args, **kwargs)\n\u001b[0m\u001b[0;32m    263\u001b[0m                     for func, args, kwargs in self.items]\n\u001b[0;32m    264\u001b[0m \u001b[1;33m\u001b[0m\u001b[0m\n",
      "\u001b[1;32mc:\\users\\andreik\\appdata\\local\\programs\\python\\python38\\lib\\site-packages\\sklearn\\model_selection\\_validation.py\u001b[0m in \u001b[0;36m_fit_and_score\u001b[1;34m(estimator, X, y, scorer, train, test, verbose, parameters, fit_params, return_train_score, return_parameters, return_n_test_samples, return_times, return_estimator, error_score)\u001b[0m\n\u001b[0;32m    529\u001b[0m             \u001b[0mestimator\u001b[0m\u001b[1;33m.\u001b[0m\u001b[0mfit\u001b[0m\u001b[1;33m(\u001b[0m\u001b[0mX_train\u001b[0m\u001b[1;33m,\u001b[0m \u001b[1;33m**\u001b[0m\u001b[0mfit_params\u001b[0m\u001b[1;33m)\u001b[0m\u001b[1;33m\u001b[0m\u001b[1;33m\u001b[0m\u001b[0m\n\u001b[0;32m    530\u001b[0m         \u001b[1;32melse\u001b[0m\u001b[1;33m:\u001b[0m\u001b[1;33m\u001b[0m\u001b[1;33m\u001b[0m\u001b[0m\n\u001b[1;32m--> 531\u001b[1;33m             \u001b[0mestimator\u001b[0m\u001b[1;33m.\u001b[0m\u001b[0mfit\u001b[0m\u001b[1;33m(\u001b[0m\u001b[0mX_train\u001b[0m\u001b[1;33m,\u001b[0m \u001b[0my_train\u001b[0m\u001b[1;33m,\u001b[0m \u001b[1;33m**\u001b[0m\u001b[0mfit_params\u001b[0m\u001b[1;33m)\u001b[0m\u001b[1;33m\u001b[0m\u001b[1;33m\u001b[0m\u001b[0m\n\u001b[0m\u001b[0;32m    532\u001b[0m \u001b[1;33m\u001b[0m\u001b[0m\n\u001b[0;32m    533\u001b[0m     \u001b[1;32mexcept\u001b[0m \u001b[0mException\u001b[0m \u001b[1;32mas\u001b[0m \u001b[0me\u001b[0m\u001b[1;33m:\u001b[0m\u001b[1;33m\u001b[0m\u001b[1;33m\u001b[0m\u001b[0m\n",
      "\u001b[1;32mc:\\users\\andreik\\appdata\\local\\programs\\python\\python38\\lib\\site-packages\\xgboost\\core.py\u001b[0m in \u001b[0;36minner_f\u001b[1;34m(*args, **kwargs)\u001b[0m\n\u001b[0;32m    420\u001b[0m         \u001b[1;32mfor\u001b[0m \u001b[0mk\u001b[0m\u001b[1;33m,\u001b[0m \u001b[0marg\u001b[0m \u001b[1;32min\u001b[0m \u001b[0mzip\u001b[0m\u001b[1;33m(\u001b[0m\u001b[0msig\u001b[0m\u001b[1;33m.\u001b[0m\u001b[0mparameters\u001b[0m\u001b[1;33m,\u001b[0m \u001b[0margs\u001b[0m\u001b[1;33m)\u001b[0m\u001b[1;33m:\u001b[0m\u001b[1;33m\u001b[0m\u001b[1;33m\u001b[0m\u001b[0m\n\u001b[0;32m    421\u001b[0m             \u001b[0mkwargs\u001b[0m\u001b[1;33m[\u001b[0m\u001b[0mk\u001b[0m\u001b[1;33m]\u001b[0m \u001b[1;33m=\u001b[0m \u001b[0marg\u001b[0m\u001b[1;33m\u001b[0m\u001b[1;33m\u001b[0m\u001b[0m\n\u001b[1;32m--> 422\u001b[1;33m         \u001b[1;32mreturn\u001b[0m \u001b[0mf\u001b[0m\u001b[1;33m(\u001b[0m\u001b[1;33m**\u001b[0m\u001b[0mkwargs\u001b[0m\u001b[1;33m)\u001b[0m\u001b[1;33m\u001b[0m\u001b[1;33m\u001b[0m\u001b[0m\n\u001b[0m\u001b[0;32m    423\u001b[0m \u001b[1;33m\u001b[0m\u001b[0m\n\u001b[0;32m    424\u001b[0m     \u001b[1;32mreturn\u001b[0m \u001b[0minner_f\u001b[0m\u001b[1;33m\u001b[0m\u001b[1;33m\u001b[0m\u001b[0m\n",
      "\u001b[1;32mc:\\users\\andreik\\appdata\\local\\programs\\python\\python38\\lib\\site-packages\\xgboost\\sklearn.py\u001b[0m in \u001b[0;36mfit\u001b[1;34m(self, X, y, sample_weight, base_margin, eval_set, eval_metric, early_stopping_rounds, verbose, xgb_model, sample_weight_eval_set, feature_weights, callbacks)\u001b[0m\n\u001b[0;32m    911\u001b[0m             eval_group=None, label_transform=label_transform)\n\u001b[0;32m    912\u001b[0m \u001b[1;33m\u001b[0m\u001b[0m\n\u001b[1;32m--> 913\u001b[1;33m         self._Booster = train(xgb_options, train_dmatrix,\n\u001b[0m\u001b[0;32m    914\u001b[0m                               \u001b[0mself\u001b[0m\u001b[1;33m.\u001b[0m\u001b[0mget_num_boosting_rounds\u001b[0m\u001b[1;33m(\u001b[0m\u001b[1;33m)\u001b[0m\u001b[1;33m,\u001b[0m\u001b[1;33m\u001b[0m\u001b[1;33m\u001b[0m\u001b[0m\n\u001b[0;32m    915\u001b[0m                               \u001b[0mevals\u001b[0m\u001b[1;33m=\u001b[0m\u001b[0mevals\u001b[0m\u001b[1;33m,\u001b[0m\u001b[1;33m\u001b[0m\u001b[1;33m\u001b[0m\u001b[0m\n",
      "\u001b[1;32mc:\\users\\andreik\\appdata\\local\\programs\\python\\python38\\lib\\site-packages\\xgboost\\training.py\u001b[0m in \u001b[0;36mtrain\u001b[1;34m(params, dtrain, num_boost_round, evals, obj, feval, maximize, early_stopping_rounds, evals_result, verbose_eval, xgb_model, callbacks)\u001b[0m\n\u001b[0;32m    204\u001b[0m     \u001b[0mBooster\u001b[0m \u001b[1;33m:\u001b[0m \u001b[0ma\u001b[0m \u001b[0mtrained\u001b[0m \u001b[0mbooster\u001b[0m \u001b[0mmodel\u001b[0m\u001b[1;33m\u001b[0m\u001b[1;33m\u001b[0m\u001b[0m\n\u001b[0;32m    205\u001b[0m     \"\"\"\n\u001b[1;32m--> 206\u001b[1;33m     bst = _train_internal(params, dtrain,\n\u001b[0m\u001b[0;32m    207\u001b[0m                           \u001b[0mnum_boost_round\u001b[0m\u001b[1;33m=\u001b[0m\u001b[0mnum_boost_round\u001b[0m\u001b[1;33m,\u001b[0m\u001b[1;33m\u001b[0m\u001b[1;33m\u001b[0m\u001b[0m\n\u001b[0;32m    208\u001b[0m                           \u001b[0mevals\u001b[0m\u001b[1;33m=\u001b[0m\u001b[0mevals\u001b[0m\u001b[1;33m,\u001b[0m\u001b[1;33m\u001b[0m\u001b[1;33m\u001b[0m\u001b[0m\n",
      "\u001b[1;32mc:\\users\\andreik\\appdata\\local\\programs\\python\\python38\\lib\\site-packages\\xgboost\\training.py\u001b[0m in \u001b[0;36m_train_internal\u001b[1;34m(params, dtrain, num_boost_round, evals, obj, feval, xgb_model, callbacks, evals_result, maximize, verbose_eval, early_stopping_rounds)\u001b[0m\n\u001b[0;32m     99\u001b[0m         \u001b[1;31m# Skip the first update if it is a recovery step.\u001b[0m\u001b[1;33m\u001b[0m\u001b[1;33m\u001b[0m\u001b[1;33m\u001b[0m\u001b[0m\n\u001b[0;32m    100\u001b[0m         \u001b[1;32mif\u001b[0m \u001b[0mversion\u001b[0m \u001b[1;33m%\u001b[0m \u001b[1;36m2\u001b[0m \u001b[1;33m==\u001b[0m \u001b[1;36m0\u001b[0m\u001b[1;33m:\u001b[0m\u001b[1;33m\u001b[0m\u001b[1;33m\u001b[0m\u001b[0m\n\u001b[1;32m--> 101\u001b[1;33m             \u001b[0mbst\u001b[0m\u001b[1;33m.\u001b[0m\u001b[0mupdate\u001b[0m\u001b[1;33m(\u001b[0m\u001b[0mdtrain\u001b[0m\u001b[1;33m,\u001b[0m \u001b[0mi\u001b[0m\u001b[1;33m,\u001b[0m \u001b[0mobj\u001b[0m\u001b[1;33m)\u001b[0m\u001b[1;33m\u001b[0m\u001b[1;33m\u001b[0m\u001b[0m\n\u001b[0m\u001b[0;32m    102\u001b[0m             \u001b[0mbst\u001b[0m\u001b[1;33m.\u001b[0m\u001b[0msave_rabit_checkpoint\u001b[0m\u001b[1;33m(\u001b[0m\u001b[1;33m)\u001b[0m\u001b[1;33m\u001b[0m\u001b[1;33m\u001b[0m\u001b[0m\n\u001b[0;32m    103\u001b[0m             \u001b[0mversion\u001b[0m \u001b[1;33m+=\u001b[0m \u001b[1;36m1\u001b[0m\u001b[1;33m\u001b[0m\u001b[1;33m\u001b[0m\u001b[0m\n",
      "\u001b[1;32mc:\\users\\andreik\\appdata\\local\\programs\\python\\python38\\lib\\site-packages\\xgboost\\core.py\u001b[0m in \u001b[0;36mupdate\u001b[1;34m(self, dtrain, iteration, fobj)\u001b[0m\n\u001b[0;32m   1278\u001b[0m \u001b[1;33m\u001b[0m\u001b[0m\n\u001b[0;32m   1279\u001b[0m         \u001b[1;32mif\u001b[0m \u001b[0mfobj\u001b[0m \u001b[1;32mis\u001b[0m \u001b[1;32mNone\u001b[0m\u001b[1;33m:\u001b[0m\u001b[1;33m\u001b[0m\u001b[1;33m\u001b[0m\u001b[0m\n\u001b[1;32m-> 1280\u001b[1;33m             _check_call(_LIB.XGBoosterUpdateOneIter(self.handle,\n\u001b[0m\u001b[0;32m   1281\u001b[0m                                                     \u001b[0mctypes\u001b[0m\u001b[1;33m.\u001b[0m\u001b[0mc_int\u001b[0m\u001b[1;33m(\u001b[0m\u001b[0miteration\u001b[0m\u001b[1;33m)\u001b[0m\u001b[1;33m,\u001b[0m\u001b[1;33m\u001b[0m\u001b[1;33m\u001b[0m\u001b[0m\n\u001b[0;32m   1282\u001b[0m                                                     dtrain.handle))\n",
      "\u001b[1;31mKeyboardInterrupt\u001b[0m: "
     ]
    }
   ],
   "source": [
    "%%time\n",
    "clf_xgb = xgb.XGBClassifier(**best_params)\n",
    "\n",
    "param_grid = {\n",
    "    'subsample': np.linspace(0.5, 1, 6),\n",
    "    'colsample_bytree': np.linspace(0.5, 1, 6)\n",
    "}\n",
    "\n",
    "best_params = find_params(clf_xgb, param_grid)"
   ]
  },
  {
   "cell_type": "code",
   "execution_count": null,
   "metadata": {},
   "outputs": [],
   "source": []
  },
  {
   "cell_type": "code",
   "execution_count": 62,
   "metadata": {},
   "outputs": [
    {
     "name": "stdout",
     "output_type": "stream",
     "text": [
      "Fitting 1 folds for each of 25 candidates, totalling 25 fits\n",
      "[CV] reg_alpha=0, reg_lambda=0 .......................................\n"
     ]
    },
    {
     "name": "stderr",
     "output_type": "stream",
     "text": [
      "[Parallel(n_jobs=1)]: Using backend SequentialBackend with 1 concurrent workers.\n"
     ]
    },
    {
     "name": "stdout",
     "output_type": "stream",
     "text": [
      "[20:38:33] WARNING: C:/Users/Administrator/workspace/xgboost-win64_release_1.3.0/src/learner.cc:1061: Starting in XGBoost 1.3.0, the default evaluation metric used with the objective 'binary:logistic' was changed from 'error' to 'logloss'. Explicitly set eval_metric if you'd like to restore the old behavior.\n",
      "[CV] ........... reg_alpha=0, reg_lambda=0, score=0.728, total=  17.2s\n",
      "[CV] reg_alpha=0, reg_lambda=0.0001 ..................................\n"
     ]
    },
    {
     "name": "stderr",
     "output_type": "stream",
     "text": [
      "[Parallel(n_jobs=1)]: Done   1 out of   1 | elapsed:   17.1s remaining:    0.0s\n"
     ]
    },
    {
     "name": "stdout",
     "output_type": "stream",
     "text": [
      "[20:38:50] WARNING: C:/Users/Administrator/workspace/xgboost-win64_release_1.3.0/src/learner.cc:1061: Starting in XGBoost 1.3.0, the default evaluation metric used with the objective 'binary:logistic' was changed from 'error' to 'logloss'. Explicitly set eval_metric if you'd like to restore the old behavior.\n",
      "[CV] ...... reg_alpha=0, reg_lambda=0.0001, score=0.728, total=  17.2s\n",
      "[CV] reg_alpha=0, reg_lambda=0.001 ...................................\n"
     ]
    },
    {
     "name": "stderr",
     "output_type": "stream",
     "text": [
      "[Parallel(n_jobs=1)]: Done   2 out of   2 | elapsed:   34.3s remaining:    0.0s\n"
     ]
    },
    {
     "name": "stdout",
     "output_type": "stream",
     "text": [
      "[20:39:08] WARNING: C:/Users/Administrator/workspace/xgboost-win64_release_1.3.0/src/learner.cc:1061: Starting in XGBoost 1.3.0, the default evaluation metric used with the objective 'binary:logistic' was changed from 'error' to 'logloss'. Explicitly set eval_metric if you'd like to restore the old behavior.\n",
      "[CV] ....... reg_alpha=0, reg_lambda=0.001, score=0.728, total=  17.8s\n",
      "[CV] reg_alpha=0, reg_lambda=0.1 .....................................\n",
      "[20:39:25] WARNING: C:/Users/Administrator/workspace/xgboost-win64_release_1.3.0/src/learner.cc:1061: Starting in XGBoost 1.3.0, the default evaluation metric used with the objective 'binary:logistic' was changed from 'error' to 'logloss'. Explicitly set eval_metric if you'd like to restore the old behavior.\n"
     ]
    },
    {
     "ename": "KeyboardInterrupt",
     "evalue": "",
     "output_type": "error",
     "traceback": [
      "\u001b[1;31m---------------------------------------------------------------------------\u001b[0m",
      "\u001b[1;31mKeyboardInterrupt\u001b[0m                         Traceback (most recent call last)",
      "\u001b[1;32m<timed exec>\u001b[0m in \u001b[0;36m<module>\u001b[1;34m\u001b[0m\n",
      "\u001b[1;32m<ipython-input-58-c022db123754>\u001b[0m in \u001b[0;36mfind_params\u001b[1;34m(clf, param_grid)\u001b[0m\n\u001b[0;32m      4\u001b[0m                   verbose=3)\n\u001b[0;32m      5\u001b[0m \u001b[1;33m\u001b[0m\u001b[0m\n\u001b[1;32m----> 6\u001b[1;33m     \u001b[0mclf\u001b[0m\u001b[1;33m.\u001b[0m\u001b[0mfit\u001b[0m\u001b[1;33m(\u001b[0m\u001b[0mpd\u001b[0m\u001b[1;33m.\u001b[0m\u001b[0mconcat\u001b[0m\u001b[1;33m(\u001b[0m\u001b[1;33m[\u001b[0m\u001b[0mX_train\u001b[0m\u001b[1;33m,\u001b[0m \u001b[0mX_test\u001b[0m\u001b[1;33m]\u001b[0m\u001b[1;33m)\u001b[0m\u001b[1;33m.\u001b[0m\u001b[0mvalues\u001b[0m\u001b[1;33m,\u001b[0m \u001b[0mpd\u001b[0m\u001b[1;33m.\u001b[0m\u001b[0mconcat\u001b[0m\u001b[1;33m(\u001b[0m\u001b[1;33m[\u001b[0m\u001b[0my_train\u001b[0m\u001b[1;33m,\u001b[0m \u001b[0my_test\u001b[0m\u001b[1;33m]\u001b[0m\u001b[1;33m)\u001b[0m\u001b[1;33m.\u001b[0m\u001b[0mvalues\u001b[0m\u001b[1;33m)\u001b[0m\u001b[1;33m\u001b[0m\u001b[1;33m\u001b[0m\u001b[0m\n\u001b[0m\u001b[0;32m      7\u001b[0m     \u001b[0mbest_params\u001b[0m \u001b[1;33m=\u001b[0m \u001b[0mclf\u001b[0m\u001b[1;33m.\u001b[0m\u001b[0mbest_estimator_\u001b[0m\u001b[1;33m.\u001b[0m\u001b[0mget_params\u001b[0m\u001b[1;33m(\u001b[0m\u001b[1;33m)\u001b[0m\u001b[1;33m\u001b[0m\u001b[1;33m\u001b[0m\u001b[0m\n\u001b[0;32m      8\u001b[0m     \u001b[0mprint\u001b[0m\u001b[1;33m(\u001b[0m\u001b[1;34m'Best test ROC AUC: '\u001b[0m\u001b[1;33m,\u001b[0m \u001b[0mclf\u001b[0m\u001b[1;33m.\u001b[0m\u001b[0mbest_score_\u001b[0m\u001b[1;33m)\u001b[0m\u001b[1;33m\u001b[0m\u001b[1;33m\u001b[0m\u001b[0m\n",
      "\u001b[1;32mc:\\users\\andreik\\appdata\\local\\programs\\python\\python38\\lib\\site-packages\\sklearn\\utils\\validation.py\u001b[0m in \u001b[0;36minner_f\u001b[1;34m(*args, **kwargs)\u001b[0m\n\u001b[0;32m     70\u001b[0m                           FutureWarning)\n\u001b[0;32m     71\u001b[0m         \u001b[0mkwargs\u001b[0m\u001b[1;33m.\u001b[0m\u001b[0mupdate\u001b[0m\u001b[1;33m(\u001b[0m\u001b[1;33m{\u001b[0m\u001b[0mk\u001b[0m\u001b[1;33m:\u001b[0m \u001b[0marg\u001b[0m \u001b[1;32mfor\u001b[0m \u001b[0mk\u001b[0m\u001b[1;33m,\u001b[0m \u001b[0marg\u001b[0m \u001b[1;32min\u001b[0m \u001b[0mzip\u001b[0m\u001b[1;33m(\u001b[0m\u001b[0msig\u001b[0m\u001b[1;33m.\u001b[0m\u001b[0mparameters\u001b[0m\u001b[1;33m,\u001b[0m \u001b[0margs\u001b[0m\u001b[1;33m)\u001b[0m\u001b[1;33m}\u001b[0m\u001b[1;33m)\u001b[0m\u001b[1;33m\u001b[0m\u001b[1;33m\u001b[0m\u001b[0m\n\u001b[1;32m---> 72\u001b[1;33m         \u001b[1;32mreturn\u001b[0m \u001b[0mf\u001b[0m\u001b[1;33m(\u001b[0m\u001b[1;33m**\u001b[0m\u001b[0mkwargs\u001b[0m\u001b[1;33m)\u001b[0m\u001b[1;33m\u001b[0m\u001b[1;33m\u001b[0m\u001b[0m\n\u001b[0m\u001b[0;32m     73\u001b[0m     \u001b[1;32mreturn\u001b[0m \u001b[0minner_f\u001b[0m\u001b[1;33m\u001b[0m\u001b[1;33m\u001b[0m\u001b[0m\n\u001b[0;32m     74\u001b[0m \u001b[1;33m\u001b[0m\u001b[0m\n",
      "\u001b[1;32mc:\\users\\andreik\\appdata\\local\\programs\\python\\python38\\lib\\site-packages\\sklearn\\model_selection\\_search.py\u001b[0m in \u001b[0;36mfit\u001b[1;34m(self, X, y, groups, **fit_params)\u001b[0m\n\u001b[0;32m    734\u001b[0m                 \u001b[1;32mreturn\u001b[0m \u001b[0mresults\u001b[0m\u001b[1;33m\u001b[0m\u001b[1;33m\u001b[0m\u001b[0m\n\u001b[0;32m    735\u001b[0m \u001b[1;33m\u001b[0m\u001b[0m\n\u001b[1;32m--> 736\u001b[1;33m             \u001b[0mself\u001b[0m\u001b[1;33m.\u001b[0m\u001b[0m_run_search\u001b[0m\u001b[1;33m(\u001b[0m\u001b[0mevaluate_candidates\u001b[0m\u001b[1;33m)\u001b[0m\u001b[1;33m\u001b[0m\u001b[1;33m\u001b[0m\u001b[0m\n\u001b[0m\u001b[0;32m    737\u001b[0m \u001b[1;33m\u001b[0m\u001b[0m\n\u001b[0;32m    738\u001b[0m         \u001b[1;31m# For multi-metric evaluation, store the best_index_, best_params_ and\u001b[0m\u001b[1;33m\u001b[0m\u001b[1;33m\u001b[0m\u001b[1;33m\u001b[0m\u001b[0m\n",
      "\u001b[1;32mc:\\users\\andreik\\appdata\\local\\programs\\python\\python38\\lib\\site-packages\\sklearn\\model_selection\\_search.py\u001b[0m in \u001b[0;36m_run_search\u001b[1;34m(self, evaluate_candidates)\u001b[0m\n\u001b[0;32m   1186\u001b[0m     \u001b[1;32mdef\u001b[0m \u001b[0m_run_search\u001b[0m\u001b[1;33m(\u001b[0m\u001b[0mself\u001b[0m\u001b[1;33m,\u001b[0m \u001b[0mevaluate_candidates\u001b[0m\u001b[1;33m)\u001b[0m\u001b[1;33m:\u001b[0m\u001b[1;33m\u001b[0m\u001b[1;33m\u001b[0m\u001b[0m\n\u001b[0;32m   1187\u001b[0m         \u001b[1;34m\"\"\"Search all candidates in param_grid\"\"\"\u001b[0m\u001b[1;33m\u001b[0m\u001b[1;33m\u001b[0m\u001b[0m\n\u001b[1;32m-> 1188\u001b[1;33m         \u001b[0mevaluate_candidates\u001b[0m\u001b[1;33m(\u001b[0m\u001b[0mParameterGrid\u001b[0m\u001b[1;33m(\u001b[0m\u001b[0mself\u001b[0m\u001b[1;33m.\u001b[0m\u001b[0mparam_grid\u001b[0m\u001b[1;33m)\u001b[0m\u001b[1;33m)\u001b[0m\u001b[1;33m\u001b[0m\u001b[1;33m\u001b[0m\u001b[0m\n\u001b[0m\u001b[0;32m   1189\u001b[0m \u001b[1;33m\u001b[0m\u001b[0m\n\u001b[0;32m   1190\u001b[0m \u001b[1;33m\u001b[0m\u001b[0m\n",
      "\u001b[1;32mc:\\users\\andreik\\appdata\\local\\programs\\python\\python38\\lib\\site-packages\\sklearn\\model_selection\\_search.py\u001b[0m in \u001b[0;36mevaluate_candidates\u001b[1;34m(candidate_params)\u001b[0m\n\u001b[0;32m    706\u001b[0m                               n_splits, n_candidates, n_candidates * n_splits))\n\u001b[0;32m    707\u001b[0m \u001b[1;33m\u001b[0m\u001b[0m\n\u001b[1;32m--> 708\u001b[1;33m                 out = parallel(delayed(_fit_and_score)(clone(base_estimator),\n\u001b[0m\u001b[0;32m    709\u001b[0m                                                        \u001b[0mX\u001b[0m\u001b[1;33m,\u001b[0m \u001b[0my\u001b[0m\u001b[1;33m,\u001b[0m\u001b[1;33m\u001b[0m\u001b[1;33m\u001b[0m\u001b[0m\n\u001b[0;32m    710\u001b[0m                                                        \u001b[0mtrain\u001b[0m\u001b[1;33m=\u001b[0m\u001b[0mtrain\u001b[0m\u001b[1;33m,\u001b[0m \u001b[0mtest\u001b[0m\u001b[1;33m=\u001b[0m\u001b[0mtest\u001b[0m\u001b[1;33m,\u001b[0m\u001b[1;33m\u001b[0m\u001b[1;33m\u001b[0m\u001b[0m\n",
      "\u001b[1;32mc:\\users\\andreik\\appdata\\local\\programs\\python\\python38\\lib\\site-packages\\joblib\\parallel.py\u001b[0m in \u001b[0;36m__call__\u001b[1;34m(self, iterable)\u001b[0m\n\u001b[0;32m   1049\u001b[0m                 \u001b[0mself\u001b[0m\u001b[1;33m.\u001b[0m\u001b[0m_iterating\u001b[0m \u001b[1;33m=\u001b[0m \u001b[0mself\u001b[0m\u001b[1;33m.\u001b[0m\u001b[0m_original_iterator\u001b[0m \u001b[1;32mis\u001b[0m \u001b[1;32mnot\u001b[0m \u001b[1;32mNone\u001b[0m\u001b[1;33m\u001b[0m\u001b[1;33m\u001b[0m\u001b[0m\n\u001b[0;32m   1050\u001b[0m \u001b[1;33m\u001b[0m\u001b[0m\n\u001b[1;32m-> 1051\u001b[1;33m             \u001b[1;32mwhile\u001b[0m \u001b[0mself\u001b[0m\u001b[1;33m.\u001b[0m\u001b[0mdispatch_one_batch\u001b[0m\u001b[1;33m(\u001b[0m\u001b[0miterator\u001b[0m\u001b[1;33m)\u001b[0m\u001b[1;33m:\u001b[0m\u001b[1;33m\u001b[0m\u001b[1;33m\u001b[0m\u001b[0m\n\u001b[0m\u001b[0;32m   1052\u001b[0m                 \u001b[1;32mpass\u001b[0m\u001b[1;33m\u001b[0m\u001b[1;33m\u001b[0m\u001b[0m\n\u001b[0;32m   1053\u001b[0m \u001b[1;33m\u001b[0m\u001b[0m\n",
      "\u001b[1;32mc:\\users\\andreik\\appdata\\local\\programs\\python\\python38\\lib\\site-packages\\joblib\\parallel.py\u001b[0m in \u001b[0;36mdispatch_one_batch\u001b[1;34m(self, iterator)\u001b[0m\n\u001b[0;32m    864\u001b[0m                 \u001b[1;32mreturn\u001b[0m \u001b[1;32mFalse\u001b[0m\u001b[1;33m\u001b[0m\u001b[1;33m\u001b[0m\u001b[0m\n\u001b[0;32m    865\u001b[0m             \u001b[1;32melse\u001b[0m\u001b[1;33m:\u001b[0m\u001b[1;33m\u001b[0m\u001b[1;33m\u001b[0m\u001b[0m\n\u001b[1;32m--> 866\u001b[1;33m                 \u001b[0mself\u001b[0m\u001b[1;33m.\u001b[0m\u001b[0m_dispatch\u001b[0m\u001b[1;33m(\u001b[0m\u001b[0mtasks\u001b[0m\u001b[1;33m)\u001b[0m\u001b[1;33m\u001b[0m\u001b[1;33m\u001b[0m\u001b[0m\n\u001b[0m\u001b[0;32m    867\u001b[0m                 \u001b[1;32mreturn\u001b[0m \u001b[1;32mTrue\u001b[0m\u001b[1;33m\u001b[0m\u001b[1;33m\u001b[0m\u001b[0m\n\u001b[0;32m    868\u001b[0m \u001b[1;33m\u001b[0m\u001b[0m\n",
      "\u001b[1;32mc:\\users\\andreik\\appdata\\local\\programs\\python\\python38\\lib\\site-packages\\joblib\\parallel.py\u001b[0m in \u001b[0;36m_dispatch\u001b[1;34m(self, batch)\u001b[0m\n\u001b[0;32m    782\u001b[0m         \u001b[1;32mwith\u001b[0m \u001b[0mself\u001b[0m\u001b[1;33m.\u001b[0m\u001b[0m_lock\u001b[0m\u001b[1;33m:\u001b[0m\u001b[1;33m\u001b[0m\u001b[1;33m\u001b[0m\u001b[0m\n\u001b[0;32m    783\u001b[0m             \u001b[0mjob_idx\u001b[0m \u001b[1;33m=\u001b[0m \u001b[0mlen\u001b[0m\u001b[1;33m(\u001b[0m\u001b[0mself\u001b[0m\u001b[1;33m.\u001b[0m\u001b[0m_jobs\u001b[0m\u001b[1;33m)\u001b[0m\u001b[1;33m\u001b[0m\u001b[1;33m\u001b[0m\u001b[0m\n\u001b[1;32m--> 784\u001b[1;33m             \u001b[0mjob\u001b[0m \u001b[1;33m=\u001b[0m \u001b[0mself\u001b[0m\u001b[1;33m.\u001b[0m\u001b[0m_backend\u001b[0m\u001b[1;33m.\u001b[0m\u001b[0mapply_async\u001b[0m\u001b[1;33m(\u001b[0m\u001b[0mbatch\u001b[0m\u001b[1;33m,\u001b[0m \u001b[0mcallback\u001b[0m\u001b[1;33m=\u001b[0m\u001b[0mcb\u001b[0m\u001b[1;33m)\u001b[0m\u001b[1;33m\u001b[0m\u001b[1;33m\u001b[0m\u001b[0m\n\u001b[0m\u001b[0;32m    785\u001b[0m             \u001b[1;31m# A job can complete so quickly than its callback is\u001b[0m\u001b[1;33m\u001b[0m\u001b[1;33m\u001b[0m\u001b[1;33m\u001b[0m\u001b[0m\n\u001b[0;32m    786\u001b[0m             \u001b[1;31m# called before we get here, causing self._jobs to\u001b[0m\u001b[1;33m\u001b[0m\u001b[1;33m\u001b[0m\u001b[1;33m\u001b[0m\u001b[0m\n",
      "\u001b[1;32mc:\\users\\andreik\\appdata\\local\\programs\\python\\python38\\lib\\site-packages\\joblib\\_parallel_backends.py\u001b[0m in \u001b[0;36mapply_async\u001b[1;34m(self, func, callback)\u001b[0m\n\u001b[0;32m    206\u001b[0m     \u001b[1;32mdef\u001b[0m \u001b[0mapply_async\u001b[0m\u001b[1;33m(\u001b[0m\u001b[0mself\u001b[0m\u001b[1;33m,\u001b[0m \u001b[0mfunc\u001b[0m\u001b[1;33m,\u001b[0m \u001b[0mcallback\u001b[0m\u001b[1;33m=\u001b[0m\u001b[1;32mNone\u001b[0m\u001b[1;33m)\u001b[0m\u001b[1;33m:\u001b[0m\u001b[1;33m\u001b[0m\u001b[1;33m\u001b[0m\u001b[0m\n\u001b[0;32m    207\u001b[0m         \u001b[1;34m\"\"\"Schedule a func to be run\"\"\"\u001b[0m\u001b[1;33m\u001b[0m\u001b[1;33m\u001b[0m\u001b[0m\n\u001b[1;32m--> 208\u001b[1;33m         \u001b[0mresult\u001b[0m \u001b[1;33m=\u001b[0m \u001b[0mImmediateResult\u001b[0m\u001b[1;33m(\u001b[0m\u001b[0mfunc\u001b[0m\u001b[1;33m)\u001b[0m\u001b[1;33m\u001b[0m\u001b[1;33m\u001b[0m\u001b[0m\n\u001b[0m\u001b[0;32m    209\u001b[0m         \u001b[1;32mif\u001b[0m \u001b[0mcallback\u001b[0m\u001b[1;33m:\u001b[0m\u001b[1;33m\u001b[0m\u001b[1;33m\u001b[0m\u001b[0m\n\u001b[0;32m    210\u001b[0m             \u001b[0mcallback\u001b[0m\u001b[1;33m(\u001b[0m\u001b[0mresult\u001b[0m\u001b[1;33m)\u001b[0m\u001b[1;33m\u001b[0m\u001b[1;33m\u001b[0m\u001b[0m\n",
      "\u001b[1;32mc:\\users\\andreik\\appdata\\local\\programs\\python\\python38\\lib\\site-packages\\joblib\\_parallel_backends.py\u001b[0m in \u001b[0;36m__init__\u001b[1;34m(self, batch)\u001b[0m\n\u001b[0;32m    570\u001b[0m         \u001b[1;31m# Don't delay the application, to avoid keeping the input\u001b[0m\u001b[1;33m\u001b[0m\u001b[1;33m\u001b[0m\u001b[1;33m\u001b[0m\u001b[0m\n\u001b[0;32m    571\u001b[0m         \u001b[1;31m# arguments in memory\u001b[0m\u001b[1;33m\u001b[0m\u001b[1;33m\u001b[0m\u001b[1;33m\u001b[0m\u001b[0m\n\u001b[1;32m--> 572\u001b[1;33m         \u001b[0mself\u001b[0m\u001b[1;33m.\u001b[0m\u001b[0mresults\u001b[0m \u001b[1;33m=\u001b[0m \u001b[0mbatch\u001b[0m\u001b[1;33m(\u001b[0m\u001b[1;33m)\u001b[0m\u001b[1;33m\u001b[0m\u001b[1;33m\u001b[0m\u001b[0m\n\u001b[0m\u001b[0;32m    573\u001b[0m \u001b[1;33m\u001b[0m\u001b[0m\n\u001b[0;32m    574\u001b[0m     \u001b[1;32mdef\u001b[0m \u001b[0mget\u001b[0m\u001b[1;33m(\u001b[0m\u001b[0mself\u001b[0m\u001b[1;33m)\u001b[0m\u001b[1;33m:\u001b[0m\u001b[1;33m\u001b[0m\u001b[1;33m\u001b[0m\u001b[0m\n",
      "\u001b[1;32mc:\\users\\andreik\\appdata\\local\\programs\\python\\python38\\lib\\site-packages\\joblib\\parallel.py\u001b[0m in \u001b[0;36m__call__\u001b[1;34m(self)\u001b[0m\n\u001b[0;32m    260\u001b[0m         \u001b[1;31m# change the default number of processes to -1\u001b[0m\u001b[1;33m\u001b[0m\u001b[1;33m\u001b[0m\u001b[1;33m\u001b[0m\u001b[0m\n\u001b[0;32m    261\u001b[0m         \u001b[1;32mwith\u001b[0m \u001b[0mparallel_backend\u001b[0m\u001b[1;33m(\u001b[0m\u001b[0mself\u001b[0m\u001b[1;33m.\u001b[0m\u001b[0m_backend\u001b[0m\u001b[1;33m,\u001b[0m \u001b[0mn_jobs\u001b[0m\u001b[1;33m=\u001b[0m\u001b[0mself\u001b[0m\u001b[1;33m.\u001b[0m\u001b[0m_n_jobs\u001b[0m\u001b[1;33m)\u001b[0m\u001b[1;33m:\u001b[0m\u001b[1;33m\u001b[0m\u001b[1;33m\u001b[0m\u001b[0m\n\u001b[1;32m--> 262\u001b[1;33m             return [func(*args, **kwargs)\n\u001b[0m\u001b[0;32m    263\u001b[0m                     for func, args, kwargs in self.items]\n\u001b[0;32m    264\u001b[0m \u001b[1;33m\u001b[0m\u001b[0m\n",
      "\u001b[1;32mc:\\users\\andreik\\appdata\\local\\programs\\python\\python38\\lib\\site-packages\\joblib\\parallel.py\u001b[0m in \u001b[0;36m<listcomp>\u001b[1;34m(.0)\u001b[0m\n\u001b[0;32m    260\u001b[0m         \u001b[1;31m# change the default number of processes to -1\u001b[0m\u001b[1;33m\u001b[0m\u001b[1;33m\u001b[0m\u001b[1;33m\u001b[0m\u001b[0m\n\u001b[0;32m    261\u001b[0m         \u001b[1;32mwith\u001b[0m \u001b[0mparallel_backend\u001b[0m\u001b[1;33m(\u001b[0m\u001b[0mself\u001b[0m\u001b[1;33m.\u001b[0m\u001b[0m_backend\u001b[0m\u001b[1;33m,\u001b[0m \u001b[0mn_jobs\u001b[0m\u001b[1;33m=\u001b[0m\u001b[0mself\u001b[0m\u001b[1;33m.\u001b[0m\u001b[0m_n_jobs\u001b[0m\u001b[1;33m)\u001b[0m\u001b[1;33m:\u001b[0m\u001b[1;33m\u001b[0m\u001b[1;33m\u001b[0m\u001b[0m\n\u001b[1;32m--> 262\u001b[1;33m             return [func(*args, **kwargs)\n\u001b[0m\u001b[0;32m    263\u001b[0m                     for func, args, kwargs in self.items]\n\u001b[0;32m    264\u001b[0m \u001b[1;33m\u001b[0m\u001b[0m\n",
      "\u001b[1;32mc:\\users\\andreik\\appdata\\local\\programs\\python\\python38\\lib\\site-packages\\sklearn\\model_selection\\_validation.py\u001b[0m in \u001b[0;36m_fit_and_score\u001b[1;34m(estimator, X, y, scorer, train, test, verbose, parameters, fit_params, return_train_score, return_parameters, return_n_test_samples, return_times, return_estimator, error_score)\u001b[0m\n\u001b[0;32m    529\u001b[0m             \u001b[0mestimator\u001b[0m\u001b[1;33m.\u001b[0m\u001b[0mfit\u001b[0m\u001b[1;33m(\u001b[0m\u001b[0mX_train\u001b[0m\u001b[1;33m,\u001b[0m \u001b[1;33m**\u001b[0m\u001b[0mfit_params\u001b[0m\u001b[1;33m)\u001b[0m\u001b[1;33m\u001b[0m\u001b[1;33m\u001b[0m\u001b[0m\n\u001b[0;32m    530\u001b[0m         \u001b[1;32melse\u001b[0m\u001b[1;33m:\u001b[0m\u001b[1;33m\u001b[0m\u001b[1;33m\u001b[0m\u001b[0m\n\u001b[1;32m--> 531\u001b[1;33m             \u001b[0mestimator\u001b[0m\u001b[1;33m.\u001b[0m\u001b[0mfit\u001b[0m\u001b[1;33m(\u001b[0m\u001b[0mX_train\u001b[0m\u001b[1;33m,\u001b[0m \u001b[0my_train\u001b[0m\u001b[1;33m,\u001b[0m \u001b[1;33m**\u001b[0m\u001b[0mfit_params\u001b[0m\u001b[1;33m)\u001b[0m\u001b[1;33m\u001b[0m\u001b[1;33m\u001b[0m\u001b[0m\n\u001b[0m\u001b[0;32m    532\u001b[0m \u001b[1;33m\u001b[0m\u001b[0m\n\u001b[0;32m    533\u001b[0m     \u001b[1;32mexcept\u001b[0m \u001b[0mException\u001b[0m \u001b[1;32mas\u001b[0m \u001b[0me\u001b[0m\u001b[1;33m:\u001b[0m\u001b[1;33m\u001b[0m\u001b[1;33m\u001b[0m\u001b[0m\n",
      "\u001b[1;32mc:\\users\\andreik\\appdata\\local\\programs\\python\\python38\\lib\\site-packages\\xgboost\\core.py\u001b[0m in \u001b[0;36minner_f\u001b[1;34m(*args, **kwargs)\u001b[0m\n\u001b[0;32m    420\u001b[0m         \u001b[1;32mfor\u001b[0m \u001b[0mk\u001b[0m\u001b[1;33m,\u001b[0m \u001b[0marg\u001b[0m \u001b[1;32min\u001b[0m \u001b[0mzip\u001b[0m\u001b[1;33m(\u001b[0m\u001b[0msig\u001b[0m\u001b[1;33m.\u001b[0m\u001b[0mparameters\u001b[0m\u001b[1;33m,\u001b[0m \u001b[0margs\u001b[0m\u001b[1;33m)\u001b[0m\u001b[1;33m:\u001b[0m\u001b[1;33m\u001b[0m\u001b[1;33m\u001b[0m\u001b[0m\n\u001b[0;32m    421\u001b[0m             \u001b[0mkwargs\u001b[0m\u001b[1;33m[\u001b[0m\u001b[0mk\u001b[0m\u001b[1;33m]\u001b[0m \u001b[1;33m=\u001b[0m \u001b[0marg\u001b[0m\u001b[1;33m\u001b[0m\u001b[1;33m\u001b[0m\u001b[0m\n\u001b[1;32m--> 422\u001b[1;33m         \u001b[1;32mreturn\u001b[0m \u001b[0mf\u001b[0m\u001b[1;33m(\u001b[0m\u001b[1;33m**\u001b[0m\u001b[0mkwargs\u001b[0m\u001b[1;33m)\u001b[0m\u001b[1;33m\u001b[0m\u001b[1;33m\u001b[0m\u001b[0m\n\u001b[0m\u001b[0;32m    423\u001b[0m \u001b[1;33m\u001b[0m\u001b[0m\n\u001b[0;32m    424\u001b[0m     \u001b[1;32mreturn\u001b[0m \u001b[0minner_f\u001b[0m\u001b[1;33m\u001b[0m\u001b[1;33m\u001b[0m\u001b[0m\n",
      "\u001b[1;32mc:\\users\\andreik\\appdata\\local\\programs\\python\\python38\\lib\\site-packages\\xgboost\\sklearn.py\u001b[0m in \u001b[0;36mfit\u001b[1;34m(self, X, y, sample_weight, base_margin, eval_set, eval_metric, early_stopping_rounds, verbose, xgb_model, sample_weight_eval_set, feature_weights, callbacks)\u001b[0m\n\u001b[0;32m    911\u001b[0m             eval_group=None, label_transform=label_transform)\n\u001b[0;32m    912\u001b[0m \u001b[1;33m\u001b[0m\u001b[0m\n\u001b[1;32m--> 913\u001b[1;33m         self._Booster = train(xgb_options, train_dmatrix,\n\u001b[0m\u001b[0;32m    914\u001b[0m                               \u001b[0mself\u001b[0m\u001b[1;33m.\u001b[0m\u001b[0mget_num_boosting_rounds\u001b[0m\u001b[1;33m(\u001b[0m\u001b[1;33m)\u001b[0m\u001b[1;33m,\u001b[0m\u001b[1;33m\u001b[0m\u001b[1;33m\u001b[0m\u001b[0m\n\u001b[0;32m    915\u001b[0m                               \u001b[0mevals\u001b[0m\u001b[1;33m=\u001b[0m\u001b[0mevals\u001b[0m\u001b[1;33m,\u001b[0m\u001b[1;33m\u001b[0m\u001b[1;33m\u001b[0m\u001b[0m\n",
      "\u001b[1;32mc:\\users\\andreik\\appdata\\local\\programs\\python\\python38\\lib\\site-packages\\xgboost\\training.py\u001b[0m in \u001b[0;36mtrain\u001b[1;34m(params, dtrain, num_boost_round, evals, obj, feval, maximize, early_stopping_rounds, evals_result, verbose_eval, xgb_model, callbacks)\u001b[0m\n\u001b[0;32m    204\u001b[0m     \u001b[0mBooster\u001b[0m \u001b[1;33m:\u001b[0m \u001b[0ma\u001b[0m \u001b[0mtrained\u001b[0m \u001b[0mbooster\u001b[0m \u001b[0mmodel\u001b[0m\u001b[1;33m\u001b[0m\u001b[1;33m\u001b[0m\u001b[0m\n\u001b[0;32m    205\u001b[0m     \"\"\"\n\u001b[1;32m--> 206\u001b[1;33m     bst = _train_internal(params, dtrain,\n\u001b[0m\u001b[0;32m    207\u001b[0m                           \u001b[0mnum_boost_round\u001b[0m\u001b[1;33m=\u001b[0m\u001b[0mnum_boost_round\u001b[0m\u001b[1;33m,\u001b[0m\u001b[1;33m\u001b[0m\u001b[1;33m\u001b[0m\u001b[0m\n\u001b[0;32m    208\u001b[0m                           \u001b[0mevals\u001b[0m\u001b[1;33m=\u001b[0m\u001b[0mevals\u001b[0m\u001b[1;33m,\u001b[0m\u001b[1;33m\u001b[0m\u001b[1;33m\u001b[0m\u001b[0m\n",
      "\u001b[1;32mc:\\users\\andreik\\appdata\\local\\programs\\python\\python38\\lib\\site-packages\\xgboost\\training.py\u001b[0m in \u001b[0;36m_train_internal\u001b[1;34m(params, dtrain, num_boost_round, evals, obj, feval, xgb_model, callbacks, evals_result, maximize, verbose_eval, early_stopping_rounds)\u001b[0m\n\u001b[0;32m     99\u001b[0m         \u001b[1;31m# Skip the first update if it is a recovery step.\u001b[0m\u001b[1;33m\u001b[0m\u001b[1;33m\u001b[0m\u001b[1;33m\u001b[0m\u001b[0m\n\u001b[0;32m    100\u001b[0m         \u001b[1;32mif\u001b[0m \u001b[0mversion\u001b[0m \u001b[1;33m%\u001b[0m \u001b[1;36m2\u001b[0m \u001b[1;33m==\u001b[0m \u001b[1;36m0\u001b[0m\u001b[1;33m:\u001b[0m\u001b[1;33m\u001b[0m\u001b[1;33m\u001b[0m\u001b[0m\n\u001b[1;32m--> 101\u001b[1;33m             \u001b[0mbst\u001b[0m\u001b[1;33m.\u001b[0m\u001b[0mupdate\u001b[0m\u001b[1;33m(\u001b[0m\u001b[0mdtrain\u001b[0m\u001b[1;33m,\u001b[0m \u001b[0mi\u001b[0m\u001b[1;33m,\u001b[0m \u001b[0mobj\u001b[0m\u001b[1;33m)\u001b[0m\u001b[1;33m\u001b[0m\u001b[1;33m\u001b[0m\u001b[0m\n\u001b[0m\u001b[0;32m    102\u001b[0m             \u001b[0mbst\u001b[0m\u001b[1;33m.\u001b[0m\u001b[0msave_rabit_checkpoint\u001b[0m\u001b[1;33m(\u001b[0m\u001b[1;33m)\u001b[0m\u001b[1;33m\u001b[0m\u001b[1;33m\u001b[0m\u001b[0m\n\u001b[0;32m    103\u001b[0m             \u001b[0mversion\u001b[0m \u001b[1;33m+=\u001b[0m \u001b[1;36m1\u001b[0m\u001b[1;33m\u001b[0m\u001b[1;33m\u001b[0m\u001b[0m\n",
      "\u001b[1;32mc:\\users\\andreik\\appdata\\local\\programs\\python\\python38\\lib\\site-packages\\xgboost\\core.py\u001b[0m in \u001b[0;36mupdate\u001b[1;34m(self, dtrain, iteration, fobj)\u001b[0m\n\u001b[0;32m   1278\u001b[0m \u001b[1;33m\u001b[0m\u001b[0m\n\u001b[0;32m   1279\u001b[0m         \u001b[1;32mif\u001b[0m \u001b[0mfobj\u001b[0m \u001b[1;32mis\u001b[0m \u001b[1;32mNone\u001b[0m\u001b[1;33m:\u001b[0m\u001b[1;33m\u001b[0m\u001b[1;33m\u001b[0m\u001b[0m\n\u001b[1;32m-> 1280\u001b[1;33m             _check_call(_LIB.XGBoosterUpdateOneIter(self.handle,\n\u001b[0m\u001b[0;32m   1281\u001b[0m                                                     \u001b[0mctypes\u001b[0m\u001b[1;33m.\u001b[0m\u001b[0mc_int\u001b[0m\u001b[1;33m(\u001b[0m\u001b[0miteration\u001b[0m\u001b[1;33m)\u001b[0m\u001b[1;33m,\u001b[0m\u001b[1;33m\u001b[0m\u001b[1;33m\u001b[0m\u001b[0m\n\u001b[0;32m   1282\u001b[0m                                                     dtrain.handle))\n",
      "\u001b[1;31mKeyboardInterrupt\u001b[0m: "
     ]
    }
   ],
   "source": [
    "%%time\n",
    "\n",
    "clf_xgb = xgb.XGBClassifier(**best_params)\n",
    "\n",
    "param_grid = {\n",
    "    'reg_alpha': [0, 0.0001, 0.001, 0.1, 1],\n",
    "    'reg_lambda': [0, 0.0001, 0.001, 0.1, 1]\n",
    "}\n",
    "\n",
    "best_params = find_params(clf_xgb, param_grid)"
   ]
  },
  {
   "cell_type": "code",
   "execution_count": 63,
   "metadata": {},
   "outputs": [
    {
     "name": "stdout",
     "output_type": "stream",
     "text": [
      "[0]\tvalidation_0-auc:0.75505\tvalidation_1-auc:0.69121\n",
      "[1]\tvalidation_0-auc:0.77155\tvalidation_1-auc:0.69989\n",
      "[2]\tvalidation_0-auc:0.77921\tvalidation_1-auc:0.70723\n",
      "[3]\tvalidation_0-auc:0.78358\tvalidation_1-auc:0.70977\n",
      "[4]\tvalidation_0-auc:0.78699\tvalidation_1-auc:0.71345\n",
      "[5]\tvalidation_0-auc:0.78825\tvalidation_1-auc:0.71467\n",
      "[6]\tvalidation_0-auc:0.79076\tvalidation_1-auc:0.71421\n",
      "[7]\tvalidation_0-auc:0.79250\tvalidation_1-auc:0.71616\n",
      "[8]\tvalidation_0-auc:0.79349\tvalidation_1-auc:0.71563\n",
      "[9]\tvalidation_0-auc:0.79438\tvalidation_1-auc:0.71637\n",
      "[10]\tvalidation_0-auc:0.79537\tvalidation_1-auc:0.71782\n",
      "[11]\tvalidation_0-auc:0.79558\tvalidation_1-auc:0.71779\n",
      "[12]\tvalidation_0-auc:0.79641\tvalidation_1-auc:0.71898\n",
      "[13]\tvalidation_0-auc:0.79788\tvalidation_1-auc:0.71892\n",
      "[14]\tvalidation_0-auc:0.79818\tvalidation_1-auc:0.71922\n",
      "[15]\tvalidation_0-auc:0.79830\tvalidation_1-auc:0.71941\n",
      "[16]\tvalidation_0-auc:0.79878\tvalidation_1-auc:0.71902\n",
      "[17]\tvalidation_0-auc:0.79930\tvalidation_1-auc:0.71979\n",
      "[18]\tvalidation_0-auc:0.80021\tvalidation_1-auc:0.72038\n",
      "[19]\tvalidation_0-auc:0.80035\tvalidation_1-auc:0.71996\n",
      "[20]\tvalidation_0-auc:0.80081\tvalidation_1-auc:0.72020\n",
      "[21]\tvalidation_0-auc:0.80113\tvalidation_1-auc:0.72044\n",
      "[22]\tvalidation_0-auc:0.80183\tvalidation_1-auc:0.72085\n",
      "[23]\tvalidation_0-auc:0.80191\tvalidation_1-auc:0.72082\n",
      "[24]\tvalidation_0-auc:0.80226\tvalidation_1-auc:0.72147\n",
      "[25]\tvalidation_0-auc:0.80251\tvalidation_1-auc:0.72198\n",
      "[26]\tvalidation_0-auc:0.80284\tvalidation_1-auc:0.72182\n",
      "[27]\tvalidation_0-auc:0.80328\tvalidation_1-auc:0.72214\n",
      "[28]\tvalidation_0-auc:0.80331\tvalidation_1-auc:0.72246\n",
      "[29]\tvalidation_0-auc:0.80385\tvalidation_1-auc:0.72273\n",
      "[30]\tvalidation_0-auc:0.80400\tvalidation_1-auc:0.72262\n",
      "[31]\tvalidation_0-auc:0.80421\tvalidation_1-auc:0.72270\n",
      "[32]\tvalidation_0-auc:0.80479\tvalidation_1-auc:0.72285\n",
      "[33]\tvalidation_0-auc:0.80501\tvalidation_1-auc:0.72320\n",
      "[34]\tvalidation_0-auc:0.80559\tvalidation_1-auc:0.72370\n",
      "[35]\tvalidation_0-auc:0.80621\tvalidation_1-auc:0.72386\n",
      "[36]\tvalidation_0-auc:0.80649\tvalidation_1-auc:0.72421\n",
      "[37]\tvalidation_0-auc:0.80686\tvalidation_1-auc:0.72414\n",
      "[38]\tvalidation_0-auc:0.80716\tvalidation_1-auc:0.72452\n",
      "[39]\tvalidation_0-auc:0.80733\tvalidation_1-auc:0.72458\n",
      "[40]\tvalidation_0-auc:0.80794\tvalidation_1-auc:0.72465\n",
      "[41]\tvalidation_0-auc:0.80802\tvalidation_1-auc:0.72477\n",
      "[42]\tvalidation_0-auc:0.80827\tvalidation_1-auc:0.72473\n",
      "[43]\tvalidation_0-auc:0.80854\tvalidation_1-auc:0.72455\n",
      "[44]\tvalidation_0-auc:0.80879\tvalidation_1-auc:0.72454\n",
      "[45]\tvalidation_0-auc:0.80890\tvalidation_1-auc:0.72474\n",
      "[46]\tvalidation_0-auc:0.80915\tvalidation_1-auc:0.72484\n",
      "[47]\tvalidation_0-auc:0.80941\tvalidation_1-auc:0.72491\n",
      "[48]\tvalidation_0-auc:0.80976\tvalidation_1-auc:0.72484\n",
      "[49]\tvalidation_0-auc:0.80990\tvalidation_1-auc:0.72512\n",
      "[50]\tvalidation_0-auc:0.81000\tvalidation_1-auc:0.72526\n",
      "[51]\tvalidation_0-auc:0.81010\tvalidation_1-auc:0.72528\n",
      "[52]\tvalidation_0-auc:0.81022\tvalidation_1-auc:0.72537\n",
      "[53]\tvalidation_0-auc:0.81051\tvalidation_1-auc:0.72523\n",
      "[54]\tvalidation_0-auc:0.81069\tvalidation_1-auc:0.72525\n",
      "[55]\tvalidation_0-auc:0.81101\tvalidation_1-auc:0.72535\n",
      "[56]\tvalidation_0-auc:0.81111\tvalidation_1-auc:0.72555\n",
      "[57]\tvalidation_0-auc:0.81131\tvalidation_1-auc:0.72557\n",
      "[58]\tvalidation_0-auc:0.81167\tvalidation_1-auc:0.72552\n",
      "[59]\tvalidation_0-auc:0.81190\tvalidation_1-auc:0.72553\n",
      "[60]\tvalidation_0-auc:0.81200\tvalidation_1-auc:0.72564\n",
      "[61]\tvalidation_0-auc:0.81219\tvalidation_1-auc:0.72572\n",
      "[62]\tvalidation_0-auc:0.81241\tvalidation_1-auc:0.72574\n",
      "[63]\tvalidation_0-auc:0.81275\tvalidation_1-auc:0.72562\n",
      "[64]\tvalidation_0-auc:0.81288\tvalidation_1-auc:0.72563\n",
      "[65]\tvalidation_0-auc:0.81297\tvalidation_1-auc:0.72544\n",
      "[66]\tvalidation_0-auc:0.81335\tvalidation_1-auc:0.72556\n",
      "[67]\tvalidation_0-auc:0.81358\tvalidation_1-auc:0.72555\n",
      "[68]\tvalidation_0-auc:0.81376\tvalidation_1-auc:0.72567\n",
      "[69]\tvalidation_0-auc:0.81383\tvalidation_1-auc:0.72561\n",
      "[70]\tvalidation_0-auc:0.81396\tvalidation_1-auc:0.72554\n",
      "[71]\tvalidation_0-auc:0.81421\tvalidation_1-auc:0.72524\n",
      "[72]\tvalidation_0-auc:0.81437\tvalidation_1-auc:0.72523\n",
      "[73]\tvalidation_0-auc:0.81456\tvalidation_1-auc:0.72539\n",
      "[74]\tvalidation_0-auc:0.81478\tvalidation_1-auc:0.72532\n",
      "[75]\tvalidation_0-auc:0.81489\tvalidation_1-auc:0.72538\n",
      "[76]\tvalidation_0-auc:0.81511\tvalidation_1-auc:0.72533\n",
      "[77]\tvalidation_0-auc:0.81527\tvalidation_1-auc:0.72544\n",
      "[78]\tvalidation_0-auc:0.81549\tvalidation_1-auc:0.72560\n",
      "[79]\tvalidation_0-auc:0.81567\tvalidation_1-auc:0.72545\n",
      "[80]\tvalidation_0-auc:0.81588\tvalidation_1-auc:0.72548\n",
      "[81]\tvalidation_0-auc:0.81599\tvalidation_1-auc:0.72569\n",
      "[82]\tvalidation_0-auc:0.81629\tvalidation_1-auc:0.72573\n",
      "[83]\tvalidation_0-auc:0.81649\tvalidation_1-auc:0.72580\n",
      "[84]\tvalidation_0-auc:0.81686\tvalidation_1-auc:0.72564\n",
      "[85]\tvalidation_0-auc:0.81703\tvalidation_1-auc:0.72582\n",
      "[86]\tvalidation_0-auc:0.81724\tvalidation_1-auc:0.72577\n",
      "[87]\tvalidation_0-auc:0.81743\tvalidation_1-auc:0.72593\n",
      "[88]\tvalidation_0-auc:0.81755\tvalidation_1-auc:0.72588\n",
      "[89]\tvalidation_0-auc:0.81772\tvalidation_1-auc:0.72586\n",
      "[90]\tvalidation_0-auc:0.81799\tvalidation_1-auc:0.72604\n",
      "[91]\tvalidation_0-auc:0.81819\tvalidation_1-auc:0.72604\n",
      "[92]\tvalidation_0-auc:0.81828\tvalidation_1-auc:0.72622\n",
      "[93]\tvalidation_0-auc:0.81852\tvalidation_1-auc:0.72628\n",
      "[94]\tvalidation_0-auc:0.81878\tvalidation_1-auc:0.72632\n",
      "[95]\tvalidation_0-auc:0.81900\tvalidation_1-auc:0.72634\n",
      "[96]\tvalidation_0-auc:0.81929\tvalidation_1-auc:0.72644\n",
      "[97]\tvalidation_0-auc:0.81947\tvalidation_1-auc:0.72644\n",
      "[98]\tvalidation_0-auc:0.81958\tvalidation_1-auc:0.72643\n",
      "[99]\tvalidation_0-auc:0.81980\tvalidation_1-auc:0.72638\n",
      "[100]\tvalidation_0-auc:0.82000\tvalidation_1-auc:0.72641\n",
      "[101]\tvalidation_0-auc:0.82029\tvalidation_1-auc:0.72648\n",
      "[102]\tvalidation_0-auc:0.82039\tvalidation_1-auc:0.72650\n",
      "[103]\tvalidation_0-auc:0.82065\tvalidation_1-auc:0.72664\n",
      "[104]\tvalidation_0-auc:0.82080\tvalidation_1-auc:0.72655\n",
      "[105]\tvalidation_0-auc:0.82104\tvalidation_1-auc:0.72663\n",
      "[106]\tvalidation_0-auc:0.82112\tvalidation_1-auc:0.72682\n",
      "[107]\tvalidation_0-auc:0.82125\tvalidation_1-auc:0.72689\n",
      "[108]\tvalidation_0-auc:0.82154\tvalidation_1-auc:0.72698\n",
      "[109]\tvalidation_0-auc:0.82181\tvalidation_1-auc:0.72700\n",
      "[110]\tvalidation_0-auc:0.82210\tvalidation_1-auc:0.72706\n",
      "[111]\tvalidation_0-auc:0.82228\tvalidation_1-auc:0.72706\n",
      "[112]\tvalidation_0-auc:0.82240\tvalidation_1-auc:0.72712\n",
      "[113]\tvalidation_0-auc:0.82258\tvalidation_1-auc:0.72736\n",
      "[114]\tvalidation_0-auc:0.82269\tvalidation_1-auc:0.72741\n",
      "[115]\tvalidation_0-auc:0.82284\tvalidation_1-auc:0.72742\n",
      "[116]\tvalidation_0-auc:0.82319\tvalidation_1-auc:0.72740\n",
      "[117]\tvalidation_0-auc:0.82333\tvalidation_1-auc:0.72740\n",
      "[118]\tvalidation_0-auc:0.82344\tvalidation_1-auc:0.72749\n",
      "[119]\tvalidation_0-auc:0.82362\tvalidation_1-auc:0.72747\n",
      "[120]\tvalidation_0-auc:0.82378\tvalidation_1-auc:0.72728\n",
      "[121]\tvalidation_0-auc:0.82402\tvalidation_1-auc:0.72731\n",
      "[122]\tvalidation_0-auc:0.82424\tvalidation_1-auc:0.72738\n",
      "[123]\tvalidation_0-auc:0.82438\tvalidation_1-auc:0.72731\n",
      "[124]\tvalidation_0-auc:0.82446\tvalidation_1-auc:0.72730\n",
      "[125]\tvalidation_0-auc:0.82468\tvalidation_1-auc:0.72737\n",
      "[126]\tvalidation_0-auc:0.82491\tvalidation_1-auc:0.72740\n",
      "[127]\tvalidation_0-auc:0.82511\tvalidation_1-auc:0.72746\n",
      "[128]\tvalidation_0-auc:0.82511\tvalidation_1-auc:0.72749\n",
      "[129]\tvalidation_0-auc:0.82532\tvalidation_1-auc:0.72762\n",
      "[130]\tvalidation_0-auc:0.82548\tvalidation_1-auc:0.72759\n",
      "[131]\tvalidation_0-auc:0.82559\tvalidation_1-auc:0.72759\n",
      "[132]\tvalidation_0-auc:0.82589\tvalidation_1-auc:0.72768\n",
      "[133]\tvalidation_0-auc:0.82599\tvalidation_1-auc:0.72781\n",
      "[134]\tvalidation_0-auc:0.82629\tvalidation_1-auc:0.72784\n",
      "[135]\tvalidation_0-auc:0.82642\tvalidation_1-auc:0.72789\n",
      "[136]\tvalidation_0-auc:0.82658\tvalidation_1-auc:0.72804\n",
      "[137]\tvalidation_0-auc:0.82677\tvalidation_1-auc:0.72822\n",
      "[138]\tvalidation_0-auc:0.82697\tvalidation_1-auc:0.72813\n",
      "[139]\tvalidation_0-auc:0.82719\tvalidation_1-auc:0.72821\n",
      "[140]\tvalidation_0-auc:0.82729\tvalidation_1-auc:0.72821\n",
      "[141]\tvalidation_0-auc:0.82735\tvalidation_1-auc:0.72820\n",
      "[142]\tvalidation_0-auc:0.82740\tvalidation_1-auc:0.72828\n",
      "[143]\tvalidation_0-auc:0.82763\tvalidation_1-auc:0.72825\n",
      "[144]\tvalidation_0-auc:0.82781\tvalidation_1-auc:0.72818\n",
      "[145]\tvalidation_0-auc:0.82793\tvalidation_1-auc:0.72816\n",
      "[146]\tvalidation_0-auc:0.82811\tvalidation_1-auc:0.72812\n",
      "[147]\tvalidation_0-auc:0.82821\tvalidation_1-auc:0.72819\n",
      "[148]\tvalidation_0-auc:0.82840\tvalidation_1-auc:0.72814\n"
     ]
    },
    {
     "name": "stdout",
     "output_type": "stream",
     "text": [
      "[149]\tvalidation_0-auc:0.82865\tvalidation_1-auc:0.72807\n",
      "[150]\tvalidation_0-auc:0.82884\tvalidation_1-auc:0.72802\n",
      "[151]\tvalidation_0-auc:0.82915\tvalidation_1-auc:0.72803\n",
      "[152]\tvalidation_0-auc:0.82936\tvalidation_1-auc:0.72815\n",
      "[153]\tvalidation_0-auc:0.82954\tvalidation_1-auc:0.72826\n",
      "[154]\tvalidation_0-auc:0.82972\tvalidation_1-auc:0.72832\n",
      "[155]\tvalidation_0-auc:0.82985\tvalidation_1-auc:0.72831\n",
      "[156]\tvalidation_0-auc:0.83002\tvalidation_1-auc:0.72824\n",
      "[157]\tvalidation_0-auc:0.83021\tvalidation_1-auc:0.72830\n",
      "[158]\tvalidation_0-auc:0.83032\tvalidation_1-auc:0.72836\n",
      "[159]\tvalidation_0-auc:0.83042\tvalidation_1-auc:0.72829\n",
      "[160]\tvalidation_0-auc:0.83066\tvalidation_1-auc:0.72826\n",
      "[161]\tvalidation_0-auc:0.83081\tvalidation_1-auc:0.72823\n",
      "[162]\tvalidation_0-auc:0.83100\tvalidation_1-auc:0.72832\n",
      "[163]\tvalidation_0-auc:0.83122\tvalidation_1-auc:0.72831\n",
      "[164]\tvalidation_0-auc:0.83129\tvalidation_1-auc:0.72831\n",
      "[165]\tvalidation_0-auc:0.83151\tvalidation_1-auc:0.72842\n",
      "[166]\tvalidation_0-auc:0.83176\tvalidation_1-auc:0.72848\n",
      "[167]\tvalidation_0-auc:0.83199\tvalidation_1-auc:0.72844\n",
      "[168]\tvalidation_0-auc:0.83209\tvalidation_1-auc:0.72840\n",
      "[169]\tvalidation_0-auc:0.83224\tvalidation_1-auc:0.72838\n",
      "[170]\tvalidation_0-auc:0.83240\tvalidation_1-auc:0.72832\n",
      "[171]\tvalidation_0-auc:0.83253\tvalidation_1-auc:0.72829\n",
      "[172]\tvalidation_0-auc:0.83276\tvalidation_1-auc:0.72837\n",
      "[173]\tvalidation_0-auc:0.83285\tvalidation_1-auc:0.72842\n",
      "[174]\tvalidation_0-auc:0.83308\tvalidation_1-auc:0.72848\n",
      "[175]\tvalidation_0-auc:0.83317\tvalidation_1-auc:0.72850\n",
      "[176]\tvalidation_0-auc:0.83330\tvalidation_1-auc:0.72864\n",
      "[177]\tvalidation_0-auc:0.83342\tvalidation_1-auc:0.72858\n",
      "[178]\tvalidation_0-auc:0.83353\tvalidation_1-auc:0.72862\n",
      "[179]\tvalidation_0-auc:0.83366\tvalidation_1-auc:0.72862\n",
      "[180]\tvalidation_0-auc:0.83385\tvalidation_1-auc:0.72857\n",
      "[181]\tvalidation_0-auc:0.83401\tvalidation_1-auc:0.72844\n",
      "[182]\tvalidation_0-auc:0.83417\tvalidation_1-auc:0.72839\n",
      "[183]\tvalidation_0-auc:0.83426\tvalidation_1-auc:0.72838\n",
      "[184]\tvalidation_0-auc:0.83435\tvalidation_1-auc:0.72851\n",
      "[185]\tvalidation_0-auc:0.83451\tvalidation_1-auc:0.72856\n",
      "[186]\tvalidation_0-auc:0.83467\tvalidation_1-auc:0.72861\n",
      "[187]\tvalidation_0-auc:0.83486\tvalidation_1-auc:0.72858\n",
      "[188]\tvalidation_0-auc:0.83500\tvalidation_1-auc:0.72858\n",
      "[189]\tvalidation_0-auc:0.83511\tvalidation_1-auc:0.72864\n",
      "[190]\tvalidation_0-auc:0.83529\tvalidation_1-auc:0.72864\n",
      "[191]\tvalidation_0-auc:0.83541\tvalidation_1-auc:0.72871\n",
      "[192]\tvalidation_0-auc:0.83559\tvalidation_1-auc:0.72868\n",
      "[193]\tvalidation_0-auc:0.83577\tvalidation_1-auc:0.72872\n",
      "[194]\tvalidation_0-auc:0.83590\tvalidation_1-auc:0.72861\n",
      "[195]\tvalidation_0-auc:0.83609\tvalidation_1-auc:0.72859\n"
     ]
    },
    {
     "ename": "KeyboardInterrupt",
     "evalue": "",
     "output_type": "error",
     "traceback": [
      "\u001b[1;31m---------------------------------------------------------------------------\u001b[0m",
      "\u001b[1;31mKeyboardInterrupt\u001b[0m                         Traceback (most recent call last)",
      "\u001b[1;32m<timed exec>\u001b[0m in \u001b[0;36m<module>\u001b[1;34m\u001b[0m\n",
      "\u001b[1;32mc:\\users\\andreik\\appdata\\local\\programs\\python\\python38\\lib\\site-packages\\xgboost\\core.py\u001b[0m in \u001b[0;36minner_f\u001b[1;34m(*args, **kwargs)\u001b[0m\n\u001b[0;32m    420\u001b[0m         \u001b[1;32mfor\u001b[0m \u001b[0mk\u001b[0m\u001b[1;33m,\u001b[0m \u001b[0marg\u001b[0m \u001b[1;32min\u001b[0m \u001b[0mzip\u001b[0m\u001b[1;33m(\u001b[0m\u001b[0msig\u001b[0m\u001b[1;33m.\u001b[0m\u001b[0mparameters\u001b[0m\u001b[1;33m,\u001b[0m \u001b[0margs\u001b[0m\u001b[1;33m)\u001b[0m\u001b[1;33m:\u001b[0m\u001b[1;33m\u001b[0m\u001b[1;33m\u001b[0m\u001b[0m\n\u001b[0;32m    421\u001b[0m             \u001b[0mkwargs\u001b[0m\u001b[1;33m[\u001b[0m\u001b[0mk\u001b[0m\u001b[1;33m]\u001b[0m \u001b[1;33m=\u001b[0m \u001b[0marg\u001b[0m\u001b[1;33m\u001b[0m\u001b[1;33m\u001b[0m\u001b[0m\n\u001b[1;32m--> 422\u001b[1;33m         \u001b[1;32mreturn\u001b[0m \u001b[0mf\u001b[0m\u001b[1;33m(\u001b[0m\u001b[1;33m**\u001b[0m\u001b[0mkwargs\u001b[0m\u001b[1;33m)\u001b[0m\u001b[1;33m\u001b[0m\u001b[1;33m\u001b[0m\u001b[0m\n\u001b[0m\u001b[0;32m    423\u001b[0m \u001b[1;33m\u001b[0m\u001b[0m\n\u001b[0;32m    424\u001b[0m     \u001b[1;32mreturn\u001b[0m \u001b[0minner_f\u001b[0m\u001b[1;33m\u001b[0m\u001b[1;33m\u001b[0m\u001b[0m\n",
      "\u001b[1;32mc:\\users\\andreik\\appdata\\local\\programs\\python\\python38\\lib\\site-packages\\xgboost\\sklearn.py\u001b[0m in \u001b[0;36mfit\u001b[1;34m(self, X, y, sample_weight, base_margin, eval_set, eval_metric, early_stopping_rounds, verbose, xgb_model, sample_weight_eval_set, feature_weights, callbacks)\u001b[0m\n\u001b[0;32m    911\u001b[0m             eval_group=None, label_transform=label_transform)\n\u001b[0;32m    912\u001b[0m \u001b[1;33m\u001b[0m\u001b[0m\n\u001b[1;32m--> 913\u001b[1;33m         self._Booster = train(xgb_options, train_dmatrix,\n\u001b[0m\u001b[0;32m    914\u001b[0m                               \u001b[0mself\u001b[0m\u001b[1;33m.\u001b[0m\u001b[0mget_num_boosting_rounds\u001b[0m\u001b[1;33m(\u001b[0m\u001b[1;33m)\u001b[0m\u001b[1;33m,\u001b[0m\u001b[1;33m\u001b[0m\u001b[1;33m\u001b[0m\u001b[0m\n\u001b[0;32m    915\u001b[0m                               \u001b[0mevals\u001b[0m\u001b[1;33m=\u001b[0m\u001b[0mevals\u001b[0m\u001b[1;33m,\u001b[0m\u001b[1;33m\u001b[0m\u001b[1;33m\u001b[0m\u001b[0m\n",
      "\u001b[1;32mc:\\users\\andreik\\appdata\\local\\programs\\python\\python38\\lib\\site-packages\\xgboost\\training.py\u001b[0m in \u001b[0;36mtrain\u001b[1;34m(params, dtrain, num_boost_round, evals, obj, feval, maximize, early_stopping_rounds, evals_result, verbose_eval, xgb_model, callbacks)\u001b[0m\n\u001b[0;32m    204\u001b[0m     \u001b[0mBooster\u001b[0m \u001b[1;33m:\u001b[0m \u001b[0ma\u001b[0m \u001b[0mtrained\u001b[0m \u001b[0mbooster\u001b[0m \u001b[0mmodel\u001b[0m\u001b[1;33m\u001b[0m\u001b[1;33m\u001b[0m\u001b[0m\n\u001b[0;32m    205\u001b[0m     \"\"\"\n\u001b[1;32m--> 206\u001b[1;33m     bst = _train_internal(params, dtrain,\n\u001b[0m\u001b[0;32m    207\u001b[0m                           \u001b[0mnum_boost_round\u001b[0m\u001b[1;33m=\u001b[0m\u001b[0mnum_boost_round\u001b[0m\u001b[1;33m,\u001b[0m\u001b[1;33m\u001b[0m\u001b[1;33m\u001b[0m\u001b[0m\n\u001b[0;32m    208\u001b[0m                           \u001b[0mevals\u001b[0m\u001b[1;33m=\u001b[0m\u001b[0mevals\u001b[0m\u001b[1;33m,\u001b[0m\u001b[1;33m\u001b[0m\u001b[1;33m\u001b[0m\u001b[0m\n",
      "\u001b[1;32mc:\\users\\andreik\\appdata\\local\\programs\\python\\python38\\lib\\site-packages\\xgboost\\training.py\u001b[0m in \u001b[0;36m_train_internal\u001b[1;34m(params, dtrain, num_boost_round, evals, obj, feval, xgb_model, callbacks, evals_result, maximize, verbose_eval, early_stopping_rounds)\u001b[0m\n\u001b[0;32m     99\u001b[0m         \u001b[1;31m# Skip the first update if it is a recovery step.\u001b[0m\u001b[1;33m\u001b[0m\u001b[1;33m\u001b[0m\u001b[1;33m\u001b[0m\u001b[0m\n\u001b[0;32m    100\u001b[0m         \u001b[1;32mif\u001b[0m \u001b[0mversion\u001b[0m \u001b[1;33m%\u001b[0m \u001b[1;36m2\u001b[0m \u001b[1;33m==\u001b[0m \u001b[1;36m0\u001b[0m\u001b[1;33m:\u001b[0m\u001b[1;33m\u001b[0m\u001b[1;33m\u001b[0m\u001b[0m\n\u001b[1;32m--> 101\u001b[1;33m             \u001b[0mbst\u001b[0m\u001b[1;33m.\u001b[0m\u001b[0mupdate\u001b[0m\u001b[1;33m(\u001b[0m\u001b[0mdtrain\u001b[0m\u001b[1;33m,\u001b[0m \u001b[0mi\u001b[0m\u001b[1;33m,\u001b[0m \u001b[0mobj\u001b[0m\u001b[1;33m)\u001b[0m\u001b[1;33m\u001b[0m\u001b[1;33m\u001b[0m\u001b[0m\n\u001b[0m\u001b[0;32m    102\u001b[0m             \u001b[0mbst\u001b[0m\u001b[1;33m.\u001b[0m\u001b[0msave_rabit_checkpoint\u001b[0m\u001b[1;33m(\u001b[0m\u001b[1;33m)\u001b[0m\u001b[1;33m\u001b[0m\u001b[1;33m\u001b[0m\u001b[0m\n\u001b[0;32m    103\u001b[0m             \u001b[0mversion\u001b[0m \u001b[1;33m+=\u001b[0m \u001b[1;36m1\u001b[0m\u001b[1;33m\u001b[0m\u001b[1;33m\u001b[0m\u001b[0m\n",
      "\u001b[1;32mc:\\users\\andreik\\appdata\\local\\programs\\python\\python38\\lib\\site-packages\\xgboost\\core.py\u001b[0m in \u001b[0;36mupdate\u001b[1;34m(self, dtrain, iteration, fobj)\u001b[0m\n\u001b[0;32m   1278\u001b[0m \u001b[1;33m\u001b[0m\u001b[0m\n\u001b[0;32m   1279\u001b[0m         \u001b[1;32mif\u001b[0m \u001b[0mfobj\u001b[0m \u001b[1;32mis\u001b[0m \u001b[1;32mNone\u001b[0m\u001b[1;33m:\u001b[0m\u001b[1;33m\u001b[0m\u001b[1;33m\u001b[0m\u001b[0m\n\u001b[1;32m-> 1280\u001b[1;33m             _check_call(_LIB.XGBoosterUpdateOneIter(self.handle,\n\u001b[0m\u001b[0;32m   1281\u001b[0m                                                     \u001b[0mctypes\u001b[0m\u001b[1;33m.\u001b[0m\u001b[0mc_int\u001b[0m\u001b[1;33m(\u001b[0m\u001b[0miteration\u001b[0m\u001b[1;33m)\u001b[0m\u001b[1;33m,\u001b[0m\u001b[1;33m\u001b[0m\u001b[1;33m\u001b[0m\u001b[0m\n\u001b[0;32m   1282\u001b[0m                                                     dtrain.handle))\n",
      "\u001b[1;31mKeyboardInterrupt\u001b[0m: "
     ]
    }
   ],
   "source": [
    "%%time\n",
    "\n",
    "best_params['learning_rate'] = 0.01\n",
    "best_params['n_estimators'] = 500\n",
    "\n",
    "clf_xgb = xgb.XGBClassifier(**best_params)\n",
    "\n",
    "clf_xgb.fit(X_train, y_train, eval_metric='auc', eval_set=[[X_train, y_train], [X_test, y_test]])"
   ]
  },
  {
   "cell_type": "code",
   "execution_count": 64,
   "metadata": {},
   "outputs": [
    {
     "ename": "AttributeError",
     "evalue": "'XGBClassifier' object has no attribute 'evals_result_'",
     "output_type": "error",
     "traceback": [
      "\u001b[1;31m---------------------------------------------------------------------------\u001b[0m",
      "\u001b[1;31mAttributeError\u001b[0m                            Traceback (most recent call last)",
      "\u001b[1;32m<ipython-input-64-1fda5a40fb4f>\u001b[0m in \u001b[0;36m<module>\u001b[1;34m\u001b[0m\n\u001b[1;32m----> 1\u001b[1;33m \u001b[0mres\u001b[0m \u001b[1;33m=\u001b[0m \u001b[0msave_online_metric\u001b[0m\u001b[1;33m(\u001b[0m\u001b[0mclf_xgb\u001b[0m\u001b[1;33m)\u001b[0m\u001b[1;33m\u001b[0m\u001b[1;33m\u001b[0m\u001b[0m\n\u001b[0m\u001b[0;32m      2\u001b[0m \u001b[0mres\u001b[0m\u001b[1;33m.\u001b[0m\u001b[0mplot\u001b[0m\u001b[1;33m(\u001b[0m\u001b[0mylim\u001b[0m\u001b[1;33m=\u001b[0m\u001b[1;33m(\u001b[0m\u001b[1;36m0.72\u001b[0m\u001b[1;33m,\u001b[0m \u001b[1;36m0.85\u001b[0m\u001b[1;33m)\u001b[0m\u001b[1;33m,\u001b[0m \u001b[0mtitle\u001b[0m\u001b[1;33m=\u001b[0m\u001b[1;34m'ROC AUC'\u001b[0m\u001b[1;33m)\u001b[0m\u001b[1;33m\u001b[0m\u001b[1;33m\u001b[0m\u001b[0m\n\u001b[0;32m      3\u001b[0m \u001b[0mplt\u001b[0m\u001b[1;33m.\u001b[0m\u001b[0mxlabel\u001b[0m\u001b[1;33m(\u001b[0m\u001b[1;34m'iteration number'\u001b[0m\u001b[1;33m)\u001b[0m\u001b[1;33m\u001b[0m\u001b[1;33m\u001b[0m\u001b[0m\n\u001b[0;32m      4\u001b[0m \u001b[0mplt\u001b[0m\u001b[1;33m.\u001b[0m\u001b[0mgrid\u001b[0m\u001b[1;33m(\u001b[0m\u001b[1;33m)\u001b[0m\u001b[1;33m;\u001b[0m\u001b[1;33m\u001b[0m\u001b[1;33m\u001b[0m\u001b[0m\n\u001b[0;32m      5\u001b[0m \u001b[0mplt\u001b[0m\u001b[1;33m.\u001b[0m\u001b[0mfigure\u001b[0m\u001b[1;33m(\u001b[0m\u001b[1;33m)\u001b[0m\u001b[1;33m\u001b[0m\u001b[1;33m\u001b[0m\u001b[0m\n",
      "\u001b[1;32m<ipython-input-56-ab7abbbd9b35>\u001b[0m in \u001b[0;36msave_online_metric\u001b[1;34m(clf)\u001b[0m\n\u001b[0;32m      1\u001b[0m \u001b[1;32mdef\u001b[0m \u001b[0msave_online_metric\u001b[0m\u001b[1;33m(\u001b[0m\u001b[0mclf\u001b[0m\u001b[1;33m)\u001b[0m\u001b[1;33m:\u001b[0m\u001b[1;33m\u001b[0m\u001b[1;33m\u001b[0m\u001b[0m\n\u001b[1;32m----> 2\u001b[1;33m     return pd.DataFrame({'train': clf.evals_result()['validation_0']['auc'],\n\u001b[0m\u001b[0;32m      3\u001b[0m                          'test': clf.evals_result()['validation_1']['auc']})\n\u001b[0;32m      4\u001b[0m \u001b[0mres\u001b[0m \u001b[1;33m=\u001b[0m \u001b[0msave_online_metric\u001b[0m\u001b[1;33m(\u001b[0m\u001b[0mclf_xgb\u001b[0m\u001b[1;33m)\u001b[0m\u001b[1;33m\u001b[0m\u001b[1;33m\u001b[0m\u001b[0m\n\u001b[0;32m      5\u001b[0m \u001b[0mres\u001b[0m\u001b[1;33m.\u001b[0m\u001b[0mplot\u001b[0m\u001b[1;33m(\u001b[0m\u001b[0mtitle\u001b[0m\u001b[1;33m=\u001b[0m\u001b[1;34m'ROC AUC'\u001b[0m\u001b[1;33m)\u001b[0m\u001b[1;33m\u001b[0m\u001b[1;33m\u001b[0m\u001b[0m\n",
      "\u001b[1;32mc:\\users\\andreik\\appdata\\local\\programs\\python\\python38\\lib\\site-packages\\xgboost\\sklearn.py\u001b[0m in \u001b[0;36mevals_result\u001b[1;34m(self)\u001b[0m\n\u001b[0;32m   1071\u001b[0m             'validation_1': {'logloss': ['0.41965', '0.17686']}}\n\u001b[0;32m   1072\u001b[0m         \"\"\"\n\u001b[1;32m-> 1073\u001b[1;33m         \u001b[1;32mif\u001b[0m \u001b[0mself\u001b[0m\u001b[1;33m.\u001b[0m\u001b[0mevals_result_\u001b[0m\u001b[1;33m:\u001b[0m\u001b[1;33m\u001b[0m\u001b[1;33m\u001b[0m\u001b[0m\n\u001b[0m\u001b[0;32m   1074\u001b[0m             \u001b[0mevals_result\u001b[0m \u001b[1;33m=\u001b[0m \u001b[0mself\u001b[0m\u001b[1;33m.\u001b[0m\u001b[0mevals_result_\u001b[0m\u001b[1;33m\u001b[0m\u001b[1;33m\u001b[0m\u001b[0m\n\u001b[0;32m   1075\u001b[0m         \u001b[1;32melse\u001b[0m\u001b[1;33m:\u001b[0m\u001b[1;33m\u001b[0m\u001b[1;33m\u001b[0m\u001b[0m\n",
      "\u001b[1;31mAttributeError\u001b[0m: 'XGBClassifier' object has no attribute 'evals_result_'"
     ]
    }
   ],
   "source": [
    "res = save_online_metric(clf_xgb)\n",
    "res.plot(ylim=(0.72, 0.85), title='ROC AUC')\n",
    "plt.xlabel('iteration number')\n",
    "plt.grid();\n",
    "plt.figure()\n",
    "res.test.plot(ylim=(0.65, 0.75), title='ROC AUC TEST')\n",
    "plt.xlabel('iteration number')\n",
    "plt.grid();"
   ]
  },
  {
   "cell_type": "code",
   "execution_count": null,
   "metadata": {},
   "outputs": [],
   "source": [
    "%%time\n",
    "\n",
    "from hyperopt import hp, fmin, tpe, STATUS_OK, Trials\n",
    "\n",
    "#функция, которую будем МИНИМИЗИРОВАТЬ\n",
    "def score(params):\n",
    "    params['max_depth'] = int(params['max_depth'])\n",
    "    params['n_jobs'] = -1\n",
    "    print(\"Training with params : \", params)\n",
    "    clf = xgb.XGBClassifier(**params)\n",
    "    clf.fit(X_train, y_train)\n",
    "    y_pred_xgb_test = clf.predict_proba(X_test)[:, 1]\n",
    "    auc = calc_auc(y_test, y_pred_xgb_test, prin=False)\n",
    "    result = {'loss': 1-auc, 'status': STATUS_OK}\n",
    "    print('TEST ROC AUC: {0:.4f}'.format(auc))\n",
    "    return result\n",
    "\n",
    "\n",
    "\n",
    "space = {'max_depth' : hp.quniform('max_depth', 1, 10, 1),\n",
    "         'min_child_weight' : hp.quniform('min_child_weight', 1, 10, 1),\n",
    "         'subsample' : hp.quniform('subsample', 0.5, 1, 0.05),\n",
    "         'gamma' : hp.quniform('gamma', 0.5, 1, 0.05),\n",
    "         'colsample_bytree' : hp.quniform('colsample_bytree', 0.5, 1, 0.05),\n",
    "         'silent' : 1,\n",
    "         'n_estimators': 100,\n",
    "         'learning_rate': 0.1\n",
    "         }\n",
    "trials = Trials()\n",
    "\n",
    "best = fmin(score, space, algo=tpe.suggest, trials=trials, max_evals=20)"
   ]
  },
  {
   "cell_type": "code",
   "execution_count": null,
   "metadata": {},
   "outputs": [],
   "source": [
    "best"
   ]
  },
  {
   "cell_type": "code",
   "execution_count": null,
   "metadata": {},
   "outputs": [],
   "source": [
    "trials.best_trial"
   ]
  },
  {
   "cell_type": "code",
   "execution_count": null,
   "metadata": {},
   "outputs": [],
   "source": [
    "best_new = {'colsample_bytree': 0.75,\n",
    " 'gamma': 0.75,\n",
    " 'max_depth': 3,\n",
    " 'min_child_weight': 3.0,\n",
    " 'subsample': 0.6000000000000001,\n",
    " 'n_estimators': 100,\n",
    " 'learning_rate': 0.1         \n",
    "}"
   ]
  },
  {
   "cell_type": "code",
   "execution_count": null,
   "metadata": {},
   "outputs": [],
   "source": [
    "%%time\n",
    "clf_xgb = xgb.XGBClassifier(**best_new)\n",
    "clf_xgb.fit(X_train, y_train)"
   ]
  },
  {
   "cell_type": "code",
   "execution_count": null,
   "metadata": {},
   "outputs": [],
   "source": [
    "y_pred_xgb_test = clf_xgb.predict_proba(X_test)[:, 1]\n",
    "y_pred_xgb_train = clf_xgb.predict_proba(X_train)[:, 1]\n",
    "\n",
    "print('Train:')\n",
    "calc_auc(y_train, y_pred_xgb_train, 'train')\n",
    "print('Test:')\n",
    "calc_auc(y_test, y_pred_xgb_test, 'test')\n",
    "plt.grid()\n",
    "plt.legend();"
   ]
  },
  {
   "cell_type": "code",
   "execution_count": null,
   "metadata": {},
   "outputs": [],
   "source": [
    "%%time\n",
    "\n",
    "bst = clf_xgb.get_booster()\n",
    "\n",
    "for kind in ['weight', 'gain', 'cover']:\n",
    "    imp = pd.Series(bst.get_score(importance_type=kind))\n",
    "    plt.figure()\n",
    "    imp.sort_values(ascending=False).iloc[:10].plot(kind='barh', title=kind)"
   ]
  },
  {
   "cell_type": "code",
   "execution_count": null,
   "metadata": {},
   "outputs": [],
   "source": [
    "import xgbfir\n",
    "xgbfir.saveXgbFI(clf_xgb, OutputXlsxFile='xgbfi_report.xlsx')"
   ]
  },
  {
   "cell_type": "code",
   "execution_count": null,
   "metadata": {},
   "outputs": [],
   "source": [
    "pd.read_excel('xgbfi_report.xlsx', engine='openpyxl', sheet_name=0)"
   ]
  },
  {
   "cell_type": "code",
   "execution_count": null,
   "metadata": {},
   "outputs": [],
   "source": [
    "from catboost import CatBoostClassifier, Pool"
   ]
  },
  {
   "cell_type": "code",
   "execution_count": null,
   "metadata": {},
   "outputs": [],
   "source": [
    "train_data = X_train\n",
    "train_labels = y_train\n",
    "eval_data = X_test\n",
    "eval_labels = y_test\n",
    "eval_dataset = Pool(eval_data,\n",
    "                    eval_labels)\n",
    "\n",
    "\n",
    "\n",
    "\n",
    "\n",
    "clf_catb = CatBoostClassifier(\n",
    "                           l2_leaf_reg=4000,\n",
    "                           iterations=1000,\n",
    "                           learning_rate=0.3,\n",
    "                           eval_metric='AUC',\n",
    "                            max_depth=7,\n",
    "                           loss_function='CrossEntropy',\n",
    "                           use_best_model=True,\n",
    "                           custom_metric=['Accuracy',\n",
    "                                          'AUC:hints=skip_train~false'],\n",
    "                                                     )"
   ]
  },
  {
   "cell_type": "code",
   "execution_count": null,
   "metadata": {},
   "outputs": [],
   "source": [
    "clf_catb.fit(train_data,\n",
    "          train_labels,\n",
    "          eval_set=eval_dataset,\n",
    "          verbose=False,\n",
    "          plot=True)"
   ]
  },
  {
   "cell_type": "code",
   "execution_count": null,
   "metadata": {},
   "outputs": [],
   "source": [
    "y_pred_catb_test = clf_catb.predict_proba(X_test)[:, 1]\n",
    "y_pred_catb_train = clf_catb.predict_proba(X_train)[:, 1]\n",
    "\n",
    "print('Train:')\n",
    "calc_auc(y_train, y_pred_catb_train, 'train')\n",
    "print('Test:')\n",
    "calc_auc(y_test, y_pred_catb_test, 'test')\n",
    "plt.grid()\n",
    "plt.legend();"
   ]
  }
 ],
 "metadata": {
  "kernelspec": {
   "display_name": "Python 3",
   "language": "python",
   "name": "python3"
  },
  "language_info": {
   "codemirror_mode": {
    "name": "ipython",
    "version": 3
   },
   "file_extension": ".py",
   "mimetype": "text/x-python",
   "name": "python",
   "nbconvert_exporter": "python",
   "pygments_lexer": "ipython3",
   "version": "3.8.7"
  },
  "toc": {
   "nav_menu": {},
   "number_sections": false,
   "sideBar": true,
   "skip_h1_title": false,
   "toc_cell": false,
   "toc_position": {
    "height": "calc(100% - 180px)",
    "left": "10px",
    "top": "150px",
    "width": "170px"
   },
   "toc_section_display": "block",
   "toc_window_display": true
  }
 },
 "nbformat": 4,
 "nbformat_minor": 2
}
