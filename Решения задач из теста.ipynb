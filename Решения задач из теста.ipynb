{
 "cells": [
  {
   "cell_type": "markdown",
   "metadata": {},
   "source": [
    "# Тестовое задание для курса «Основы Data Science» <br>\n",
    "На тестовое задание дается 5 рабочих дней. Для прохождения теста не обязательно решить все задания. Язык написания тестового задания Python. Использование стандартных функций и библиотек запрещено, т.е. используются только явно заданные операции над функциями и элементами.\n"
   ]
  },
  {
   "cell_type": "markdown",
   "metadata": {},
   "source": [
    "#### Файл с решением необходимо отправить на email: sv6382@gmail.com с темой письма \"тестовое задание для курса  Основы Data Science\"<br>\n",
    "#### Преподаватель: Сташевский Владислав Сергеевич"
   ]
  },
  {
   "cell_type": "markdown",
   "metadata": {},
   "source": [
    "#### Студент\n",
    "Имя: Иван   <br>\n",
    "Фамилия: Иванов"
   ]
  },
  {
   "cell_type": "markdown",
   "metadata": {},
   "source": [
    "1. Напишите функцию, получающую на вход численные значения некоторой дискретной случайной величины и вероятности их появления, а возвращающую – ее математическое ожидание и дисперсию."
   ]
  },
  {
   "cell_type": "code",
   "execution_count": 7,
   "metadata": {},
   "outputs": [
    {
     "name": "stdout",
     "output_type": "stream",
     "text": [
      "Data: [[1, 0.2], [2, 0.4], [3, 0.3], [4, 0.1]]\n",
      "Expectation: 2.3\n",
      "Dispersion: 0.81\n"
     ]
    }
   ],
   "source": [
    "# input value -- array of [value, probability] pairs\n",
    "def calc_expect(d):\n",
    "  expectation = 0\n",
    "  for x in d:\n",
    "    expectation += x[0] * x[1]\n",
    "  return expectation\n",
    "\n",
    "def calc_disp(d):\n",
    "  expectation = calc_expect(d)\n",
    "  dispersion = 0\n",
    "  for x in d:\n",
    "    dispersion += ((x[0] - expectation) ** 2) * x[1]\n",
    "  return dispersion\n",
    "\n",
    "data = [[1, 0.2], [2, 0.4], [3, 0.3], [4, 0.1]]\n",
    "print(\"Data: \" + str(data))\n",
    "print(\"Expectation: \" + str(calc_expect(data)))\n",
    "print(\"Dispersion: \" + str(calc_disp(data)))"
   ]
  },
  {
   "cell_type": "code",
   "execution_count": null,
   "metadata": {},
   "outputs": [],
   "source": []
  },
  {
   "cell_type": "markdown",
   "metadata": {},
   "source": [
    "2. Напишите функцию, реализующую скалярное произведение двух векторов произвольной размерности. <br>\n",
    "<br>\n",
    "Для тестирования используйте следующее: <br>\n",
    "Вектор A с размерностью 1х3 = (1, 2, 3) <br>\n",
    "Вектор B с размерность 3х1 = (4, 5, 6) <br>\n",
    "A x B должен быть равен 32 <br>\n",
    "<br>\n",
    "P.S. в качестве векторов используйте тип list или tuple"
   ]
  },
  {
   "cell_type": "code",
   "execution_count": 5,
   "metadata": {
    "scrolled": true
   },
   "outputs": [
    {
     "name": "stdout",
     "output_type": "stream",
     "text": [
      "32\n"
     ]
    }
   ],
   "source": [
    "def scalar_product(v1, v2):\n",
    "  l = len(v1)\n",
    "\n",
    "  if len(v2) != l:\n",
    "    raise Exception(\"Vectors should be of equal length\")\n",
    "\n",
    "  p = 0\n",
    "\n",
    "  for i in range(l):\n",
    "    p += v1[i] * v2[i]\n",
    "\n",
    "  return p\n",
    "\n",
    "print(str(scalar_product([1, 2, 3], [4, 5, 6])))"
   ]
  },
  {
   "cell_type": "code",
   "execution_count": null,
   "metadata": {},
   "outputs": [],
   "source": []
  },
  {
   "cell_type": "markdown",
   "metadata": {},
   "source": [
    "3. Напишите функцию, реализующую скалярное произведение двух матриц произвольной размерности.<br>\n",
    "<br>\n",
    "Для тестирования используйте следующее: <br>\n",
    "Матрица A с размерностью 2х2 = [[1, 2], [3, 4]] <br>\n",
    "Матрица B с размерность 2х2 = [[4, 2], [3, 1]] <br>\n",
    "A x B должен быть равен [[10, 4], [24, 10]]<br>\n",
    "<br>\n",
    "P.S. в качестве матриц используйте конструкцию из list или tuple"
   ]
  },
  {
   "cell_type": "code",
   "execution_count": 8,
   "metadata": {},
   "outputs": [
    {
     "name": "stdout",
     "output_type": "stream",
     "text": [
      "Data1: [[1, 2], [3, 4]]\n",
      "Data2: [[4, 2], [3, 1]]\n",
      "Matrix product: [[10, 4], [24, 10]]\n"
     ]
    }
   ],
   "source": [
    "def get_column_vector(m, j):\n",
    "  v = []\n",
    "  for i in range(len(m)):\n",
    "    v.append(m[i][j])\n",
    "  return v\n",
    "\n",
    "def scalar_product(v1, v2):\n",
    "  l = len(v1)\n",
    "\n",
    "  if len(v2) != l:\n",
    "    raise Exception(\"Vectors should be of equal length\")\n",
    "\n",
    "  p = 0\n",
    "\n",
    "  for i in range(l):\n",
    "    p += v1[i] * v2[i]\n",
    "\n",
    "  return p\n",
    "\n",
    "def matrix_product(a, b):\n",
    "  if len(a[0]) != len(b):\n",
    "    raise Exception(\"Number of columns of matrix a doesn't match number of rows of matrix b\")\n",
    "\n",
    "  p = []\n",
    "\n",
    "  for i in range(len(a)):\n",
    "    l = []\n",
    "    for j in range(len(b[0])):\n",
    "      l.append(scalar_product(a[i], get_column_vector(b, j)))\n",
    "    p.append(l)\n",
    "\n",
    "  return p\n",
    "\n",
    "data1 = [\n",
    "  [1, 2],\n",
    "  [3, 4]\n",
    "]\n",
    "\n",
    "data2 = [\n",
    "  [4, 2],\n",
    "  [3, 1]\n",
    "]\n",
    "\n",
    "print(\"Data1: \" + str(data1))\n",
    "print(\"Data2: \" + str(data2))\n",
    "print(\"Matrix product: \" + str(matrix_product(data1, data2)))"
   ]
  },
  {
   "cell_type": "code",
   "execution_count": null,
   "metadata": {},
   "outputs": [],
   "source": []
  },
  {
   "cell_type": "markdown",
   "metadata": {},
   "source": [
    "4. Напишите функцию, реализующую нахождение длины вектора произвольной размерности. <br>\n",
    "<br>\n",
    "Для тестирования используйте следующее: <br>\n",
    "Вектор A с размерностью 1х3 = (1, 2, 3) <br>\n",
    "Длина вектора А равен приблизительно 3.74 <br>\n",
    "<br>\n",
    "P.S. в качестве векторов используйте тип list или tuple"
   ]
  },
  {
   "cell_type": "code",
   "execution_count": 9,
   "metadata": {},
   "outputs": [
    {
     "name": "stdout",
     "output_type": "stream",
     "text": [
      "Len: 3.7416573867739413\n"
     ]
    }
   ],
   "source": [
    "def calc_len(d):\n",
    "  import math\n",
    "  t = 0\n",
    "  for x in d:\n",
    "    t += x ** 2\n",
    "  return math.sqrt(t)\n",
    "\n",
    "print(\"Len: \" + str(calc_len([1, 2, 3])))"
   ]
  },
  {
   "cell_type": "code",
   "execution_count": null,
   "metadata": {},
   "outputs": [],
   "source": []
  },
  {
   "cell_type": "markdown",
   "metadata": {},
   "source": [
    "5. Игральную кость (6 граней) бросили N раз. Какова вероятность того, что M раз выпадет число не менее S. Напишите функцию решения данной задачи, для любых N, M и S."
   ]
  },
  {
   "cell_type": "code",
   "execution_count": 10,
   "metadata": {},
   "outputs": [
    {
     "name": "stdout",
     "output_type": "stream",
     "text": [
      "N, M, S: 5, 1, 4\n",
      "Probability: 0.15625\n"
     ]
    }
   ],
   "source": [
    "def factorial(n):\n",
    "  res = 1\n",
    "  for x in range(2, n + 1):\n",
    "    res *= x\n",
    "  return res\n",
    "\n",
    "def calc_c(k, n):\n",
    "  return factorial(n) / (factorial(k) * factorial(n - k))\n",
    "\n",
    "def calc_prob(n, m, s):\n",
    "  ''' n -- overall attempts, m -- attempts satisfying the condition, s -- number for the condition \"not less than s\" '''\n",
    "  p = (6 - s + 1) / 6\n",
    "  return calc_c(m, n) * (p ** m) * ( (1 - p) ** (n - m) )\n",
    "\n",
    "print(\"N, M, S: 5, 1, 4\")\n",
    "print(\"Probability: \" + str(calc_prob(5, 1, 4)))"
   ]
  },
  {
   "cell_type": "code",
   "execution_count": null,
   "metadata": {},
   "outputs": [],
   "source": []
  },
  {
   "cell_type": "markdown",
   "metadata": {},
   "source": [
    "6. Напишите функцию нахождения определителя матрицы размерностью 3Х3. <br>\n",
    "<br>\n",
    "Для тестирования используйте следующее: <br>\n",
    "Матрица A с размерностью 3х3 = [[3, 2, 3], [2, 4, 1], [1, 3, 1]] <br>\n",
    "Определитель матрицы А равен приблизительно 7.0<br>\n",
    "<br>\n",
    "P.S. в качестве матриц используйте конструкцию из list или tuple"
   ]
  },
  {
   "cell_type": "code",
   "execution_count": 11,
   "metadata": {},
   "outputs": [
    {
     "name": "stdout",
     "output_type": "stream",
     "text": [
      "matrix: [[3, 2, 3], [2, 4, 1], [1, 3, 1]]\n",
      "Det: 7\n"
     ]
    }
   ],
   "source": [
    "def calc_det2x2(m):\n",
    "  return m[0][0] * m[1][1] - m[0][1] * m[1][0]\n",
    "\n",
    "def calc_det3x3(m):\n",
    "  return m[0][0] * calc_det2x2([[m[1][1], m[1][2]], [m[2][1], m[2][2]]]) \\\n",
    "    - m[0][1] * calc_det2x2([[m[1][0], m[1][2]], [m[2][0], m[2][2]]]) \\\n",
    "    + m[0][2] * calc_det2x2([[m[1][0], m[1][1]], [m[2][0], m[2][1]]])\n",
    "\n",
    "m = [[3, 2, 3], [2, 4, 1], [1, 3, 1]]\n",
    "print(\"matrix: \" + str(m))\n",
    "print(\"Det: \" + str(calc_det3x3(m)))"
   ]
  },
  {
   "cell_type": "code",
   "execution_count": null,
   "metadata": {},
   "outputs": [],
   "source": []
  },
  {
   "cell_type": "markdown",
   "metadata": {},
   "source": [
    "7. Напишите функцию, реализующую численный метод нахождения производной для любой дифференцируемой функции c одним неизвестным в точке x. <br>\n",
    "<br>\n",
    "Для тестирования используйте следующее: <br>\n",
    "Дана функция $f(x)=2x+x^2$\n",
    " <br>\n",
    "Производная в точке $x=2$ будет равна $6$<br>\n",
    "<br>\n",
    "P.S. в качестве матриц используйте конструкцию из list или tuple"
   ]
  },
  {
   "cell_type": "code",
   "execution_count": 12,
   "metadata": {},
   "outputs": [
    {
     "name": "stdout",
     "output_type": "stream",
     "text": [
      "Deriv: 6.000533403494046\n"
     ]
    }
   ],
   "source": [
    "def calc_derivative(f, x):\n",
    "  delta = 0.000000000001\n",
    "  return (f(x + delta) - f(x - delta)) / (2 * delta)\n",
    "\n",
    "def f(x):\n",
    "  return 2* x + x ** 2\n",
    "\n",
    "print(\"Deriv: \" + str(calc_derivative(f, 2)))\n"
   ]
  },
  {
   "cell_type": "code",
   "execution_count": null,
   "metadata": {},
   "outputs": [],
   "source": []
  },
  {
   "cell_type": "markdown",
   "metadata": {},
   "source": [
    "8. Напишите функцию нахождения евклидова расстояния между двумя произвольными векторами.<br>\n",
    "<br>\n",
    "Для тестирования используйте следующее: <br>\n",
    "Вектор A с размерностью 1х3 = (1, 2, 3) <br>\n",
    "Вектор B с размерность 1х3 = (4, 5, 6) <br>\n",
    "Евклидово расстояние между A и B составляет приблизительно 5.19 <br>\n",
    "<br>\n",
    "P.S. в качестве векторов используйте тип list или tuple"
   ]
  },
  {
   "cell_type": "code",
   "execution_count": 13,
   "metadata": {},
   "outputs": [
    {
     "name": "stdout",
     "output_type": "stream",
     "text": [
      "v1: [1, 2, 3]\n",
      "v2: [4, 5, 6]\n",
      "Dist: 5.196152422706632\n"
     ]
    }
   ],
   "source": [
    "def calc_eucl_dist(v1, v2):\n",
    "  import math\n",
    "  s = 0\n",
    "  for i in range(len(v1)):\n",
    "    s += (v1[i] - v2[i]) ** 2\n",
    "  return math.sqrt(s)\n",
    "\n",
    "v1 = [1, 2, 3]\n",
    "v2 = [4, 5, 6]\n",
    "\n",
    "print(\"v1: \" + str(v1))\n",
    "print(\"v2: \" + str(v2))\n",
    "print(\"Dist: \" + str(calc_eucl_dist(v1, v2)))"
   ]
  },
  {
   "cell_type": "code",
   "execution_count": null,
   "metadata": {},
   "outputs": [],
   "source": []
  },
  {
   "cell_type": "markdown",
   "metadata": {},
   "source": [
    "9. Напишите функцию нахождения определителя матрицы размерностью 4Х4.<br>\n",
    "<br>\n",
    "Для тестирования используйте следующее: <br>\n",
    "Матрица A с размерностью 4х4 = [[3, 2, 3, 1], [2, 4, 7, 6], [6, 3, 9, 2], [5, 1, 10, 3]] <br>\n",
    "Ее определитель равен приблизительно 83.9<br>\n",
    "<br>\n",
    "P.S. в качестве матриц используйте конструкцию из list или tuple"
   ]
  },
  {
   "cell_type": "code",
   "execution_count": 15,
   "metadata": {},
   "outputs": [
    {
     "name": "stdout",
     "output_type": "stream",
     "text": [
      "m: [[3, 2, 3, 1], [2, 4, 7, 6], [6, 3, 9, 2], [5, 1, 10, 3]]\n",
      "det: 84\n"
     ]
    }
   ],
   "source": [
    "def calc_det2x2(m):\n",
    "  return m[0][0] * m[1][1] - m[0][1] * m[1][0]\n",
    "\n",
    "def calc_det3x3(m):\n",
    "  return m[0][0] * calc_det2x2([[m[1][1], m[1][2]], [m[2][1], m[2][2]]]) \\\n",
    "    - m[0][1] * calc_det2x2([[m[1][0], m[1][2]], [m[2][0], m[2][2]]]) \\\n",
    "    + m[0][2] * calc_det2x2([[m[1][0], m[1][1]], [m[2][0], m[2][1]]])\n",
    "\n",
    "def extract(m, row, col):\n",
    "  res = []\n",
    "  for i in range(len(m)):\n",
    "    if (i != row):\n",
    "      r = m[i].copy()\n",
    "      r.pop(col)\n",
    "      res.append(r)\n",
    "  return res\n",
    "\n",
    "def calc_det(m):\n",
    "  if len(m) != len(m[0]):\n",
    "    raise Exception(\"Not a square matrix!\")\n",
    "\n",
    "  if len(m) == 3:\n",
    "    return calc_det3x3(m)\n",
    "\n",
    "  det = 0\n",
    "\n",
    "  for i in range(len(m)):\n",
    "    det += ((-1) ** (i + 2)) * m[0][i] * calc_det(extract(m, 0, i))\n",
    "\n",
    "  return det\n",
    "\n",
    "m = [[3, 2, 3, 1], [2, 4, 7, 6], [6, 3, 9, 2], [5, 1, 10, 3]]\n",
    "\n",
    "print(\"m: \" + str(m))\n",
    "print(\"det: \" + str(calc_det(m)))"
   ]
  },
  {
   "cell_type": "code",
   "execution_count": null,
   "metadata": {},
   "outputs": [],
   "source": []
  },
  {
   "cell_type": "markdown",
   "metadata": {},
   "source": [
    "10. Найдите минимум уравнения $f(x) = 3x^3 + 4x^2 +5x + 21$ на произвольном интервале с заданной точностью. Напишите функцию для решения этой задачи."
   ]
  },
  {
   "cell_type": "code",
   "execution_count": 16,
   "metadata": {},
   "outputs": [
    {
     "name": "stdout",
     "output_type": "stream",
     "text": [
      "min: -2999996000004999979\n"
     ]
    }
   ],
   "source": [
    "def find_min(f, a, b, p):\n",
    "  import sys\n",
    "  min = sys.float_info.max\n",
    "  x = a\n",
    "  while x <= b:\n",
    "    v = f(x)\n",
    "    if v < min:\n",
    "      min = v\n",
    "    x += p\n",
    "  return min\n",
    "\n",
    "def func(x):\n",
    "  return 3 * (x ** 3) + 4 * (x ** 2) + 5 * x + 21\n",
    "\n",
    "print(\"min: \" + str(find_min(func, -1000000, 1000000, 0.1)))"
   ]
  },
  {
   "cell_type": "code",
   "execution_count": null,
   "metadata": {},
   "outputs": [],
   "source": []
  }
 ],
 "metadata": {
  "kernelspec": {
   "display_name": "Python 3",
   "language": "python",
   "name": "python3"
  },
  "language_info": {
   "codemirror_mode": {
    "name": "ipython",
    "version": 3
   },
   "file_extension": ".py",
   "mimetype": "text/x-python",
   "name": "python",
   "nbconvert_exporter": "python",
   "pygments_lexer": "ipython3",
   "version": "3.8.5"
  }
 },
 "nbformat": 4,
 "nbformat_minor": 2
}
