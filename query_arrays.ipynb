{
 "cells": [
  {
   "cell_type": "code",
   "execution_count": 1,
   "metadata": {},
   "outputs": [],
   "source": [
    "customers = [\n",
    "    {\n",
    "        'id': 1,\n",
    "        'name': 'customer 1',\n",
    "        'city': 'minsk'\n",
    "    },\n",
    "    {\n",
    "        'id': 2,\n",
    "        'name': 'customer 2',\n",
    "        'city': 'minsk'\n",
    "    },\n",
    "    {\n",
    "        'id': 3,\n",
    "        'name': 'customer 3',\n",
    "        'city': 'berioza'\n",
    "    }    \n",
    "]\n",
    "\n",
    "goods = [\n",
    "    {\n",
    "        'id': 1,\n",
    "        'name': 'good 1'\n",
    "    },\n",
    "    {\n",
    "        'id': 2,\n",
    "        'name': 'good 2'\n",
    "    },\n",
    "    {\n",
    "        'id': 3,\n",
    "        'name': 'good 3'\n",
    "    }\n",
    "]\n",
    "\n",
    "movement = [\n",
    "    {\n",
    "        'date': '2020-12-01',\n",
    "        'customer': 1,\n",
    "        'good': 1,\n",
    "        'qty': 10,\n",
    "        'price': 5\n",
    "    },\n",
    "    {\n",
    "        'date': '2020-12-02',\n",
    "        'customer': 2,\n",
    "        'good': 1,\n",
    "        'qty': 20,\n",
    "        'price': 7\n",
    "    },\n",
    "    {\n",
    "        'date': '2020-12-02',\n",
    "        'customer': 2,\n",
    "        'good': 1,\n",
    "        'qty': -4,\n",
    "        'price': 9\n",
    "    },    \n",
    "    {\n",
    "        'date': '2020-12-03',\n",
    "        'customer': 3,\n",
    "        'good': 3,\n",
    "        'qty': 10,\n",
    "        'price': 6\n",
    "    },    \n",
    "    {\n",
    "        'date': '2020-12-03',\n",
    "        'customer': 3,\n",
    "        'good': 2,\n",
    "        'qty': 22,\n",
    "        'price': 1\n",
    "    },    \n",
    "]"
   ]
  },
  {
   "cell_type": "code",
   "execution_count": 4,
   "metadata": {},
   "outputs": [
    {
     "data": {
      "text/plain": [
       "[[3, 'customer 3']]"
      ]
     },
     "execution_count": 4,
     "metadata": {},
     "output_type": "execute_result"
    }
   ],
   "source": [
    "[[x['id'], x['name']] for x in customers if x['city'] == 'berioza']"
   ]
  },
  {
   "cell_type": "code",
   "execution_count": 10,
   "metadata": {},
   "outputs": [
    {
     "data": {
      "text/plain": [
       "[['2020-12-01', 'customer 1', 'good 1', 'приход'],\n",
       " ['2020-12-02', 'customer 2', 'good 1', 'приход'],\n",
       " ['2020-12-02', 'customer 2', 'good 1', 'расход'],\n",
       " ['2020-12-03', 'customer 3', 'good 3', 'приход'],\n",
       " ['2020-12-03', 'customer 3', 'good 2', 'приход']]"
      ]
     },
     "execution_count": 10,
     "metadata": {},
     "output_type": "execute_result"
    }
   ],
   "source": [
    "[[m['date'], c['name'], g['name'], 'приход' if m['qty'] >= 0 else 'расход'] \n",
    " for m in movement\n",
    " for c in customers if c['id'] == m['customer']\n",
    " for g in goods if g['id'] == m['good']\n",
    "]"
   ]
  }
 ],
 "metadata": {
  "kernelspec": {
   "display_name": "Python 3",
   "language": "python",
   "name": "python3"
  },
  "language_info": {
   "codemirror_mode": {
    "name": "ipython",
    "version": 3
   },
   "file_extension": ".py",
   "mimetype": "text/x-python",
   "name": "python",
   "nbconvert_exporter": "python",
   "pygments_lexer": "ipython3",
   "version": "3.8.5"
  }
 },
 "nbformat": 4,
 "nbformat_minor": 4
}
