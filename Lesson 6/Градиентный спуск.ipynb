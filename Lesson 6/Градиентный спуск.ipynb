{
 "cells": [
  {
   "cell_type": "markdown",
   "metadata": {},
   "source": [
    "Необходимо минимизировать функцию. Минимизировать значит найти при каком значении  функция  принимает минимальное значение. Определим последовательность действий:\n",
    "\n",
    "1) Необходима производная   \n",
    "2) Установим начальное значение  = 0  \n",
    "3) Установим размер шага — попробуем несколько значений — 0.1, 0.9, 1.2, чтобы посмотреть как этот выбор повлияет на сходимость  \n",
    "4) 25 раз подряд выполним указанную  формулу.  Так как неизвестный параметр только один, то и формула только одна  "
   ]
  },
  {
   "cell_type": "code",
   "execution_count": 1,
   "metadata": {},
   "outputs": [],
   "source": [
    "import numpy as np\n",
    "import matplotlib.pyplot as plt"
   ]
  },
  {
   "cell_type": "code",
   "execution_count": 20,
   "metadata": {},
   "outputs": [
    {
     "name": "stdout",
     "output_type": "stream",
     "text": [
      "After 25 steps theta= 22504.397903 function value= 506222905.994108\n"
     ]
    }
   ],
   "source": [
    "STEP_COUNT = 25\n",
    "STEP_SIZE = 1.2  # Скорость обучения\n",
    "\n",
    "\n",
    "def func(x):\n",
    "    return (x - 5) ** 2\n",
    "\n",
    "\n",
    "def func_derivative(x):\n",
    "    return 2 * (x - 5)\n",
    "\n",
    "previous_x, current_x = 0, 0\n",
    "\n",
    "for i in range(STEP_COUNT):\n",
    "    current_x = previous_x - STEP_SIZE * func_derivative(previous_x)\n",
    "    previous_x = current_x\n",
    "\n",
    "print(\"After\", STEP_COUNT, \"steps theta=\", format(current_x, \".6f\"), \"function value=\", format(func(current_x), \".6f\"))"
   ]
  },
  {
   "cell_type": "code",
   "execution_count": null,
   "metadata": {},
   "outputs": [],
   "source": []
  }
 ],
 "metadata": {
  "kernelspec": {
   "display_name": "Python 3",
   "language": "python",
   "name": "python3"
  },
  "language_info": {
   "codemirror_mode": {
    "name": "ipython",
    "version": 3
   },
   "file_extension": ".py",
   "mimetype": "text/x-python",
   "name": "python",
   "nbconvert_exporter": "python",
   "pygments_lexer": "ipython3",
   "version": "3.8.5"
  }
 },
 "nbformat": 4,
 "nbformat_minor": 4
}
