{
 "cells": [
  {
   "cell_type": "markdown",
   "metadata": {},
   "source": [
    "# Тестовое задание для курса «Основы Data Science» <br>\n",
    "На тестовое задание дается 5 рабочих дней. Для прохождения теста не обязательно решить все задания. Язык написания тестового задания Python. Использование стандартных функций и библиотек запрещено, т.е. используются только явно заданные операции над функциями и элементами.\n"
   ]
  },
  {
   "cell_type": "markdown",
   "metadata": {},
   "source": [
    "#### Файл с решением необходимо отправить на email: sv6382@gmail.com с темой письма \"тестовое задание для курса  Основы Data Science\"<br>\n",
    "#### Преподаватель: Сташевский Владислав Сергеевич"
   ]
  },
  {
   "cell_type": "markdown",
   "metadata": {},
   "source": [
    "#### Студент\n",
    "Имя: Иван   <br>\n",
    "Фамилия: Иванов"
   ]
  },
  {
   "cell_type": "markdown",
   "metadata": {},
   "source": [
    "1. Напишите функцию, получающую на вход численные значения некоторой дискретной случайной величины и вероятности их появления, а возвращающую – ее математическое ожидание и дисперсию."
   ]
  },
  {
   "cell_type": "code",
   "execution_count": null,
   "metadata": {},
   "outputs": [],
   "source": []
  },
  {
   "cell_type": "code",
   "execution_count": null,
   "metadata": {},
   "outputs": [],
   "source": []
  },
  {
   "cell_type": "markdown",
   "metadata": {},
   "source": [
    "2. Напишите функцию, реализующую скалярное произведение двух векторов произвольной размерности. <br>\n",
    "<br>\n",
    "Для тестирования используйте следующее: <br>\n",
    "Вектор A с размерностью 1х3 = (1, 2, 3) <br>\n",
    "Вектор B с размерность 3х1 = (4, 5, 6) <br>\n",
    "A x B должен быть равен 32 <br>\n",
    "<br>\n",
    "P.S. в качестве векторов используйте тип list или tuple"
   ]
  },
  {
   "cell_type": "code",
   "execution_count": null,
   "metadata": {},
   "outputs": [],
   "source": []
  },
  {
   "cell_type": "code",
   "execution_count": null,
   "metadata": {},
   "outputs": [],
   "source": []
  },
  {
   "cell_type": "markdown",
   "metadata": {},
   "source": [
    "3. Напишите функцию, реализующую скалярное произведение двух матриц произвольной размерности.<br>\n",
    "<br>\n",
    "Для тестирования используйте следующее: <br>\n",
    "Матрица A с размерностью 2х2 = [[1, 2], [3, 4]] <br>\n",
    "Матрица B с размерность 2х2 = [[4, 2], [3, 1]] <br>\n",
    "A x B должен быть равен [[10, 4], [24, 10]]<br>\n",
    "<br>\n",
    "P.S. в качестве матриц используйте конструкцию из list или tuple"
   ]
  },
  {
   "cell_type": "code",
   "execution_count": null,
   "metadata": {},
   "outputs": [],
   "source": []
  },
  {
   "cell_type": "code",
   "execution_count": null,
   "metadata": {},
   "outputs": [],
   "source": []
  },
  {
   "cell_type": "markdown",
   "metadata": {},
   "source": [
    "4. Напишите функцию, реализующую нахождение длины вектора произвольной размерности. <br>\n",
    "<br>\n",
    "Для тестирования используйте следующее: <br>\n",
    "Вектор A с размерностью 1х3 = (1, 2, 3) <br>\n",
    "Длина вектора А равен приблизительно 3.74 <br>\n",
    "<br>\n",
    "P.S. в качестве векторов используйте тип list или tuple"
   ]
  },
  {
   "cell_type": "code",
   "execution_count": null,
   "metadata": {},
   "outputs": [],
   "source": []
  },
  {
   "cell_type": "code",
   "execution_count": null,
   "metadata": {},
   "outputs": [],
   "source": []
  },
  {
   "cell_type": "markdown",
   "metadata": {},
   "source": [
    "5. Игральную кость (6 граней) бросили N раз. Какова вероятность того, что M раз выпадет число не менее S. Напишите функцию решения данной задачи, для любых N, M и S."
   ]
  },
  {
   "cell_type": "code",
   "execution_count": null,
   "metadata": {},
   "outputs": [],
   "source": []
  },
  {
   "cell_type": "code",
   "execution_count": null,
   "metadata": {},
   "outputs": [],
   "source": []
  },
  {
   "cell_type": "markdown",
   "metadata": {},
   "source": [
    "6. Напишите функцию нахождения определителя матрицы размерностью 3Х3. <br>\n",
    "<br>\n",
    "Для тестирования используйте следующее: <br>\n",
    "Матрица A с размерностью 3х3 = [[3, 2, 3], [2, 4, 1], [1, 3, 1]] <br>\n",
    "Определитель матрицы А равен приблизительно 7.0<br>\n",
    "<br>\n",
    "P.S. в качестве матриц используйте конструкцию из list или tuple"
   ]
  },
  {
   "cell_type": "code",
   "execution_count": null,
   "metadata": {},
   "outputs": [],
   "source": []
  },
  {
   "cell_type": "code",
   "execution_count": null,
   "metadata": {},
   "outputs": [],
   "source": []
  },
  {
   "cell_type": "markdown",
   "metadata": {},
   "source": [
    "7. Напишите функцию, реализующую численный метод нахождения производной для любой дифференцируемой функции c одним неизвестным в точке x. <br>\n",
    "<br>\n",
    "Для тестирования используйте следующее: <br>\n",
    "Дана функция $f(x)=2x+x^2$\n",
    " <br>\n",
    "Производная в точке $x=2$ будет равна $6$<br>\n",
    "<br>\n",
    "P.S. в качестве матриц используйте конструкцию из list или tuple"
   ]
  },
  {
   "cell_type": "code",
   "execution_count": null,
   "metadata": {},
   "outputs": [],
   "source": []
  },
  {
   "cell_type": "code",
   "execution_count": null,
   "metadata": {},
   "outputs": [],
   "source": []
  },
  {
   "cell_type": "markdown",
   "metadata": {},
   "source": [
    "8. Напишите функцию нахождения евклидова расстояния между двумя произвольными векторами.<br>\n",
    "<br>\n",
    "Для тестирования используйте следующее: <br>\n",
    "Вектор A с размерностью 1х3 = (1, 2, 3) <br>\n",
    "Вектор B с размерность 1х3 = (4, 5, 6) <br>\n",
    "Евклидово расстояние между A и B составляет приблизительно 5.19 <br>\n",
    "<br>\n",
    "P.S. в качестве векторов используйте тип list или tuple"
   ]
  },
  {
   "cell_type": "code",
   "execution_count": null,
   "metadata": {},
   "outputs": [],
   "source": []
  },
  {
   "cell_type": "code",
   "execution_count": null,
   "metadata": {},
   "outputs": [],
   "source": []
  },
  {
   "cell_type": "markdown",
   "metadata": {},
   "source": [
    "9. Напишите функцию нахождения определителя матрицы размерностью 4Х4.<br>\n",
    "<br>\n",
    "Для тестирования используйте следующее: <br>\n",
    "Матрица A с размерностью 4х4 = [[3, 2, 3, 1], [2, 4, 7, 6], [6, 3, 9, 2], [5, 1, 10, 3]] <br>\n",
    "Ее определитель равен приблизительно 83.9<br>\n",
    "<br>\n",
    "P.S. в качестве матриц используйте конструкцию из list или tuple"
   ]
  },
  {
   "cell_type": "code",
   "execution_count": null,
   "metadata": {},
   "outputs": [],
   "source": []
  },
  {
   "cell_type": "code",
   "execution_count": null,
   "metadata": {},
   "outputs": [],
   "source": []
  },
  {
   "cell_type": "markdown",
   "metadata": {},
   "source": [
    "10. Найдите минимум уравнения $f(x) = 3x^3 + 4x^2 +5x + 21$ на произвольном интервале с заданной точностью. Напишите функцию для решения этой задачи."
   ]
  },
  {
   "cell_type": "code",
   "execution_count": null,
   "metadata": {},
   "outputs": [],
   "source": []
  },
  {
   "cell_type": "code",
   "execution_count": null,
   "metadata": {},
   "outputs": [],
   "source": []
  }
 ],
 "metadata": {
  "kernelspec": {
   "display_name": "Python 3",
   "language": "python",
   "name": "python3"
  },
  "language_info": {
   "codemirror_mode": {
    "name": "ipython",
    "version": 3
   },
   "file_extension": ".py",
   "mimetype": "text/x-python",
   "name": "python",
   "nbconvert_exporter": "python",
   "pygments_lexer": "ipython3",
   "version": "3.7.6"
  }
 },
 "nbformat": 4,
 "nbformat_minor": 2
}
