{
 "cells": [
  {
   "cell_type": "code",
   "execution_count": 3,
   "metadata": {},
   "outputs": [
    {
     "name": "stdout",
     "output_type": "stream",
     "text": [
      "25000.0\n"
     ]
    }
   ],
   "source": [
    "price = 280\n",
    "publisher = 200\n",
    "seller = 50\n",
    "author = 30\n",
    "\n",
    "sold = [500, 1000, 2000, 3000, 4000]\n",
    "prob = [0.2, 0.4, 0.25, 0.1, 0.05]\n",
    "exp = [225000, 250000, 300000, 350000, 400000]\n",
    "\n",
    "profit = 0\n",
    "\n",
    "for x in range(len(sold)):\n",
    "    profit += (sold[x] * publisher - exp[x]) * prob[x]\n",
    "    \n",
    "print(profit)    "
   ]
  }
 ],
 "metadata": {
  "kernelspec": {
   "display_name": "Python 3",
   "language": "python",
   "name": "python3"
  },
  "language_info": {
   "codemirror_mode": {
    "name": "ipython",
    "version": 3
   },
   "file_extension": ".py",
   "mimetype": "text/x-python",
   "name": "python",
   "nbconvert_exporter": "python",
   "pygments_lexer": "ipython3",
   "version": "3.8.5"
  }
 },
 "nbformat": 4,
 "nbformat_minor": 4
}
