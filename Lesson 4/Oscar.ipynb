{
 "cells": [
  {
   "cell_type": "markdown",
   "metadata": {},
   "source": [
    "# Упражнение"
   ]
  },
  {
   "cell_type": "markdown",
   "metadata": {},
   "source": [
    "### Анализ данных возраста актеров обладателей премии Оскар."
   ]
  },
  {
   "cell_type": "markdown",
   "metadata": {},
   "source": [
    "1. Прочитать данные из файлов о возрасте победителей Оскаров для мужчин и женщин: oscar_age_male.csv; oscar_age_female.csv\n",
    "2. Убрать ненужный столбец 'Index' в каждом dataframe\n",
    "3. Добавить столбец гендера в каждый dataframe со значениями 1 для мужчин и 0 для женщин.\n",
    "4. Проверить нет ли нулевых значений в обоих dataframe.\n",
    "5. Объединить данные в один dataframe.\n",
    "6. Средний возраст мужчин/женщин, получивших оскар.\n",
    "7. Построить распределение частоты получения оскара от возраста для обоих полов.\n",
    "8. Оценить нормальность закона вероятности получения оскара от возраста для обих полов.\n",
    "9. Pасчитать по Т критерию различия двух вероятностей возрастов от гендера и сделать вывод.\n",
    "10. Расчитать доверительный интервал получения оскара с вероятностью 9% для обоих полов.\n",
    "11. Оценить вероятность получения оскара группы претендентов, чей средний возраст для женщин 30 лет, для мужчин 55 лет."
   ]
  },
  {
   "cell_type": "code",
   "execution_count": 167,
   "metadata": {},
   "outputs": [],
   "source": [
    "import pandas as pd\n",
    "import numpy as np\n",
    "import matplotlib.pyplot as plt\n",
    "import scipy.stats as stats\n",
    "from scipy.stats import norm\n",
    "import scipy as sp\n",
    "\n",
    "%matplotlib inline"
   ]
  },
  {
   "cell_type": "code",
   "execution_count": null,
   "metadata": {},
   "outputs": [],
   "source": []
  }
 ],
 "metadata": {
  "kernelspec": {
   "display_name": "Python 3",
   "language": "python",
   "name": "python3"
  },
  "language_info": {
   "codemirror_mode": {
    "name": "ipython",
    "version": 3
   },
   "file_extension": ".py",
   "mimetype": "text/x-python",
   "name": "python",
   "nbconvert_exporter": "python",
   "pygments_lexer": "ipython3",
   "version": "3.8.5"
  }
 },
 "nbformat": 4,
 "nbformat_minor": 4
}
