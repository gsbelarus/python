{
 "cells": [
  {
   "cell_type": "code",
   "execution_count": 56,
   "metadata": {},
   "outputs": [
    {
     "data": {
      "text/html": [
       "<div>\n",
       "<style scoped>\n",
       "    .dataframe tbody tr th:only-of-type {\n",
       "        vertical-align: middle;\n",
       "    }\n",
       "\n",
       "    .dataframe tbody tr th {\n",
       "        vertical-align: top;\n",
       "    }\n",
       "\n",
       "    .dataframe thead th {\n",
       "        text-align: right;\n",
       "    }\n",
       "</style>\n",
       "<table border=\"1\" class=\"dataframe\">\n",
       "  <thead>\n",
       "    <tr style=\"text-align: right;\">\n",
       "      <th></th>\n",
       "      <th>Index</th>\n",
       "      <th>\"Year\"</th>\n",
       "      <th>\"Age\"</th>\n",
       "      <th>\"Name\"</th>\n",
       "      <th>\"Movie\"</th>\n",
       "    </tr>\n",
       "  </thead>\n",
       "  <tbody>\n",
       "    <tr>\n",
       "      <th>0</th>\n",
       "      <td>1</td>\n",
       "      <td>1928</td>\n",
       "      <td>22</td>\n",
       "      <td>\"Janet Gaynor\"</td>\n",
       "      <td>\"Seventh Heaven</td>\n",
       "    </tr>\n",
       "    <tr>\n",
       "      <th>1</th>\n",
       "      <td>2</td>\n",
       "      <td>1929</td>\n",
       "      <td>37</td>\n",
       "      <td>\"Mary Pickford\"</td>\n",
       "      <td>\"Coquette\"</td>\n",
       "    </tr>\n",
       "    <tr>\n",
       "      <th>2</th>\n",
       "      <td>3</td>\n",
       "      <td>1930</td>\n",
       "      <td>28</td>\n",
       "      <td>\"Norma Shearer\"</td>\n",
       "      <td>\"The Divorcee\"\\t</td>\n",
       "    </tr>\n",
       "    <tr>\n",
       "      <th>3</th>\n",
       "      <td>4</td>\n",
       "      <td>1931</td>\n",
       "      <td>63</td>\n",
       "      <td>\"Marie Dressler\"</td>\n",
       "      <td>\"Min and Bill\"</td>\n",
       "    </tr>\n",
       "    <tr>\n",
       "      <th>4</th>\n",
       "      <td>5</td>\n",
       "      <td>1932</td>\n",
       "      <td>32</td>\n",
       "      <td>\"Helen Hayes\"</td>\n",
       "      <td>\"The Sin of Madelon Claudet\"\\t</td>\n",
       "    </tr>\n",
       "    <tr>\n",
       "      <th>...</th>\n",
       "      <td>...</td>\n",
       "      <td>...</td>\n",
       "      <td>...</td>\n",
       "      <td>...</td>\n",
       "      <td>...</td>\n",
       "    </tr>\n",
       "    <tr>\n",
       "      <th>84</th>\n",
       "      <td>85</td>\n",
       "      <td>2012</td>\n",
       "      <td>62</td>\n",
       "      <td>\"Meryl Streep\"</td>\n",
       "      <td>\"The Iron Lady\"</td>\n",
       "    </tr>\n",
       "    <tr>\n",
       "      <th>85</th>\n",
       "      <td>86</td>\n",
       "      <td>2013</td>\n",
       "      <td>22</td>\n",
       "      <td>\"Jennifer Lawrence\"</td>\n",
       "      <td>\"Silver Linings Playbook\"</td>\n",
       "    </tr>\n",
       "    <tr>\n",
       "      <th>86</th>\n",
       "      <td>87</td>\n",
       "      <td>2014</td>\n",
       "      <td>44</td>\n",
       "      <td>\"Cate Blanchett\"</td>\n",
       "      <td>\"Blue Jasmine\"</td>\n",
       "    </tr>\n",
       "    <tr>\n",
       "      <th>87</th>\n",
       "      <td>88</td>\n",
       "      <td>2015</td>\n",
       "      <td>54</td>\n",
       "      <td>\"Julianne Moore\"</td>\n",
       "      <td>\"Still Alice\"</td>\n",
       "    </tr>\n",
       "    <tr>\n",
       "      <th>88</th>\n",
       "      <td>89</td>\n",
       "      <td>2016</td>\n",
       "      <td>26</td>\n",
       "      <td>\"Brie Larson\"</td>\n",
       "      <td>\"Room\"</td>\n",
       "    </tr>\n",
       "  </tbody>\n",
       "</table>\n",
       "<p>89 rows × 5 columns</p>\n",
       "</div>"
      ],
      "text/plain": [
       "    Index   \"Year\"   \"Age\"                \"Name\"  \\\n",
       "0       1     1928      22        \"Janet Gaynor\"   \n",
       "1       2     1929      37       \"Mary Pickford\"   \n",
       "2       3     1930      28       \"Norma Shearer\"   \n",
       "3       4     1931      63      \"Marie Dressler\"   \n",
       "4       5     1932      32         \"Helen Hayes\"   \n",
       "..    ...      ...     ...                   ...   \n",
       "84     85     2012      62        \"Meryl Streep\"   \n",
       "85     86     2013      22   \"Jennifer Lawrence\"   \n",
       "86     87     2014      44      \"Cate Blanchett\"   \n",
       "87     88     2015      54      \"Julianne Moore\"   \n",
       "88     89     2016      26         \"Brie Larson\"   \n",
       "\n",
       "                            \"Movie\"  \n",
       "0                   \"Seventh Heaven  \n",
       "1                        \"Coquette\"  \n",
       "2                  \"The Divorcee\"\\t  \n",
       "3                    \"Min and Bill\"  \n",
       "4    \"The Sin of Madelon Claudet\"\\t  \n",
       "..                              ...  \n",
       "84                  \"The Iron Lady\"  \n",
       "85        \"Silver Linings Playbook\"  \n",
       "86                   \"Blue Jasmine\"  \n",
       "87                    \"Still Alice\"  \n",
       "88                           \"Room\"  \n",
       "\n",
       "[89 rows x 5 columns]"
      ]
     },
     "execution_count": 56,
     "metadata": {},
     "output_type": "execute_result"
    }
   ],
   "source": [
    "import pandas as pd\n",
    "import numpy as np\n",
    "import matplotlib.pyplot as plt\n",
    "import scipy.stats as stats\n",
    "from scipy.stats import norm\n",
    "import scipy as sp\n",
    "\n",
    "%matplotlib inline\n",
    "\n",
    "female = pd.read_csv('oscar_age_female.csv', index_col=False)\n",
    "female"
   ]
  },
  {
   "cell_type": "code",
   "execution_count": 57,
   "metadata": {},
   "outputs": [
    {
     "data": {
      "text/html": [
       "<div>\n",
       "<style scoped>\n",
       "    .dataframe tbody tr th:only-of-type {\n",
       "        vertical-align: middle;\n",
       "    }\n",
       "\n",
       "    .dataframe tbody tr th {\n",
       "        vertical-align: top;\n",
       "    }\n",
       "\n",
       "    .dataframe thead th {\n",
       "        text-align: right;\n",
       "    }\n",
       "</style>\n",
       "<table border=\"1\" class=\"dataframe\">\n",
       "  <thead>\n",
       "    <tr style=\"text-align: right;\">\n",
       "      <th></th>\n",
       "      <th>\"Year\"</th>\n",
       "      <th>\"Age\"</th>\n",
       "      <th>\"Name\"</th>\n",
       "      <th>\"Movie\"</th>\n",
       "    </tr>\n",
       "  </thead>\n",
       "  <tbody>\n",
       "    <tr>\n",
       "      <th>0</th>\n",
       "      <td>1928</td>\n",
       "      <td>22</td>\n",
       "      <td>\"Janet Gaynor\"</td>\n",
       "      <td>\"Seventh Heaven</td>\n",
       "    </tr>\n",
       "    <tr>\n",
       "      <th>1</th>\n",
       "      <td>1929</td>\n",
       "      <td>37</td>\n",
       "      <td>\"Mary Pickford\"</td>\n",
       "      <td>\"Coquette\"</td>\n",
       "    </tr>\n",
       "    <tr>\n",
       "      <th>2</th>\n",
       "      <td>1930</td>\n",
       "      <td>28</td>\n",
       "      <td>\"Norma Shearer\"</td>\n",
       "      <td>\"The Divorcee\"\\t</td>\n",
       "    </tr>\n",
       "    <tr>\n",
       "      <th>3</th>\n",
       "      <td>1931</td>\n",
       "      <td>63</td>\n",
       "      <td>\"Marie Dressler\"</td>\n",
       "      <td>\"Min and Bill\"</td>\n",
       "    </tr>\n",
       "    <tr>\n",
       "      <th>4</th>\n",
       "      <td>1932</td>\n",
       "      <td>32</td>\n",
       "      <td>\"Helen Hayes\"</td>\n",
       "      <td>\"The Sin of Madelon Claudet\"\\t</td>\n",
       "    </tr>\n",
       "    <tr>\n",
       "      <th>...</th>\n",
       "      <td>...</td>\n",
       "      <td>...</td>\n",
       "      <td>...</td>\n",
       "      <td>...</td>\n",
       "    </tr>\n",
       "    <tr>\n",
       "      <th>84</th>\n",
       "      <td>2012</td>\n",
       "      <td>62</td>\n",
       "      <td>\"Meryl Streep\"</td>\n",
       "      <td>\"The Iron Lady\"</td>\n",
       "    </tr>\n",
       "    <tr>\n",
       "      <th>85</th>\n",
       "      <td>2013</td>\n",
       "      <td>22</td>\n",
       "      <td>\"Jennifer Lawrence\"</td>\n",
       "      <td>\"Silver Linings Playbook\"</td>\n",
       "    </tr>\n",
       "    <tr>\n",
       "      <th>86</th>\n",
       "      <td>2014</td>\n",
       "      <td>44</td>\n",
       "      <td>\"Cate Blanchett\"</td>\n",
       "      <td>\"Blue Jasmine\"</td>\n",
       "    </tr>\n",
       "    <tr>\n",
       "      <th>87</th>\n",
       "      <td>2015</td>\n",
       "      <td>54</td>\n",
       "      <td>\"Julianne Moore\"</td>\n",
       "      <td>\"Still Alice\"</td>\n",
       "    </tr>\n",
       "    <tr>\n",
       "      <th>88</th>\n",
       "      <td>2016</td>\n",
       "      <td>26</td>\n",
       "      <td>\"Brie Larson\"</td>\n",
       "      <td>\"Room\"</td>\n",
       "    </tr>\n",
       "  </tbody>\n",
       "</table>\n",
       "<p>89 rows × 4 columns</p>\n",
       "</div>"
      ],
      "text/plain": [
       "     \"Year\"   \"Age\"                \"Name\"                          \"Movie\"\n",
       "0      1928      22        \"Janet Gaynor\"                  \"Seventh Heaven\n",
       "1      1929      37       \"Mary Pickford\"                       \"Coquette\"\n",
       "2      1930      28       \"Norma Shearer\"                 \"The Divorcee\"\\t\n",
       "3      1931      63      \"Marie Dressler\"                   \"Min and Bill\"\n",
       "4      1932      32         \"Helen Hayes\"   \"The Sin of Madelon Claudet\"\\t\n",
       "..      ...     ...                   ...                              ...\n",
       "84     2012      62        \"Meryl Streep\"                  \"The Iron Lady\"\n",
       "85     2013      22   \"Jennifer Lawrence\"        \"Silver Linings Playbook\"\n",
       "86     2014      44      \"Cate Blanchett\"                   \"Blue Jasmine\"\n",
       "87     2015      54      \"Julianne Moore\"                    \"Still Alice\"\n",
       "88     2016      26         \"Brie Larson\"                           \"Room\"\n",
       "\n",
       "[89 rows x 4 columns]"
      ]
     },
     "execution_count": 57,
     "metadata": {},
     "output_type": "execute_result"
    }
   ],
   "source": [
    "female.drop('Index', axis=1, inplace=True)\n",
    "female"
   ]
  },
  {
   "cell_type": "code",
   "execution_count": 58,
   "metadata": {},
   "outputs": [],
   "source": [
    "female['Gend'] = 0"
   ]
  },
  {
   "cell_type": "code",
   "execution_count": 59,
   "metadata": {},
   "outputs": [
    {
     "data": {
      "text/html": [
       "<div>\n",
       "<style scoped>\n",
       "    .dataframe tbody tr th:only-of-type {\n",
       "        vertical-align: middle;\n",
       "    }\n",
       "\n",
       "    .dataframe tbody tr th {\n",
       "        vertical-align: top;\n",
       "    }\n",
       "\n",
       "    .dataframe thead th {\n",
       "        text-align: right;\n",
       "    }\n",
       "</style>\n",
       "<table border=\"1\" class=\"dataframe\">\n",
       "  <thead>\n",
       "    <tr style=\"text-align: right;\">\n",
       "      <th></th>\n",
       "      <th>\"Year\"</th>\n",
       "      <th>\"Age\"</th>\n",
       "      <th>\"Name\"</th>\n",
       "      <th>\"Movie\"</th>\n",
       "    </tr>\n",
       "  </thead>\n",
       "  <tbody>\n",
       "    <tr>\n",
       "      <th>0</th>\n",
       "      <td>1928</td>\n",
       "      <td>44</td>\n",
       "      <td>\"Emil Jannings\"</td>\n",
       "      <td>\"The Last Command</td>\n",
       "    </tr>\n",
       "    <tr>\n",
       "      <th>1</th>\n",
       "      <td>1929</td>\n",
       "      <td>41</td>\n",
       "      <td>\"Warner Baxter\"</td>\n",
       "      <td>\"In Old Arizona\"</td>\n",
       "    </tr>\n",
       "    <tr>\n",
       "      <th>2</th>\n",
       "      <td>1930</td>\n",
       "      <td>62</td>\n",
       "      <td>\"George Arliss\"</td>\n",
       "      <td>\"Disraeli\"</td>\n",
       "    </tr>\n",
       "    <tr>\n",
       "      <th>3</th>\n",
       "      <td>1931</td>\n",
       "      <td>53</td>\n",
       "      <td>\"Lionel Barrymore\"</td>\n",
       "      <td>\"A Free Soul\"</td>\n",
       "    </tr>\n",
       "    <tr>\n",
       "      <th>4</th>\n",
       "      <td>1932</td>\n",
       "      <td>47</td>\n",
       "      <td>\"Wallace Beery\"</td>\n",
       "      <td>\"The Champ\"</td>\n",
       "    </tr>\n",
       "    <tr>\n",
       "      <th>...</th>\n",
       "      <td>...</td>\n",
       "      <td>...</td>\n",
       "      <td>...</td>\n",
       "      <td>...</td>\n",
       "    </tr>\n",
       "    <tr>\n",
       "      <th>84</th>\n",
       "      <td>2012</td>\n",
       "      <td>39</td>\n",
       "      <td>\"Jean Dujardin\"</td>\n",
       "      <td>\"The Artist\"</td>\n",
       "    </tr>\n",
       "    <tr>\n",
       "      <th>85</th>\n",
       "      <td>2013</td>\n",
       "      <td>55</td>\n",
       "      <td>\"Daniel Day-Lewis\"</td>\n",
       "      <td>\"Lincoln\"</td>\n",
       "    </tr>\n",
       "    <tr>\n",
       "      <th>86</th>\n",
       "      <td>2014</td>\n",
       "      <td>44</td>\n",
       "      <td>\"Matthew McConaughey\"</td>\n",
       "      <td>\"Dallas Buyers Club\"</td>\n",
       "    </tr>\n",
       "    <tr>\n",
       "      <th>87</th>\n",
       "      <td>2015</td>\n",
       "      <td>33</td>\n",
       "      <td>\"Eddie Redmayne\"</td>\n",
       "      <td>\"The Theory of Everything\"\\t</td>\n",
       "    </tr>\n",
       "    <tr>\n",
       "      <th>88</th>\n",
       "      <td>2016</td>\n",
       "      <td>41</td>\n",
       "      <td>\"Leonardo DiCaprio\"</td>\n",
       "      <td>\"The Revenant\"</td>\n",
       "    </tr>\n",
       "  </tbody>\n",
       "</table>\n",
       "<p>89 rows × 4 columns</p>\n",
       "</div>"
      ],
      "text/plain": [
       "     \"Year\"   \"Age\"                  \"Name\"                        \"Movie\"\n",
       "0      1928      44         \"Emil Jannings\"              \"The Last Command\n",
       "1      1929      41         \"Warner Baxter\"               \"In Old Arizona\"\n",
       "2      1930      62         \"George Arliss\"                     \"Disraeli\"\n",
       "3      1931      53      \"Lionel Barrymore\"                  \"A Free Soul\"\n",
       "4      1932      47         \"Wallace Beery\"                    \"The Champ\"\n",
       "..      ...     ...                     ...                            ...\n",
       "84     2012      39         \"Jean Dujardin\"                   \"The Artist\"\n",
       "85     2013      55      \"Daniel Day-Lewis\"                      \"Lincoln\"\n",
       "86     2014      44   \"Matthew McConaughey\"           \"Dallas Buyers Club\"\n",
       "87     2015      33        \"Eddie Redmayne\"   \"The Theory of Everything\"\\t\n",
       "88     2016      41     \"Leonardo DiCaprio\"                 \"The Revenant\"\n",
       "\n",
       "[89 rows x 4 columns]"
      ]
     },
     "execution_count": 59,
     "metadata": {},
     "output_type": "execute_result"
    }
   ],
   "source": [
    "male = pd.read_csv('oscar_age_male.csv', index_col=False)\n",
    "male.drop('Index', axis=1, inplace=True)\n",
    "male"
   ]
  },
  {
   "cell_type": "code",
   "execution_count": 60,
   "metadata": {},
   "outputs": [],
   "source": [
    "male['Gend'] = 1"
   ]
  },
  {
   "cell_type": "code",
   "execution_count": 61,
   "metadata": {},
   "outputs": [],
   "source": [
    "oscar = male.append(female)\n",
    "oscar.columns = ['Year', 'Age', 'Name', 'Movie', 'Gend']"
   ]
  },
  {
   "cell_type": "code",
   "execution_count": 62,
   "metadata": {},
   "outputs": [
    {
     "data": {
      "text/plain": [
       "43.87640449438202"
      ]
     },
     "execution_count": 62,
     "metadata": {},
     "output_type": "execute_result"
    }
   ],
   "source": [
    "oscar[oscar['Gend']==1]['Age'].mean()"
   ]
  },
  {
   "cell_type": "code",
   "execution_count": 63,
   "metadata": {},
   "outputs": [
    {
     "data": {
      "text/plain": [
       "36.12359550561798"
      ]
     },
     "execution_count": 63,
     "metadata": {},
     "output_type": "execute_result"
    }
   ],
   "source": [
    "oscar[oscar['Gend']==0]['Age'].mean()"
   ]
  },
  {
   "cell_type": "code",
   "execution_count": 64,
   "metadata": {},
   "outputs": [
    {
     "data": {
      "image/png": "[encoded data removed]",
      "text/plain": [
       "<Figure size 432x288 with 1 Axes>"
      ]
     },
     "metadata": {
      "needs_background": "light"
     },
     "output_type": "display_data"
    }
   ],
   "source": [
    "plt.hist(oscar[oscar['Gend']==1]['Age'], bins=20)\n",
    "plt.grid();"
   ]
  },
  {
   "cell_type": "code",
   "execution_count": 65,
   "metadata": {},
   "outputs": [
    {
     "data": {
      "image/png": "[encoded data removed]",
      "text/plain": [
       "<Figure size 432x288 with 1 Axes>"
      ]
     },
     "metadata": {
      "needs_background": "light"
     },
     "output_type": "display_data"
    }
   ],
   "source": [
    "plt.hist(oscar[oscar['Gend']==0]['Age'], bins=20)\n",
    "plt.grid();"
   ]
  },
  {
   "cell_type": "code",
   "execution_count": 66,
   "metadata": {},
   "outputs": [
    {
     "data": {
      "image/png": "[encoded data removed]",
      "text/plain": [
       "<Figure size 432x288 with 1 Axes>"
      ]
     },
     "metadata": {
      "needs_background": "light"
     },
     "output_type": "display_data"
    }
   ],
   "source": [
    "stats.probplot(oscar[oscar['Gend']==1]['Age'], dist='norm', plot=plt)\n",
    "plt.grid()\n",
    "plt.show()"
   ]
  },
  {
   "cell_type": "code",
   "execution_count": 67,
   "metadata": {},
   "outputs": [
    {
     "data": {
      "image/png": "[encoded data removed]",
      "text/plain": [
       "<Figure size 432x288 with 1 Axes>"
      ]
     },
     "metadata": {
      "needs_background": "light"
     },
     "output_type": "display_data"
    }
   ],
   "source": [
    "stats.probplot(oscar[oscar['Gend']==0]['Age'], dist='norm', plot=plt)\n",
    "plt.grid()\n",
    "plt.show()"
   ]
  },
  {
   "cell_type": "code",
   "execution_count": 69,
   "metadata": {},
   "outputs": [],
   "source": [
    "std_fem = oscar[oscar['Gend']==0]['Age'].std()"
   ]
  },
  {
   "cell_type": "code",
   "execution_count": 70,
   "metadata": {},
   "outputs": [
    {
     "data": {
      "text/plain": [
       "[12.633132789638385, 59.614058221597574]"
      ]
     },
     "execution_count": 70,
     "metadata": {},
     "output_type": "execute_result"
    }
   ],
   "source": [
    "[oscar[oscar['Gend']==0]['Age'].mean() - 2 * std_fem, oscar[oscar['Gend']==0]['Age'].mean() + 2 * std_fem]"
   ]
  },
  {
   "cell_type": "code",
   "execution_count": 71,
   "metadata": {},
   "outputs": [
    {
     "data": {
      "text/plain": [
       "[26.239098410868174, 61.51371057789587]"
      ]
     },
     "execution_count": 71,
     "metadata": {},
     "output_type": "execute_result"
    }
   ],
   "source": [
    "std_m = oscar[oscar['Gend']==1]['Age'].std()\n",
    "[oscar[oscar['Gend']==1]['Age'].mean() - 2 * std_m, oscar[oscar['Gend']==1]['Age'].mean() + 2 * std_m]"
   ]
  }
 ],
 "metadata": {
  "kernelspec": {
   "display_name": "Python 3",
   "language": "python",
   "name": "python3"
  },
  "language_info": {
   "codemirror_mode": {
    "name": "ipython",
    "version": 3
   },
   "file_extension": ".py",
   "mimetype": "text/x-python",
   "name": "python",
   "nbconvert_exporter": "python",
   "pygments_lexer": "ipython3",
   "version": "3.8.5"
  }
 },
 "nbformat": 4,
 "nbformat_minor": 4
}
